{
 "cells": [
  {
   "cell_type": "markdown",
   "metadata": {},
   "source": [
    "                                            IMPORTO LAS LIBRERIAS"
   ]
  },
  {
   "cell_type": "code",
   "execution_count": 57,
   "metadata": {},
   "outputs": [],
   "source": [
    "#importo las librerias\n",
    "import pandas as pd\n",
    "import numpy as np\n",
    "from fuzzywuzzy import fuzz\n",
    "import glob\n",
    "import matplotlib.pyplot as plt\n",
    "import seaborn as sns\n",
    "sns.set()"
   ]
  },
  {
   "cell_type": "markdown",
   "metadata": {},
   "source": [
    "                                            CARGA DE LOS DATASET"
   ]
  },
  {
   "cell_type": "code",
   "execution_count": 100,
   "metadata": {},
   "outputs": [],
   "source": [
    "#cargo los datasets\n",
    "venta = pd.read_csv('../Datasets/Venta.csv')\n",
    "gasto = pd.read_csv('../Datasets/Gasto.csv')\n",
    "compra = pd.read_csv('../Datasets/Compra.csv')\n",
    "localidades = pd.read_csv('../Datasets/Localidades.csv')\n",
    "proveedores = pd.read_csv('../Datasets/Proveedores.csv', encoding='ansi')\n",
    "sucursales = pd.read_csv('../Datasets/Sucursales.csv', delimiter=';')\n",
    "clientes = pd.read_csv('../Datasets/Clientes.csv',encoding = \"utf-8\",delimiter = ';', usecols=[\"ID\",\"Provincia\",\"Nombre_y_Apellido\",\"Domicilio\",\"Telefono\",\"Edad\",\"Localidad\",\"X\",\"Y\",\"col10\"])\n",
    "clientes2 = pd.read_csv('../Datasets/Clientes_v2.csv', delimiter=';')\n",
    "clientes_dic2020 = pd.read_csv('../Datasets/Clientes_Dic2020.csv', delimiter=';')"
   ]
  },
  {
   "cell_type": "markdown",
   "metadata": {},
   "source": [
    "\n",
    "\n",
    "\n",
    "\n"
   ]
  },
  {
   "cell_type": "markdown",
   "metadata": {},
   "source": [
    "# NORMALIZACION DE TABLA VENTA"
   ]
  },
  {
   "cell_type": "markdown",
   "metadata": {},
   "source": [
    "ANALISIS DE LOS DATOS DE LA TABLA:"
   ]
  },
  {
   "cell_type": "code",
   "execution_count": 59,
   "metadata": {},
   "outputs": [],
   "source": [
    "#hago una copia del dataframe original para trabajar con una copia\n",
    "venta2 = venta.copy()"
   ]
  },
  {
   "cell_type": "code",
   "execution_count": 60,
   "metadata": {},
   "outputs": [
    {
     "data": {
      "text/html": [
       "<div>\n",
       "<style scoped>\n",
       "    .dataframe tbody tr th:only-of-type {\n",
       "        vertical-align: middle;\n",
       "    }\n",
       "\n",
       "    .dataframe tbody tr th {\n",
       "        vertical-align: top;\n",
       "    }\n",
       "\n",
       "    .dataframe thead th {\n",
       "        text-align: right;\n",
       "    }\n",
       "</style>\n",
       "<table border=\"1\" class=\"dataframe\">\n",
       "  <thead>\n",
       "    <tr style=\"text-align: right;\">\n",
       "      <th></th>\n",
       "      <th>IdVenta</th>\n",
       "      <th>Fecha</th>\n",
       "      <th>Fecha_Entrega</th>\n",
       "      <th>IdCanal</th>\n",
       "      <th>IdCliente</th>\n",
       "      <th>IdSucursal</th>\n",
       "      <th>IdEmpleado</th>\n",
       "      <th>IdProducto</th>\n",
       "      <th>Precio</th>\n",
       "      <th>Cantidad</th>\n",
       "    </tr>\n",
       "  </thead>\n",
       "  <tbody>\n",
       "    <tr>\n",
       "      <th>0</th>\n",
       "      <td>1</td>\n",
       "      <td>2018-03-09</td>\n",
       "      <td>2018-03-17</td>\n",
       "      <td>3</td>\n",
       "      <td>969</td>\n",
       "      <td>13</td>\n",
       "      <td>1674</td>\n",
       "      <td>42817</td>\n",
       "      <td>813.12</td>\n",
       "      <td>2.0</td>\n",
       "    </tr>\n",
       "    <tr>\n",
       "      <th>1</th>\n",
       "      <td>2</td>\n",
       "      <td>2018-12-28</td>\n",
       "      <td>2018-12-29</td>\n",
       "      <td>2</td>\n",
       "      <td>884</td>\n",
       "      <td>13</td>\n",
       "      <td>1674</td>\n",
       "      <td>42795</td>\n",
       "      <td>543.18</td>\n",
       "      <td>3.0</td>\n",
       "    </tr>\n",
       "    <tr>\n",
       "      <th>2</th>\n",
       "      <td>3</td>\n",
       "      <td>2016-03-28</td>\n",
       "      <td>2016-03-31</td>\n",
       "      <td>2</td>\n",
       "      <td>1722</td>\n",
       "      <td>13</td>\n",
       "      <td>1674</td>\n",
       "      <td>42837</td>\n",
       "      <td>430.32</td>\n",
       "      <td>1.0</td>\n",
       "    </tr>\n",
       "    <tr>\n",
       "      <th>3</th>\n",
       "      <td>4</td>\n",
       "      <td>2017-10-23</td>\n",
       "      <td>2017-10-24</td>\n",
       "      <td>3</td>\n",
       "      <td>2876</td>\n",
       "      <td>13</td>\n",
       "      <td>1674</td>\n",
       "      <td>42834</td>\n",
       "      <td>818.84</td>\n",
       "      <td>2.0</td>\n",
       "    </tr>\n",
       "    <tr>\n",
       "      <th>4</th>\n",
       "      <td>5</td>\n",
       "      <td>2017-11-22</td>\n",
       "      <td>2017-11-25</td>\n",
       "      <td>2</td>\n",
       "      <td>678</td>\n",
       "      <td>13</td>\n",
       "      <td>1674</td>\n",
       "      <td>42825</td>\n",
       "      <td>554.18</td>\n",
       "      <td>3.0</td>\n",
       "    </tr>\n",
       "  </tbody>\n",
       "</table>\n",
       "</div>"
      ],
      "text/plain": [
       "   IdVenta       Fecha Fecha_Entrega  IdCanal  IdCliente  IdSucursal  \\\n",
       "0        1  2018-03-09    2018-03-17        3        969          13   \n",
       "1        2  2018-12-28    2018-12-29        2        884          13   \n",
       "2        3  2016-03-28    2016-03-31        2       1722          13   \n",
       "3        4  2017-10-23    2017-10-24        3       2876          13   \n",
       "4        5  2017-11-22    2017-11-25        2        678          13   \n",
       "\n",
       "   IdEmpleado  IdProducto  Precio  Cantidad  \n",
       "0        1674       42817  813.12       2.0  \n",
       "1        1674       42795  543.18       3.0  \n",
       "2        1674       42837  430.32       1.0  \n",
       "3        1674       42834  818.84       2.0  \n",
       "4        1674       42825  554.18       3.0  "
      ]
     },
     "execution_count": 60,
     "metadata": {},
     "output_type": "execute_result"
    }
   ],
   "source": [
    "#visualizo la tabla venta\n",
    "venta2.head()"
   ]
  },
  {
   "cell_type": "code",
   "execution_count": 61,
   "metadata": {},
   "outputs": [
    {
     "name": "stdout",
     "output_type": "stream",
     "text": [
      "<class 'pandas.core.frame.DataFrame'>\n",
      "RangeIndex: 46180 entries, 0 to 46179\n",
      "Data columns (total 10 columns):\n",
      " #   Column         Non-Null Count  Dtype  \n",
      "---  ------         --------------  -----  \n",
      " 0   IdVenta        46180 non-null  int64  \n",
      " 1   Fecha          46180 non-null  object \n",
      " 2   Fecha_Entrega  46180 non-null  object \n",
      " 3   IdCanal        46180 non-null  int64  \n",
      " 4   IdCliente      46180 non-null  int64  \n",
      " 5   IdSucursal     46180 non-null  int64  \n",
      " 6   IdEmpleado     46180 non-null  int64  \n",
      " 7   IdProducto     46180 non-null  int64  \n",
      " 8   Precio         45260 non-null  float64\n",
      " 9   Cantidad       45296 non-null  float64\n",
      "dtypes: float64(2), int64(6), object(2)\n",
      "memory usage: 3.5+ MB\n"
     ]
    }
   ],
   "source": [
    "#visualizo el tipo de datos, numero de col y filas y los valores nulos\n",
    "venta2.info()"
   ]
  },
  {
   "cell_type": "code",
   "execution_count": 62,
   "metadata": {},
   "outputs": [
    {
     "data": {
      "text/plain": [
       "IdVenta            0\n",
       "Fecha              0\n",
       "Fecha_Entrega      0\n",
       "IdCanal            0\n",
       "IdCliente          0\n",
       "IdSucursal         0\n",
       "IdEmpleado         0\n",
       "IdProducto         0\n",
       "Precio           920\n",
       "Cantidad         884\n",
       "dtype: int64"
      ]
     },
     "execution_count": 62,
     "metadata": {},
     "output_type": "execute_result"
    }
   ],
   "source": [
    "#sumo los valores nulos por columna\n",
    "venta2.isnull().sum()"
   ]
  },
  {
   "cell_type": "markdown",
   "metadata": {},
   "source": []
  },
  {
   "cell_type": "markdown",
   "metadata": {},
   "source": [
    "TRATAMIENTO DE OUTLIERS EN LA COLUMNA PRECIO:"
   ]
  },
  {
   "cell_type": "markdown",
   "metadata": {},
   "source": [
    "Cálculo de outliers "
   ]
  },
  {
   "cell_type": "code",
   "execution_count": 63,
   "metadata": {},
   "outputs": [
    {
     "data": {
      "text/plain": [
       "3815.5"
      ]
     },
     "execution_count": 63,
     "metadata": {},
     "output_type": "execute_result"
    }
   ],
   "source": [
    "#Tratamiento de Outliers\n",
    "Q1 = venta2[\"Precio\"].quantile(0.25)\n",
    "Q3 = venta2[\"Precio\"].quantile(0.75)\n",
    "#Se calcula el rango intercuartilico IQR.\n",
    "IQR = Q3 -Q1\n",
    "outliers_prec = (Q3 + (1.5*IQR))\n",
    "#genero un nuevo dataframe pero sin los valores outliers\n",
    "ventaSinOut = venta2[venta2['Precio']<outliers_prec]\n",
    "outliers_prec #a partir de 3815,5 en adelante son outliers\n"
   ]
  },
  {
   "cell_type": "markdown",
   "metadata": {},
   "source": [
    "Creo una columna outliers_precio para identidicar los outliers con cero"
   ]
  },
  {
   "cell_type": "code",
   "execution_count": 64,
   "metadata": {},
   "outputs": [],
   "source": [
    "#agrego una col nueva con valores de 1\n",
    "venta2['outliers_precio'] = np.ones(venta2.shape[0])\n",
    "#coloco un cero donde el valor de la col Precio es mayor al valor de outlier para identificar los ouliers con cero\n",
    "venta2.loc[(venta2['Precio'] >= outliers_prec),\"outliers_precio\"] = 0"
   ]
  },
  {
   "cell_type": "markdown",
   "metadata": {},
   "source": [
    "Genero una nueva columna Precio2 con los valores agrupados por IdProducto de mi nuevo df de ventas sin outliers"
   ]
  },
  {
   "cell_type": "code",
   "execution_count": 65,
   "metadata": {},
   "outputs": [
    {
     "data": {
      "text/html": [
       "<div>\n",
       "<style scoped>\n",
       "    .dataframe tbody tr th:only-of-type {\n",
       "        vertical-align: middle;\n",
       "    }\n",
       "\n",
       "    .dataframe tbody tr th {\n",
       "        vertical-align: top;\n",
       "    }\n",
       "\n",
       "    .dataframe thead th {\n",
       "        text-align: right;\n",
       "    }\n",
       "</style>\n",
       "<table border=\"1\" class=\"dataframe\">\n",
       "  <thead>\n",
       "    <tr style=\"text-align: right;\">\n",
       "      <th></th>\n",
       "      <th>IdVenta</th>\n",
       "      <th>Fecha</th>\n",
       "      <th>Fecha_Entrega</th>\n",
       "      <th>IdCanal</th>\n",
       "      <th>IdCliente</th>\n",
       "      <th>IdSucursal</th>\n",
       "      <th>IdEmpleado</th>\n",
       "      <th>IdProducto</th>\n",
       "      <th>Precio</th>\n",
       "      <th>Cantidad</th>\n",
       "      <th>outliers_precio</th>\n",
       "      <th>Precio2</th>\n",
       "    </tr>\n",
       "  </thead>\n",
       "  <tbody>\n",
       "    <tr>\n",
       "      <th>0</th>\n",
       "      <td>1</td>\n",
       "      <td>2018-03-09</td>\n",
       "      <td>2018-03-17</td>\n",
       "      <td>3</td>\n",
       "      <td>969</td>\n",
       "      <td>13</td>\n",
       "      <td>1674</td>\n",
       "      <td>42817</td>\n",
       "      <td>813.12</td>\n",
       "      <td>2.0</td>\n",
       "      <td>1.0</td>\n",
       "      <td>813.12</td>\n",
       "    </tr>\n",
       "    <tr>\n",
       "      <th>1</th>\n",
       "      <td>2</td>\n",
       "      <td>2018-12-28</td>\n",
       "      <td>2018-12-29</td>\n",
       "      <td>2</td>\n",
       "      <td>884</td>\n",
       "      <td>13</td>\n",
       "      <td>1674</td>\n",
       "      <td>42795</td>\n",
       "      <td>543.18</td>\n",
       "      <td>3.0</td>\n",
       "      <td>1.0</td>\n",
       "      <td>543.18</td>\n",
       "    </tr>\n",
       "    <tr>\n",
       "      <th>2</th>\n",
       "      <td>3</td>\n",
       "      <td>2016-03-28</td>\n",
       "      <td>2016-03-31</td>\n",
       "      <td>2</td>\n",
       "      <td>1722</td>\n",
       "      <td>13</td>\n",
       "      <td>1674</td>\n",
       "      <td>42837</td>\n",
       "      <td>430.32</td>\n",
       "      <td>1.0</td>\n",
       "      <td>1.0</td>\n",
       "      <td>430.32</td>\n",
       "    </tr>\n",
       "    <tr>\n",
       "      <th>3</th>\n",
       "      <td>4</td>\n",
       "      <td>2017-10-23</td>\n",
       "      <td>2017-10-24</td>\n",
       "      <td>3</td>\n",
       "      <td>2876</td>\n",
       "      <td>13</td>\n",
       "      <td>1674</td>\n",
       "      <td>42834</td>\n",
       "      <td>818.84</td>\n",
       "      <td>2.0</td>\n",
       "      <td>1.0</td>\n",
       "      <td>818.84</td>\n",
       "    </tr>\n",
       "    <tr>\n",
       "      <th>4</th>\n",
       "      <td>5</td>\n",
       "      <td>2017-11-22</td>\n",
       "      <td>2017-11-25</td>\n",
       "      <td>2</td>\n",
       "      <td>678</td>\n",
       "      <td>13</td>\n",
       "      <td>1674</td>\n",
       "      <td>42825</td>\n",
       "      <td>554.18</td>\n",
       "      <td>3.0</td>\n",
       "      <td>1.0</td>\n",
       "      <td>554.18</td>\n",
       "    </tr>\n",
       "  </tbody>\n",
       "</table>\n",
       "</div>"
      ],
      "text/plain": [
       "   IdVenta       Fecha Fecha_Entrega  IdCanal  IdCliente  IdSucursal  \\\n",
       "0        1  2018-03-09    2018-03-17        3        969          13   \n",
       "1        2  2018-12-28    2018-12-29        2        884          13   \n",
       "2        3  2016-03-28    2016-03-31        2       1722          13   \n",
       "3        4  2017-10-23    2017-10-24        3       2876          13   \n",
       "4        5  2017-11-22    2017-11-25        2        678          13   \n",
       "\n",
       "   IdEmpleado  IdProducto  Precio  Cantidad  outliers_precio  Precio2  \n",
       "0        1674       42817  813.12       2.0              1.0   813.12  \n",
       "1        1674       42795  543.18       3.0              1.0   543.18  \n",
       "2        1674       42837  430.32       1.0              1.0   430.32  \n",
       "3        1674       42834  818.84       2.0              1.0   818.84  \n",
       "4        1674       42825  554.18       3.0              1.0   554.18  "
      ]
     },
     "execution_count": 65,
     "metadata": {},
     "output_type": "execute_result"
    }
   ],
   "source": [
    "#agrupo por idproducto para hallar el valor medio de cada producto \n",
    "Precio_Producto = ventaSinOut.groupby(['IdProducto'])['Precio'].mean().reset_index()\n",
    "#renombro la columna precio de mi nuevo df\n",
    "Precio_Producto = Precio_Producto.rename(columns= {\"Precio\":\"Precio2\"})\n",
    "#úno a travez de IdProducto la tabla venta2 con Precio_producto para agregar la col Precio2\n",
    "venta2 = pd.merge(venta2,Precio_Producto, how=\"left\", on=[\"IdProducto\"])\n",
    "#ordeno los valores de IdVenta en forma desc\n",
    "#venta2.sort_values(\"IdVenta\")\n",
    "venta2.head()"
   ]
  },
  {
   "cell_type": "code",
   "execution_count": 66,
   "metadata": {},
   "outputs": [],
   "source": [
    "#inserto en los campos vacios de Precio2 el valor promedio de los precios sin outliers\n",
    "venta2.Precio2.fillna(round(ventaSinOut.Precio.mean(),2),inplace=True)"
   ]
  },
  {
   "cell_type": "code",
   "execution_count": 67,
   "metadata": {},
   "outputs": [],
   "source": [
    "#le coloco un cero a todos los valores nulos de la col Precio\n",
    "venta2.Precio.fillna(0, inplace=True)"
   ]
  },
  {
   "cell_type": "code",
   "execution_count": 68,
   "metadata": {},
   "outputs": [
    {
     "data": {
      "text/html": [
       "<div>\n",
       "<style scoped>\n",
       "    .dataframe tbody tr th:only-of-type {\n",
       "        vertical-align: middle;\n",
       "    }\n",
       "\n",
       "    .dataframe tbody tr th {\n",
       "        vertical-align: top;\n",
       "    }\n",
       "\n",
       "    .dataframe thead th {\n",
       "        text-align: right;\n",
       "    }\n",
       "</style>\n",
       "<table border=\"1\" class=\"dataframe\">\n",
       "  <thead>\n",
       "    <tr style=\"text-align: right;\">\n",
       "      <th></th>\n",
       "      <th>IdVenta</th>\n",
       "      <th>Fecha</th>\n",
       "      <th>Fecha_Entrega</th>\n",
       "      <th>IdCanal</th>\n",
       "      <th>IdCliente</th>\n",
       "      <th>IdSucursal</th>\n",
       "      <th>IdEmpleado</th>\n",
       "      <th>IdProducto</th>\n",
       "      <th>Precio</th>\n",
       "      <th>Cantidad</th>\n",
       "      <th>outliers_precio</th>\n",
       "      <th>Precio2</th>\n",
       "    </tr>\n",
       "  </thead>\n",
       "  <tbody>\n",
       "    <tr>\n",
       "      <th>0</th>\n",
       "      <td>1</td>\n",
       "      <td>2018-03-09</td>\n",
       "      <td>2018-03-17</td>\n",
       "      <td>3</td>\n",
       "      <td>969</td>\n",
       "      <td>13</td>\n",
       "      <td>1674</td>\n",
       "      <td>42817</td>\n",
       "      <td>813.12</td>\n",
       "      <td>2.0</td>\n",
       "      <td>1.0</td>\n",
       "      <td>813.12</td>\n",
       "    </tr>\n",
       "    <tr>\n",
       "      <th>1</th>\n",
       "      <td>2</td>\n",
       "      <td>2018-12-28</td>\n",
       "      <td>2018-12-29</td>\n",
       "      <td>2</td>\n",
       "      <td>884</td>\n",
       "      <td>13</td>\n",
       "      <td>1674</td>\n",
       "      <td>42795</td>\n",
       "      <td>543.18</td>\n",
       "      <td>3.0</td>\n",
       "      <td>1.0</td>\n",
       "      <td>543.18</td>\n",
       "    </tr>\n",
       "    <tr>\n",
       "      <th>2</th>\n",
       "      <td>3</td>\n",
       "      <td>2016-03-28</td>\n",
       "      <td>2016-03-31</td>\n",
       "      <td>2</td>\n",
       "      <td>1722</td>\n",
       "      <td>13</td>\n",
       "      <td>1674</td>\n",
       "      <td>42837</td>\n",
       "      <td>430.32</td>\n",
       "      <td>1.0</td>\n",
       "      <td>1.0</td>\n",
       "      <td>430.32</td>\n",
       "    </tr>\n",
       "    <tr>\n",
       "      <th>3</th>\n",
       "      <td>4</td>\n",
       "      <td>2017-10-23</td>\n",
       "      <td>2017-10-24</td>\n",
       "      <td>3</td>\n",
       "      <td>2876</td>\n",
       "      <td>13</td>\n",
       "      <td>1674</td>\n",
       "      <td>42834</td>\n",
       "      <td>818.84</td>\n",
       "      <td>2.0</td>\n",
       "      <td>1.0</td>\n",
       "      <td>818.84</td>\n",
       "    </tr>\n",
       "    <tr>\n",
       "      <th>4</th>\n",
       "      <td>5</td>\n",
       "      <td>2017-11-22</td>\n",
       "      <td>2017-11-25</td>\n",
       "      <td>2</td>\n",
       "      <td>678</td>\n",
       "      <td>13</td>\n",
       "      <td>1674</td>\n",
       "      <td>42825</td>\n",
       "      <td>554.18</td>\n",
       "      <td>3.0</td>\n",
       "      <td>1.0</td>\n",
       "      <td>554.18</td>\n",
       "    </tr>\n",
       "  </tbody>\n",
       "</table>\n",
       "</div>"
      ],
      "text/plain": [
       "   IdVenta       Fecha Fecha_Entrega  IdCanal  IdCliente  IdSucursal  \\\n",
       "0        1  2018-03-09    2018-03-17        3        969          13   \n",
       "1        2  2018-12-28    2018-12-29        2        884          13   \n",
       "2        3  2016-03-28    2016-03-31        2       1722          13   \n",
       "3        4  2017-10-23    2017-10-24        3       2876          13   \n",
       "4        5  2017-11-22    2017-11-25        2        678          13   \n",
       "\n",
       "   IdEmpleado  IdProducto  Precio  Cantidad  outliers_precio  Precio2  \n",
       "0        1674       42817  813.12       2.0              1.0   813.12  \n",
       "1        1674       42795  543.18       3.0              1.0   543.18  \n",
       "2        1674       42837  430.32       1.0              1.0   430.32  \n",
       "3        1674       42834  818.84       2.0              1.0   818.84  \n",
       "4        1674       42825  554.18       3.0              1.0   554.18  "
      ]
     },
     "execution_count": 68,
     "metadata": {},
     "output_type": "execute_result"
    }
   ],
   "source": [
    "venta2.head()"
   ]
  },
  {
   "cell_type": "markdown",
   "metadata": {},
   "source": [
    "Inserto los valores faltantes en la columna Precio"
   ]
  },
  {
   "cell_type": "code",
   "execution_count": 69,
   "metadata": {},
   "outputs": [],
   "source": [
    "#con un bucle for cambio los valores en la col Precio que son igual a cero o son outliers y les coloco\n",
    "#el valor de la col precio2\n",
    "#for i in range(0,venta2.shape[0]):\n",
    "  #if venta2.Precio[i] == 0 or venta2.Precio[i] >outliers_prec :\n",
    "    #venta2.Precio[i] = venta2.Precio2[i]\n",
    "\n",
    "for i in range(0,venta2.shape[0]):\n",
    "  if venta2.Precio[i] == 0 or venta2.Precio[i]>outliers_prec:\n",
    "    venta2.iloc[i,8]=venta2.iloc[i,11] # 8 es precio, 11 es precio 2"
   ]
  },
  {
   "cell_type": "code",
   "execution_count": 70,
   "metadata": {},
   "outputs": [],
   "source": [
    "#elimino la col Precio2\n",
    "venta2.drop(columns='Precio2', inplace= True)"
   ]
  },
  {
   "cell_type": "code",
   "execution_count": 71,
   "metadata": {},
   "outputs": [
    {
     "ename": "AttributeError",
     "evalue": "Can only use .dt accessor with datetimelike values",
     "output_type": "error",
     "traceback": [
      "\u001b[1;31m---------------------------------------------------------------------------\u001b[0m",
      "\u001b[1;31mAttributeError\u001b[0m                            Traceback (most recent call last)",
      "\u001b[1;32mc:\\Users\\Lea\\Desktop\\DS-PI-ProyectoIndividual\\Datasets\\Normalizacion.ipynb Cell 26'\u001b[0m in \u001b[0;36m<module>\u001b[1;34m\u001b[0m\n\u001b[0;32m      <a href='vscode-notebook-cell:/c%3A/Users/Lea/Desktop/DS-PI-ProyectoIndividual/Datasets/Normalizacion.ipynb#ch0000142?line=0'>1</a>\u001b[0m \u001b[39m# Graficar Ventas por Año\u001b[39;00m\n\u001b[0;32m      <a href='vscode-notebook-cell:/c%3A/Users/Lea/Desktop/DS-PI-ProyectoIndividual/Datasets/Normalizacion.ipynb#ch0000142?line=1'>2</a>\u001b[0m venta2[\u001b[39m'\u001b[39m\u001b[39mTotal\u001b[39m\u001b[39m'\u001b[39m] \u001b[39m=\u001b[39m venta2[\u001b[39m'\u001b[39m\u001b[39mPrecio\u001b[39m\u001b[39m'\u001b[39m] \u001b[39m*\u001b[39m venta2[\u001b[39m'\u001b[39m\u001b[39mCantidad\u001b[39m\u001b[39m'\u001b[39m]\n\u001b[1;32m----> <a href='vscode-notebook-cell:/c%3A/Users/Lea/Desktop/DS-PI-ProyectoIndividual/Datasets/Normalizacion.ipynb#ch0000142?line=2'>3</a>\u001b[0m sns\u001b[39m.\u001b[39mlineplot(data\u001b[39m=\u001b[39mventa2\u001b[39m.\u001b[39mgroupby(venta2\u001b[39m.\u001b[39;49mFecha\u001b[39m.\u001b[39;49mdt\u001b[39m.\u001b[39myear)\u001b[39m.\u001b[39msum(), x\u001b[39m=\u001b[39m\u001b[39m\"\u001b[39m\u001b[39mFecha\u001b[39m\u001b[39m\"\u001b[39m, y\u001b[39m=\u001b[39m\u001b[39m\"\u001b[39m\u001b[39mTotal\u001b[39m\u001b[39m\"\u001b[39m)\u001b[39m.\u001b[39mset_title(\u001b[39m'\u001b[39m\u001b[39mEvolución de Ventas por Año\u001b[39m\u001b[39m'\u001b[39m, fontsize\u001b[39m=\u001b[39m\u001b[39m20\u001b[39m)\n",
      "File \u001b[1;32mc:\\Users\\Lea\\AppData\\Local\\Programs\\Python\\Python39\\lib\\site-packages\\pandas\\core\\generic.py:5583\u001b[0m, in \u001b[0;36mNDFrame.__getattr__\u001b[1;34m(self, name)\u001b[0m\n\u001b[0;32m   5576\u001b[0m \u001b[39mif\u001b[39;00m (\n\u001b[0;32m   5577\u001b[0m     name \u001b[39mnot\u001b[39;00m \u001b[39min\u001b[39;00m \u001b[39mself\u001b[39m\u001b[39m.\u001b[39m_internal_names_set\n\u001b[0;32m   5578\u001b[0m     \u001b[39mand\u001b[39;00m name \u001b[39mnot\u001b[39;00m \u001b[39min\u001b[39;00m \u001b[39mself\u001b[39m\u001b[39m.\u001b[39m_metadata\n\u001b[0;32m   5579\u001b[0m     \u001b[39mand\u001b[39;00m name \u001b[39mnot\u001b[39;00m \u001b[39min\u001b[39;00m \u001b[39mself\u001b[39m\u001b[39m.\u001b[39m_accessors\n\u001b[0;32m   5580\u001b[0m     \u001b[39mand\u001b[39;00m \u001b[39mself\u001b[39m\u001b[39m.\u001b[39m_info_axis\u001b[39m.\u001b[39m_can_hold_identifiers_and_holds_name(name)\n\u001b[0;32m   5581\u001b[0m ):\n\u001b[0;32m   5582\u001b[0m     \u001b[39mreturn\u001b[39;00m \u001b[39mself\u001b[39m[name]\n\u001b[1;32m-> 5583\u001b[0m \u001b[39mreturn\u001b[39;00m \u001b[39mobject\u001b[39;49m\u001b[39m.\u001b[39;49m\u001b[39m__getattribute__\u001b[39;49m(\u001b[39mself\u001b[39;49m, name)\n",
      "File \u001b[1;32mc:\\Users\\Lea\\AppData\\Local\\Programs\\Python\\Python39\\lib\\site-packages\\pandas\\core\\accessor.py:182\u001b[0m, in \u001b[0;36mCachedAccessor.__get__\u001b[1;34m(self, obj, cls)\u001b[0m\n\u001b[0;32m    179\u001b[0m \u001b[39mif\u001b[39;00m obj \u001b[39mis\u001b[39;00m \u001b[39mNone\u001b[39;00m:\n\u001b[0;32m    180\u001b[0m     \u001b[39m# we're accessing the attribute of the class, i.e., Dataset.geo\u001b[39;00m\n\u001b[0;32m    181\u001b[0m     \u001b[39mreturn\u001b[39;00m \u001b[39mself\u001b[39m\u001b[39m.\u001b[39m_accessor\n\u001b[1;32m--> 182\u001b[0m accessor_obj \u001b[39m=\u001b[39m \u001b[39mself\u001b[39;49m\u001b[39m.\u001b[39;49m_accessor(obj)\n\u001b[0;32m    183\u001b[0m \u001b[39m# Replace the property with the accessor object. Inspired by:\u001b[39;00m\n\u001b[0;32m    184\u001b[0m \u001b[39m# https://www.pydanny.com/cached-property.html\u001b[39;00m\n\u001b[0;32m    185\u001b[0m \u001b[39m# We need to use object.__setattr__ because we overwrite __setattr__ on\u001b[39;00m\n\u001b[0;32m    186\u001b[0m \u001b[39m# NDFrame\u001b[39;00m\n\u001b[0;32m    187\u001b[0m \u001b[39mobject\u001b[39m\u001b[39m.\u001b[39m\u001b[39m__setattr__\u001b[39m(obj, \u001b[39mself\u001b[39m\u001b[39m.\u001b[39m_name, accessor_obj)\n",
      "File \u001b[1;32mc:\\Users\\Lea\\AppData\\Local\\Programs\\Python\\Python39\\lib\\site-packages\\pandas\\core\\indexes\\accessors.py:509\u001b[0m, in \u001b[0;36mCombinedDatetimelikeProperties.__new__\u001b[1;34m(cls, data)\u001b[0m\n\u001b[0;32m    506\u001b[0m \u001b[39melif\u001b[39;00m is_period_dtype(data\u001b[39m.\u001b[39mdtype):\n\u001b[0;32m    507\u001b[0m     \u001b[39mreturn\u001b[39;00m PeriodProperties(data, orig)\n\u001b[1;32m--> 509\u001b[0m \u001b[39mraise\u001b[39;00m \u001b[39mAttributeError\u001b[39;00m(\u001b[39m\"\u001b[39m\u001b[39mCan only use .dt accessor with datetimelike values\u001b[39m\u001b[39m\"\u001b[39m)\n",
      "\u001b[1;31mAttributeError\u001b[0m: Can only use .dt accessor with datetimelike values"
     ]
    }
   ],
   "source": [
    "# Graficar Ventas por Año\n",
    "venta2['Total'] = venta2['Precio'] * venta2['Cantidad']\n",
    "sns.lineplot(data=venta2.groupby(venta2.Fecha.dt.year).sum(), x=\"Fecha\", y=\"Total\").set_title('Evolución de Ventas por Año', fontsize=20)"
   ]
  },
  {
   "cell_type": "markdown",
   "metadata": {},
   "source": []
  },
  {
   "cell_type": "markdown",
   "metadata": {},
   "source": [
    "TRATAMIENTO DE OULIERS COLUMNA CANTIDAD:"
   ]
  },
  {
   "cell_type": "markdown",
   "metadata": {},
   "source": [
    "Cálculo de outliers"
   ]
  },
  {
   "cell_type": "code",
   "execution_count": 449,
   "metadata": {},
   "outputs": [
    {
     "data": {
      "text/plain": [
       "4.5"
      ]
     },
     "execution_count": 449,
     "metadata": {},
     "output_type": "execute_result"
    }
   ],
   "source": [
    "#Tratamiento de Outliers columna cantidad\n",
    "Q1 = venta2[\"Cantidad\"].quantile(0.25)\n",
    "Q3 = venta2[\"Cantidad\"].quantile(0.75)\n",
    "#Se calcula el rango intercuartilico IQR.\n",
    "IQR = Q3 -Q1\n",
    "outliers_cant = (Q3 + (1.5*IQR)) \n",
    "ventaCantSinOut = venta2[venta2[\"Cantidad\"]<outliers_cant]\n",
    "outliers_cant #son outliers a partir de 4.5 "
   ]
  },
  {
   "cell_type": "markdown",
   "metadata": {},
   "source": [
    "Creo una columna outliers_cant para identificar los outliers con cero"
   ]
  },
  {
   "cell_type": "code",
   "execution_count": 450,
   "metadata": {},
   "outputs": [],
   "source": [
    "#creo una columna outliers_cant con unos\n",
    "venta2['outliers_cant'] = np.ones(venta2.shape[0])\n",
    "#coloco un cero en la col outliers_cant donde cantidad es mayor o igual a outliers_canti\n",
    "venta2.loc[(venta2['Cantidad'] >= outliers_cant), 'outliers_cant'] = 0"
   ]
  },
  {
   "cell_type": "markdown",
   "metadata": {},
   "source": [
    "Coloco el promedio de cantidad de ventas sin outliers en los outliers de cantidad"
   ]
  },
  {
   "cell_type": "code",
   "execution_count": 451,
   "metadata": {},
   "outputs": [],
   "source": [
    "#saco el promerdio de cantidades de cantiad de ventas sin outliers\n",
    "cantidadMedia = round(ventaCantSinOut.Cantidad.mean())\n",
    "#coloco el valor promedio en cantidad donde cantidad es outlier\n",
    "venta2.loc[(venta2['Cantidad'] >= outliers_cant),\"Cantidad\"] = cantidadMedia #2"
   ]
  },
  {
   "cell_type": "code",
   "execution_count": 452,
   "metadata": {},
   "outputs": [],
   "source": [
    "#coloco un 1 en los valores nulos de la columna Cantidad\n",
    "venta2.Cantidad.fillna(1, inplace=True)"
   ]
  },
  {
   "cell_type": "markdown",
   "metadata": {},
   "source": [
    "Creo una columna Monto para visualizar el monto de cada venta"
   ]
  },
  {
   "cell_type": "code",
   "execution_count": 453,
   "metadata": {},
   "outputs": [],
   "source": [
    "#creo una nueva col con el monto de cada registo de la tabla\n",
    "venta2['Monto'] = venta2['Precio']*venta2['Cantidad']"
   ]
  },
  {
   "cell_type": "markdown",
   "metadata": {},
   "source": []
  },
  {
   "cell_type": "markdown",
   "metadata": {},
   "source": []
  },
  {
   "cell_type": "markdown",
   "metadata": {},
   "source": []
  },
  {
   "cell_type": "markdown",
   "metadata": {},
   "source": [
    "# NORMALIZACION DE LA TABLA COMPRA"
   ]
  },
  {
   "cell_type": "markdown",
   "metadata": {},
   "source": [
    "VISUALIZACION DE LOS DATOS:"
   ]
  },
  {
   "cell_type": "code",
   "execution_count": 454,
   "metadata": {},
   "outputs": [],
   "source": [
    "#genero una copia del dataframe \n",
    "compra2 = compra.copy()"
   ]
  },
  {
   "cell_type": "code",
   "execution_count": 455,
   "metadata": {},
   "outputs": [
    {
     "data": {
      "text/html": [
       "<div>\n",
       "<style scoped>\n",
       "    .dataframe tbody tr th:only-of-type {\n",
       "        vertical-align: middle;\n",
       "    }\n",
       "\n",
       "    .dataframe tbody tr th {\n",
       "        vertical-align: top;\n",
       "    }\n",
       "\n",
       "    .dataframe thead th {\n",
       "        text-align: right;\n",
       "    }\n",
       "</style>\n",
       "<table border=\"1\" class=\"dataframe\">\n",
       "  <thead>\n",
       "    <tr style=\"text-align: right;\">\n",
       "      <th></th>\n",
       "      <th>IdCompra</th>\n",
       "      <th>Fecha</th>\n",
       "      <th>Fecha_Año</th>\n",
       "      <th>Fecha_Mes</th>\n",
       "      <th>Fecha_Periodo</th>\n",
       "      <th>IdProducto</th>\n",
       "      <th>Cantidad</th>\n",
       "      <th>Precio</th>\n",
       "      <th>IdProveedor</th>\n",
       "    </tr>\n",
       "  </thead>\n",
       "  <tbody>\n",
       "    <tr>\n",
       "      <th>0</th>\n",
       "      <td>1</td>\n",
       "      <td>1/30/2015</td>\n",
       "      <td>2015</td>\n",
       "      <td>1</td>\n",
       "      <td>201501</td>\n",
       "      <td>42832</td>\n",
       "      <td>13</td>\n",
       "      <td>560.51</td>\n",
       "      <td>12</td>\n",
       "    </tr>\n",
       "    <tr>\n",
       "      <th>1</th>\n",
       "      <td>2</td>\n",
       "      <td>1/30/2015</td>\n",
       "      <td>2015</td>\n",
       "      <td>1</td>\n",
       "      <td>201501</td>\n",
       "      <td>42833</td>\n",
       "      <td>11</td>\n",
       "      <td>497.58</td>\n",
       "      <td>7</td>\n",
       "    </tr>\n",
       "    <tr>\n",
       "      <th>2</th>\n",
       "      <td>3</td>\n",
       "      <td>1/30/2015</td>\n",
       "      <td>2015</td>\n",
       "      <td>1</td>\n",
       "      <td>201501</td>\n",
       "      <td>42834</td>\n",
       "      <td>1</td>\n",
       "      <td>588.50</td>\n",
       "      <td>6</td>\n",
       "    </tr>\n",
       "    <tr>\n",
       "      <th>3</th>\n",
       "      <td>4</td>\n",
       "      <td>1/30/2015</td>\n",
       "      <td>2015</td>\n",
       "      <td>1</td>\n",
       "      <td>201501</td>\n",
       "      <td>42835</td>\n",
       "      <td>9</td>\n",
       "      <td>567.66</td>\n",
       "      <td>14</td>\n",
       "    </tr>\n",
       "    <tr>\n",
       "      <th>4</th>\n",
       "      <td>5</td>\n",
       "      <td>1/30/2015</td>\n",
       "      <td>2015</td>\n",
       "      <td>1</td>\n",
       "      <td>201501</td>\n",
       "      <td>42839</td>\n",
       "      <td>14</td>\n",
       "      <td>231.31</td>\n",
       "      <td>2</td>\n",
       "    </tr>\n",
       "  </tbody>\n",
       "</table>\n",
       "</div>"
      ],
      "text/plain": [
       "   IdCompra      Fecha  Fecha_Año  Fecha_Mes  Fecha_Periodo  IdProducto  \\\n",
       "0         1  1/30/2015       2015          1         201501       42832   \n",
       "1         2  1/30/2015       2015          1         201501       42833   \n",
       "2         3  1/30/2015       2015          1         201501       42834   \n",
       "3         4  1/30/2015       2015          1         201501       42835   \n",
       "4         5  1/30/2015       2015          1         201501       42839   \n",
       "\n",
       "   Cantidad  Precio  IdProveedor  \n",
       "0        13  560.51           12  \n",
       "1        11  497.58            7  \n",
       "2         1  588.50            6  \n",
       "3         9  567.66           14  \n",
       "4        14  231.31            2  "
      ]
     },
     "execution_count": 455,
     "metadata": {},
     "output_type": "execute_result"
    }
   ],
   "source": [
    "compra2.head()"
   ]
  },
  {
   "cell_type": "code",
   "execution_count": 456,
   "metadata": {},
   "outputs": [
    {
     "name": "stdout",
     "output_type": "stream",
     "text": [
      "<class 'pandas.core.frame.DataFrame'>\n",
      "RangeIndex: 11539 entries, 0 to 11538\n",
      "Data columns (total 9 columns):\n",
      " #   Column         Non-Null Count  Dtype  \n",
      "---  ------         --------------  -----  \n",
      " 0   IdCompra       11539 non-null  int64  \n",
      " 1   Fecha          11539 non-null  object \n",
      " 2   Fecha_Año      11539 non-null  int64  \n",
      " 3   Fecha_Mes      11539 non-null  int64  \n",
      " 4   Fecha_Periodo  11539 non-null  int64  \n",
      " 5   IdProducto     11539 non-null  int64  \n",
      " 6   Cantidad       11539 non-null  int64  \n",
      " 7   Precio         11172 non-null  float64\n",
      " 8   IdProveedor    11539 non-null  int64  \n",
      "dtypes: float64(1), int64(7), object(1)\n",
      "memory usage: 811.5+ KB\n"
     ]
    }
   ],
   "source": [
    "compra2.info()"
   ]
  },
  {
   "cell_type": "code",
   "execution_count": 457,
   "metadata": {},
   "outputs": [
    {
     "data": {
      "text/plain": [
       "IdCompra           0\n",
       "Fecha              0\n",
       "Fecha_Año          0\n",
       "Fecha_Mes          0\n",
       "Fecha_Periodo      0\n",
       "IdProducto         0\n",
       "Cantidad           0\n",
       "Precio           367\n",
       "IdProveedor        0\n",
       "dtype: int64"
      ]
     },
     "execution_count": 457,
     "metadata": {},
     "output_type": "execute_result"
    }
   ],
   "source": [
    "compra2.isnull().sum()"
   ]
  },
  {
   "cell_type": "code",
   "execution_count": 458,
   "metadata": {},
   "outputs": [
    {
     "data": {
      "text/html": [
       "<div>\n",
       "<style scoped>\n",
       "    .dataframe tbody tr th:only-of-type {\n",
       "        vertical-align: middle;\n",
       "    }\n",
       "\n",
       "    .dataframe tbody tr th {\n",
       "        vertical-align: top;\n",
       "    }\n",
       "\n",
       "    .dataframe thead th {\n",
       "        text-align: right;\n",
       "    }\n",
       "</style>\n",
       "<table border=\"1\" class=\"dataframe\">\n",
       "  <thead>\n",
       "    <tr style=\"text-align: right;\">\n",
       "      <th></th>\n",
       "      <th>count</th>\n",
       "      <th>mean</th>\n",
       "      <th>std</th>\n",
       "      <th>min</th>\n",
       "      <th>25%</th>\n",
       "      <th>50%</th>\n",
       "      <th>75%</th>\n",
       "      <th>max</th>\n",
       "    </tr>\n",
       "  </thead>\n",
       "  <tbody>\n",
       "    <tr>\n",
       "      <th>IdCompra</th>\n",
       "      <td>11539.0</td>\n",
       "      <td>5770.000000</td>\n",
       "      <td>3331.166713</td>\n",
       "      <td>1.00</td>\n",
       "      <td>2885.50</td>\n",
       "      <td>5770.000</td>\n",
       "      <td>8654.5000</td>\n",
       "      <td>11539.0</td>\n",
       "    </tr>\n",
       "    <tr>\n",
       "      <th>Fecha_Año</th>\n",
       "      <td>11539.0</td>\n",
       "      <td>2017.671549</td>\n",
       "      <td>1.770288</td>\n",
       "      <td>2015.00</td>\n",
       "      <td>2016.00</td>\n",
       "      <td>2018.000</td>\n",
       "      <td>2019.0000</td>\n",
       "      <td>2020.0</td>\n",
       "    </tr>\n",
       "    <tr>\n",
       "      <th>Fecha_Mes</th>\n",
       "      <td>11539.0</td>\n",
       "      <td>4.570500</td>\n",
       "      <td>3.168731</td>\n",
       "      <td>1.00</td>\n",
       "      <td>1.00</td>\n",
       "      <td>4.000</td>\n",
       "      <td>7.0000</td>\n",
       "      <td>12.0</td>\n",
       "    </tr>\n",
       "    <tr>\n",
       "      <th>Fecha_Periodo</th>\n",
       "      <td>11539.0</td>\n",
       "      <td>201771.725366</td>\n",
       "      <td>177.830326</td>\n",
       "      <td>201501.00</td>\n",
       "      <td>201605.00</td>\n",
       "      <td>201801.000</td>\n",
       "      <td>201908.0000</td>\n",
       "      <td>202012.0</td>\n",
       "    </tr>\n",
       "    <tr>\n",
       "      <th>IdProducto</th>\n",
       "      <td>11539.0</td>\n",
       "      <td>42900.634890</td>\n",
       "      <td>83.539532</td>\n",
       "      <td>42737.00</td>\n",
       "      <td>42832.00</td>\n",
       "      <td>42902.000</td>\n",
       "      <td>42973.0000</td>\n",
       "      <td>43043.0</td>\n",
       "    </tr>\n",
       "    <tr>\n",
       "      <th>Cantidad</th>\n",
       "      <td>11539.0</td>\n",
       "      <td>8.826415</td>\n",
       "      <td>6.412074</td>\n",
       "      <td>1.00</td>\n",
       "      <td>4.00</td>\n",
       "      <td>7.000</td>\n",
       "      <td>12.0000</td>\n",
       "      <td>54.0</td>\n",
       "    </tr>\n",
       "    <tr>\n",
       "      <th>Precio</th>\n",
       "      <td>11172.0</td>\n",
       "      <td>3613.646813</td>\n",
       "      <td>100663.022573</td>\n",
       "      <td>1.86</td>\n",
       "      <td>306.83</td>\n",
       "      <td>463.485</td>\n",
       "      <td>1260.3225</td>\n",
       "      <td>10445800.0</td>\n",
       "    </tr>\n",
       "    <tr>\n",
       "      <th>IdProveedor</th>\n",
       "      <td>11539.0</td>\n",
       "      <td>7.533928</td>\n",
       "      <td>3.770609</td>\n",
       "      <td>1.00</td>\n",
       "      <td>4.00</td>\n",
       "      <td>8.000</td>\n",
       "      <td>11.0000</td>\n",
       "      <td>14.0</td>\n",
       "    </tr>\n",
       "  </tbody>\n",
       "</table>\n",
       "</div>"
      ],
      "text/plain": [
       "                 count           mean            std        min        25%  \\\n",
       "IdCompra       11539.0    5770.000000    3331.166713       1.00    2885.50   \n",
       "Fecha_Año      11539.0    2017.671549       1.770288    2015.00    2016.00   \n",
       "Fecha_Mes      11539.0       4.570500       3.168731       1.00       1.00   \n",
       "Fecha_Periodo  11539.0  201771.725366     177.830326  201501.00  201605.00   \n",
       "IdProducto     11539.0   42900.634890      83.539532   42737.00   42832.00   \n",
       "Cantidad       11539.0       8.826415       6.412074       1.00       4.00   \n",
       "Precio         11172.0    3613.646813  100663.022573       1.86     306.83   \n",
       "IdProveedor    11539.0       7.533928       3.770609       1.00       4.00   \n",
       "\n",
       "                      50%          75%         max  \n",
       "IdCompra         5770.000    8654.5000     11539.0  \n",
       "Fecha_Año        2018.000    2019.0000      2020.0  \n",
       "Fecha_Mes           4.000       7.0000        12.0  \n",
       "Fecha_Periodo  201801.000  201908.0000    202012.0  \n",
       "IdProducto      42902.000   42973.0000     43043.0  \n",
       "Cantidad            7.000      12.0000        54.0  \n",
       "Precio            463.485    1260.3225  10445800.0  \n",
       "IdProveedor         8.000      11.0000        14.0  "
      ]
     },
     "execution_count": 458,
     "metadata": {},
     "output_type": "execute_result"
    }
   ],
   "source": [
    "compra2.describe().T"
   ]
  },
  {
   "cell_type": "markdown",
   "metadata": {},
   "source": []
  },
  {
   "cell_type": "markdown",
   "metadata": {},
   "source": [
    "TRATAMIENTO DE OUTLIERS DE LA COLUMNA PRECIO"
   ]
  },
  {
   "cell_type": "markdown",
   "metadata": {},
   "source": [
    "Deteccion de outliers "
   ]
  },
  {
   "cell_type": "code",
   "execution_count": 459,
   "metadata": {},
   "outputs": [
    {
     "data": {
      "text/plain": [
       "2690.5612499999997"
      ]
     },
     "execution_count": 459,
     "metadata": {},
     "output_type": "execute_result"
    }
   ],
   "source": [
    "#Tratamiento de Outliers\n",
    "Q1 = compra2[\"Precio\"].quantile(0.25)\n",
    "Q3 = compra2[\"Precio\"].quantile(0.75)\n",
    "#Se calcula el rango intercuartilico IQR.\n",
    "IQR = Q3 -Q1\n",
    "outliers_prec = (Q3 + (1.5*IQR)) \n",
    "#genero un nuevo dataframe pero sin los valores outliers\n",
    "compra2SinOut = compra2[compra2[\"Precio\"]<outliers_prec]\n",
    "outliers_prec #a partir de 2690.56 en adelante son outliers"
   ]
  },
  {
   "cell_type": "markdown",
   "metadata": {},
   "source": [
    "Creo una columna outliers_prec para identificar los outliers con un cero"
   ]
  },
  {
   "cell_type": "code",
   "execution_count": 460,
   "metadata": {},
   "outputs": [],
   "source": [
    "compra2['Outliers_prec'] = np.ones(compra2.shape[0])\n",
    "compra2.loc[(compra2['Precio']>= outliers_prec), 'Outliers_prec'] = 0"
   ]
  },
  {
   "cell_type": "markdown",
   "metadata": {},
   "source": [
    "Genero una nueva columna Precio2 con los valores agrupados por IdProducto de mi nuevo df de ventas sin outliers"
   ]
  },
  {
   "cell_type": "code",
   "execution_count": 461,
   "metadata": {},
   "outputs": [],
   "source": [
    "#agrupo por idProducto en la tabla sin outliers y le saco el valor del promedio de cada producto\n",
    "Precio_Producto= compra2.groupby([\"IdProducto\"])[\"Precio\"].mean().reset_index()\n",
    "#renomnbro la columna precio por precio2 en el nuevo dataframe\n",
    "Precio_Producto= Precio_Producto.rename(columns= {\"Precio\":\"Precio2\"})"
   ]
  },
  {
   "cell_type": "code",
   "execution_count": 462,
   "metadata": {},
   "outputs": [
    {
     "data": {
      "text/html": [
       "<div>\n",
       "<style scoped>\n",
       "    .dataframe tbody tr th:only-of-type {\n",
       "        vertical-align: middle;\n",
       "    }\n",
       "\n",
       "    .dataframe tbody tr th {\n",
       "        vertical-align: top;\n",
       "    }\n",
       "\n",
       "    .dataframe thead th {\n",
       "        text-align: right;\n",
       "    }\n",
       "</style>\n",
       "<table border=\"1\" class=\"dataframe\">\n",
       "  <thead>\n",
       "    <tr style=\"text-align: right;\">\n",
       "      <th></th>\n",
       "      <th>IdCompra</th>\n",
       "      <th>Fecha</th>\n",
       "      <th>Fecha_Año</th>\n",
       "      <th>Fecha_Mes</th>\n",
       "      <th>Fecha_Periodo</th>\n",
       "      <th>IdProducto</th>\n",
       "      <th>Cantidad</th>\n",
       "      <th>Precio</th>\n",
       "      <th>IdProveedor</th>\n",
       "      <th>Outliers_prec</th>\n",
       "      <th>Precio2</th>\n",
       "    </tr>\n",
       "  </thead>\n",
       "  <tbody>\n",
       "    <tr>\n",
       "      <th>0</th>\n",
       "      <td>1</td>\n",
       "      <td>1/30/2015</td>\n",
       "      <td>2015</td>\n",
       "      <td>1</td>\n",
       "      <td>201501</td>\n",
       "      <td>42832</td>\n",
       "      <td>13</td>\n",
       "      <td>560.51</td>\n",
       "      <td>12</td>\n",
       "      <td>1.0</td>\n",
       "      <td>2181.913636</td>\n",
       "    </tr>\n",
       "    <tr>\n",
       "      <th>1</th>\n",
       "      <td>2</td>\n",
       "      <td>1/30/2015</td>\n",
       "      <td>2015</td>\n",
       "      <td>1</td>\n",
       "      <td>201501</td>\n",
       "      <td>42833</td>\n",
       "      <td>11</td>\n",
       "      <td>497.58</td>\n",
       "      <td>7</td>\n",
       "      <td>1.0</td>\n",
       "      <td>3057.383261</td>\n",
       "    </tr>\n",
       "    <tr>\n",
       "      <th>2</th>\n",
       "      <td>3</td>\n",
       "      <td>1/30/2015</td>\n",
       "      <td>2015</td>\n",
       "      <td>1</td>\n",
       "      <td>201501</td>\n",
       "      <td>42834</td>\n",
       "      <td>1</td>\n",
       "      <td>588.50</td>\n",
       "      <td>6</td>\n",
       "      <td>1.0</td>\n",
       "      <td>1911.816596</td>\n",
       "    </tr>\n",
       "    <tr>\n",
       "      <th>3</th>\n",
       "      <td>4</td>\n",
       "      <td>1/30/2015</td>\n",
       "      <td>2015</td>\n",
       "      <td>1</td>\n",
       "      <td>201501</td>\n",
       "      <td>42835</td>\n",
       "      <td>9</td>\n",
       "      <td>567.66</td>\n",
       "      <td>14</td>\n",
       "      <td>1.0</td>\n",
       "      <td>2324.104118</td>\n",
       "    </tr>\n",
       "    <tr>\n",
       "      <th>4</th>\n",
       "      <td>5</td>\n",
       "      <td>1/30/2015</td>\n",
       "      <td>2015</td>\n",
       "      <td>1</td>\n",
       "      <td>201501</td>\n",
       "      <td>42839</td>\n",
       "      <td>14</td>\n",
       "      <td>231.31</td>\n",
       "      <td>2</td>\n",
       "      <td>1.0</td>\n",
       "      <td>250.286333</td>\n",
       "    </tr>\n",
       "  </tbody>\n",
       "</table>\n",
       "</div>"
      ],
      "text/plain": [
       "   IdCompra      Fecha  Fecha_Año  Fecha_Mes  Fecha_Periodo  IdProducto  \\\n",
       "0         1  1/30/2015       2015          1         201501       42832   \n",
       "1         2  1/30/2015       2015          1         201501       42833   \n",
       "2         3  1/30/2015       2015          1         201501       42834   \n",
       "3         4  1/30/2015       2015          1         201501       42835   \n",
       "4         5  1/30/2015       2015          1         201501       42839   \n",
       "\n",
       "   Cantidad  Precio  IdProveedor  Outliers_prec      Precio2  \n",
       "0        13  560.51           12            1.0  2181.913636  \n",
       "1        11  497.58            7            1.0  3057.383261  \n",
       "2         1  588.50            6            1.0  1911.816596  \n",
       "3         9  567.66           14            1.0  2324.104118  \n",
       "4        14  231.31            2            1.0   250.286333  "
      ]
     },
     "execution_count": 462,
     "metadata": {},
     "output_type": "execute_result"
    }
   ],
   "source": [
    "#hago una union a travez de IdProducto \n",
    "compra2 = pd.merge(compra2,Precio_Producto, how=\"left\", on=[\"IdProducto\"])\n",
    "#ordeno los valores de IdVenta en forma desc\n",
    "#compra2.sort_values(\"IdCompra\")\n",
    "compra2.head()"
   ]
  },
  {
   "cell_type": "code",
   "execution_count": 463,
   "metadata": {},
   "outputs": [],
   "source": [
    "#inserto en los campos vacios de Precio2 el valor promedio de los precios sin outliers\n",
    "compra2.Precio2.fillna(compra2SinOut.Precio.mean(),inplace=True)"
   ]
  },
  {
   "cell_type": "code",
   "execution_count": 464,
   "metadata": {},
   "outputs": [],
   "source": [
    "#coloco un cero en los valores nulos de la columna precio\n",
    "compra2.Precio.fillna(0, inplace=True)"
   ]
  },
  {
   "cell_type": "code",
   "execution_count": 465,
   "metadata": {},
   "outputs": [
    {
     "data": {
      "text/html": [
       "<div>\n",
       "<style scoped>\n",
       "    .dataframe tbody tr th:only-of-type {\n",
       "        vertical-align: middle;\n",
       "    }\n",
       "\n",
       "    .dataframe tbody tr th {\n",
       "        vertical-align: top;\n",
       "    }\n",
       "\n",
       "    .dataframe thead th {\n",
       "        text-align: right;\n",
       "    }\n",
       "</style>\n",
       "<table border=\"1\" class=\"dataframe\">\n",
       "  <thead>\n",
       "    <tr style=\"text-align: right;\">\n",
       "      <th></th>\n",
       "      <th>IdCompra</th>\n",
       "      <th>Fecha</th>\n",
       "      <th>Fecha_Año</th>\n",
       "      <th>Fecha_Mes</th>\n",
       "      <th>Fecha_Periodo</th>\n",
       "      <th>IdProducto</th>\n",
       "      <th>Cantidad</th>\n",
       "      <th>Precio</th>\n",
       "      <th>IdProveedor</th>\n",
       "      <th>Outliers_prec</th>\n",
       "      <th>Precio2</th>\n",
       "    </tr>\n",
       "  </thead>\n",
       "  <tbody>\n",
       "    <tr>\n",
       "      <th>0</th>\n",
       "      <td>1</td>\n",
       "      <td>1/30/2015</td>\n",
       "      <td>2015</td>\n",
       "      <td>1</td>\n",
       "      <td>201501</td>\n",
       "      <td>42832</td>\n",
       "      <td>13</td>\n",
       "      <td>560.51</td>\n",
       "      <td>12</td>\n",
       "      <td>1.0</td>\n",
       "      <td>2181.913636</td>\n",
       "    </tr>\n",
       "    <tr>\n",
       "      <th>1</th>\n",
       "      <td>2</td>\n",
       "      <td>1/30/2015</td>\n",
       "      <td>2015</td>\n",
       "      <td>1</td>\n",
       "      <td>201501</td>\n",
       "      <td>42833</td>\n",
       "      <td>11</td>\n",
       "      <td>497.58</td>\n",
       "      <td>7</td>\n",
       "      <td>1.0</td>\n",
       "      <td>3057.383261</td>\n",
       "    </tr>\n",
       "    <tr>\n",
       "      <th>2</th>\n",
       "      <td>3</td>\n",
       "      <td>1/30/2015</td>\n",
       "      <td>2015</td>\n",
       "      <td>1</td>\n",
       "      <td>201501</td>\n",
       "      <td>42834</td>\n",
       "      <td>1</td>\n",
       "      <td>588.50</td>\n",
       "      <td>6</td>\n",
       "      <td>1.0</td>\n",
       "      <td>1911.816596</td>\n",
       "    </tr>\n",
       "    <tr>\n",
       "      <th>3</th>\n",
       "      <td>4</td>\n",
       "      <td>1/30/2015</td>\n",
       "      <td>2015</td>\n",
       "      <td>1</td>\n",
       "      <td>201501</td>\n",
       "      <td>42835</td>\n",
       "      <td>9</td>\n",
       "      <td>567.66</td>\n",
       "      <td>14</td>\n",
       "      <td>1.0</td>\n",
       "      <td>2324.104118</td>\n",
       "    </tr>\n",
       "    <tr>\n",
       "      <th>4</th>\n",
       "      <td>5</td>\n",
       "      <td>1/30/2015</td>\n",
       "      <td>2015</td>\n",
       "      <td>1</td>\n",
       "      <td>201501</td>\n",
       "      <td>42839</td>\n",
       "      <td>14</td>\n",
       "      <td>231.31</td>\n",
       "      <td>2</td>\n",
       "      <td>1.0</td>\n",
       "      <td>250.286333</td>\n",
       "    </tr>\n",
       "  </tbody>\n",
       "</table>\n",
       "</div>"
      ],
      "text/plain": [
       "   IdCompra      Fecha  Fecha_Año  Fecha_Mes  Fecha_Periodo  IdProducto  \\\n",
       "0         1  1/30/2015       2015          1         201501       42832   \n",
       "1         2  1/30/2015       2015          1         201501       42833   \n",
       "2         3  1/30/2015       2015          1         201501       42834   \n",
       "3         4  1/30/2015       2015          1         201501       42835   \n",
       "4         5  1/30/2015       2015          1         201501       42839   \n",
       "\n",
       "   Cantidad  Precio  IdProveedor  Outliers_prec      Precio2  \n",
       "0        13  560.51           12            1.0  2181.913636  \n",
       "1        11  497.58            7            1.0  3057.383261  \n",
       "2         1  588.50            6            1.0  1911.816596  \n",
       "3         9  567.66           14            1.0  2324.104118  \n",
       "4        14  231.31            2            1.0   250.286333  "
      ]
     },
     "execution_count": 465,
     "metadata": {},
     "output_type": "execute_result"
    }
   ],
   "source": [
    "compra2.head()"
   ]
  },
  {
   "cell_type": "code",
   "execution_count": 466,
   "metadata": {},
   "outputs": [],
   "source": [
    "#coloco los valores faltantes y outliers de la columna precio usando los valores de la columna precio2\n",
    "#for i in range(0,compra2.shape[0]):\n",
    "    #if compra2.Precio[i] == 0 or compra2.Precio[i] > outliers_prec:\n",
    "        #compra2.Precio[i] = compra2.Precio2[i]\n",
    "\n",
    "#Este bucle reemplaza los ceros y outliers por los valores promedios \n",
    "for i in range(0,compra2.shape[0]):\n",
    "    if compra2.Precio[i] == 0 or compra2.Precio[i]>outliers_prec:\n",
    "        compra2.iloc[i,7]=compra2.iloc[i,10] # 7 es precio, 10 es precio 2"
   ]
  },
  {
   "cell_type": "code",
   "execution_count": 467,
   "metadata": {},
   "outputs": [],
   "source": [
    "#elimino la columna 'Precio2'\n",
    "compra2.drop(columns='Precio2', inplace= True)"
   ]
  },
  {
   "cell_type": "markdown",
   "metadata": {},
   "source": [
    "TRATAMIENTO DE OUTLIERS DE LA COLUMNA CANTIDAD"
   ]
  },
  {
   "cell_type": "markdown",
   "metadata": {},
   "source": [
    "Deteccion de outliers "
   ]
  },
  {
   "cell_type": "code",
   "execution_count": 468,
   "metadata": {},
   "outputs": [],
   "source": [
    "#Se calcula el rango intercuartilico IQR.\n",
    "Q1 = compra2[\"Cantidad\"].quantile(0.25)\n",
    "Q3 = compra2[\"Cantidad\"].quantile(0.75)\n",
    "IQR = Q3 -Q1\n",
    "outliersSup = (Q3 + (1.5*IQR)) \n",
    "# se crea un df sin outliers, se calcula la media de compras,y se imputan como valor en los casos que sean outliers.\n",
    "compraCantSinOut = compra[compra2[\"Cantidad\"]<outliersSup]\n",
    "cantidadMedia = round(compraCantSinOut.Cantidad.mean())\n",
    "compra2.loc[(compra2['Cantidad'] >= outliersSup),\"Cantidad\"] = cantidadMedia #8"
   ]
  },
  {
   "cell_type": "markdown",
   "metadata": {},
   "source": [
    "Creo una columna para identificar los outliers con ceros"
   ]
  },
  {
   "cell_type": "code",
   "execution_count": 469,
   "metadata": {},
   "outputs": [
    {
     "name": "stderr",
     "output_type": "stream",
     "text": [
      "C:\\Users\\Lea\\AppData\\Local\\Temp\\ipykernel_17532\\3734470604.py:4: SettingWithCopyWarning: \n",
      "A value is trying to be set on a copy of a slice from a DataFrame\n",
      "\n",
      "See the caveats in the documentation: https://pandas.pydata.org/pandas-docs/stable/user_guide/indexing.html#returning-a-view-versus-a-copy\n",
      "  compra2[\"Outliers_cant\"].loc[(compra2['Cantidad'] >= outliersSup)] = 0\n"
     ]
    }
   ],
   "source": [
    "#creo una columna outliers y la completo con unos\n",
    "compra2['Outliers_cant'] = np.ones(compra2.shape[0])\n",
    "#coloco un cero donde el valor de la col Precio es mayor al valor de outlier para identificar los ouliers con cero\n",
    "compra2[\"Outliers_cant\"].loc[(compra2['Cantidad'] >= outliersSup)] = 0"
   ]
  },
  {
   "cell_type": "code",
   "execution_count": 470,
   "metadata": {},
   "outputs": [],
   "source": [
    "compra2['Total'] = compra2['Precio']*compra2['Cantidad']"
   ]
  },
  {
   "cell_type": "code",
   "execution_count": 471,
   "metadata": {},
   "outputs": [
    {
     "data": {
      "text/html": [
       "<div>\n",
       "<style scoped>\n",
       "    .dataframe tbody tr th:only-of-type {\n",
       "        vertical-align: middle;\n",
       "    }\n",
       "\n",
       "    .dataframe tbody tr th {\n",
       "        vertical-align: top;\n",
       "    }\n",
       "\n",
       "    .dataframe thead th {\n",
       "        text-align: right;\n",
       "    }\n",
       "</style>\n",
       "<table border=\"1\" class=\"dataframe\">\n",
       "  <thead>\n",
       "    <tr style=\"text-align: right;\">\n",
       "      <th></th>\n",
       "      <th>IdCompra</th>\n",
       "      <th>Fecha</th>\n",
       "      <th>Fecha_Año</th>\n",
       "      <th>Fecha_Mes</th>\n",
       "      <th>Fecha_Periodo</th>\n",
       "      <th>IdProducto</th>\n",
       "      <th>Cantidad</th>\n",
       "      <th>Precio</th>\n",
       "      <th>IdProveedor</th>\n",
       "      <th>Outliers_prec</th>\n",
       "      <th>Outliers_cant</th>\n",
       "      <th>Total</th>\n",
       "    </tr>\n",
       "  </thead>\n",
       "  <tbody>\n",
       "    <tr>\n",
       "      <th>0</th>\n",
       "      <td>1</td>\n",
       "      <td>1/30/2015</td>\n",
       "      <td>2015</td>\n",
       "      <td>1</td>\n",
       "      <td>201501</td>\n",
       "      <td>42832</td>\n",
       "      <td>13</td>\n",
       "      <td>560.51</td>\n",
       "      <td>12</td>\n",
       "      <td>1.0</td>\n",
       "      <td>1.0</td>\n",
       "      <td>7286.63</td>\n",
       "    </tr>\n",
       "    <tr>\n",
       "      <th>1</th>\n",
       "      <td>2</td>\n",
       "      <td>1/30/2015</td>\n",
       "      <td>2015</td>\n",
       "      <td>1</td>\n",
       "      <td>201501</td>\n",
       "      <td>42833</td>\n",
       "      <td>11</td>\n",
       "      <td>497.58</td>\n",
       "      <td>7</td>\n",
       "      <td>1.0</td>\n",
       "      <td>1.0</td>\n",
       "      <td>5473.38</td>\n",
       "    </tr>\n",
       "    <tr>\n",
       "      <th>2</th>\n",
       "      <td>3</td>\n",
       "      <td>1/30/2015</td>\n",
       "      <td>2015</td>\n",
       "      <td>1</td>\n",
       "      <td>201501</td>\n",
       "      <td>42834</td>\n",
       "      <td>1</td>\n",
       "      <td>588.50</td>\n",
       "      <td>6</td>\n",
       "      <td>1.0</td>\n",
       "      <td>1.0</td>\n",
       "      <td>588.50</td>\n",
       "    </tr>\n",
       "    <tr>\n",
       "      <th>3</th>\n",
       "      <td>4</td>\n",
       "      <td>1/30/2015</td>\n",
       "      <td>2015</td>\n",
       "      <td>1</td>\n",
       "      <td>201501</td>\n",
       "      <td>42835</td>\n",
       "      <td>9</td>\n",
       "      <td>567.66</td>\n",
       "      <td>14</td>\n",
       "      <td>1.0</td>\n",
       "      <td>1.0</td>\n",
       "      <td>5108.94</td>\n",
       "    </tr>\n",
       "    <tr>\n",
       "      <th>4</th>\n",
       "      <td>5</td>\n",
       "      <td>1/30/2015</td>\n",
       "      <td>2015</td>\n",
       "      <td>1</td>\n",
       "      <td>201501</td>\n",
       "      <td>42839</td>\n",
       "      <td>14</td>\n",
       "      <td>231.31</td>\n",
       "      <td>2</td>\n",
       "      <td>1.0</td>\n",
       "      <td>1.0</td>\n",
       "      <td>3238.34</td>\n",
       "    </tr>\n",
       "  </tbody>\n",
       "</table>\n",
       "</div>"
      ],
      "text/plain": [
       "   IdCompra      Fecha  Fecha_Año  Fecha_Mes  Fecha_Periodo  IdProducto  \\\n",
       "0         1  1/30/2015       2015          1         201501       42832   \n",
       "1         2  1/30/2015       2015          1         201501       42833   \n",
       "2         3  1/30/2015       2015          1         201501       42834   \n",
       "3         4  1/30/2015       2015          1         201501       42835   \n",
       "4         5  1/30/2015       2015          1         201501       42839   \n",
       "\n",
       "   Cantidad  Precio  IdProveedor  Outliers_prec  Outliers_cant    Total  \n",
       "0        13  560.51           12            1.0            1.0  7286.63  \n",
       "1        11  497.58            7            1.0            1.0  5473.38  \n",
       "2         1  588.50            6            1.0            1.0   588.50  \n",
       "3         9  567.66           14            1.0            1.0  5108.94  \n",
       "4        14  231.31            2            1.0            1.0  3238.34  "
      ]
     },
     "execution_count": 471,
     "metadata": {},
     "output_type": "execute_result"
    }
   ],
   "source": [
    "compra2.head()"
   ]
  },
  {
   "cell_type": "markdown",
   "metadata": {},
   "source": []
  },
  {
   "cell_type": "markdown",
   "metadata": {},
   "source": []
  },
  {
   "cell_type": "markdown",
   "metadata": {},
   "source": [
    "# NORMALIZACION DE TABLA LOCALIDADES"
   ]
  },
  {
   "cell_type": "markdown",
   "metadata": {},
   "source": [
    "VISUALIZACION DE DATOS:"
   ]
  },
  {
   "cell_type": "code",
   "execution_count": 358,
   "metadata": {},
   "outputs": [],
   "source": [
    "localidades2 = localidades.copy()"
   ]
  },
  {
   "cell_type": "code",
   "execution_count": 359,
   "metadata": {},
   "outputs": [
    {
     "data": {
      "text/html": [
       "<div>\n",
       "<style scoped>\n",
       "    .dataframe tbody tr th:only-of-type {\n",
       "        vertical-align: middle;\n",
       "    }\n",
       "\n",
       "    .dataframe tbody tr th {\n",
       "        vertical-align: top;\n",
       "    }\n",
       "\n",
       "    .dataframe thead th {\n",
       "        text-align: right;\n",
       "    }\n",
       "</style>\n",
       "<table border=\"1\" class=\"dataframe\">\n",
       "  <thead>\n",
       "    <tr style=\"text-align: right;\">\n",
       "      <th></th>\n",
       "      <th>categoria</th>\n",
       "      <th>centroide_lat</th>\n",
       "      <th>centroide_lon</th>\n",
       "      <th>departamento_id</th>\n",
       "      <th>departamento_nombre</th>\n",
       "      <th>fuente</th>\n",
       "      <th>id</th>\n",
       "      <th>localidad_censal_id</th>\n",
       "      <th>localidad_censal_nombre</th>\n",
       "      <th>municipio_id</th>\n",
       "      <th>municipio_nombre</th>\n",
       "      <th>nombre</th>\n",
       "      <th>provincia_id</th>\n",
       "      <th>provincia_nombre</th>\n",
       "    </tr>\n",
       "  </thead>\n",
       "  <tbody>\n",
       "    <tr>\n",
       "      <th>0</th>\n",
       "      <td>Localidad simple</td>\n",
       "      <td>-35.033073</td>\n",
       "      <td>-60.280620</td>\n",
       "      <td>6021.0</td>\n",
       "      <td>Alberti</td>\n",
       "      <td>INDEC</td>\n",
       "      <td>6021010000</td>\n",
       "      <td>6021010</td>\n",
       "      <td>Alberti</td>\n",
       "      <td>60021.0</td>\n",
       "      <td>Alberti</td>\n",
       "      <td>ALBERTI</td>\n",
       "      <td>6</td>\n",
       "      <td>Buenos Aires</td>\n",
       "    </tr>\n",
       "    <tr>\n",
       "      <th>1</th>\n",
       "      <td>Localidad simple</td>\n",
       "      <td>-34.868119</td>\n",
       "      <td>-60.393971</td>\n",
       "      <td>6021.0</td>\n",
       "      <td>Alberti</td>\n",
       "      <td>INDEC</td>\n",
       "      <td>6021020000</td>\n",
       "      <td>6021020</td>\n",
       "      <td>Coronel Seguí</td>\n",
       "      <td>60021.0</td>\n",
       "      <td>Alberti</td>\n",
       "      <td>CORONEL SEGUI</td>\n",
       "      <td>6</td>\n",
       "      <td>Buenos Aires</td>\n",
       "    </tr>\n",
       "    <tr>\n",
       "      <th>2</th>\n",
       "      <td>Componente de localidad compuesta</td>\n",
       "      <td>-35.068014</td>\n",
       "      <td>-60.402597</td>\n",
       "      <td>6021.0</td>\n",
       "      <td>Alberti</td>\n",
       "      <td>INDEC</td>\n",
       "      <td>6021030000</td>\n",
       "      <td>6021030</td>\n",
       "      <td>Mechita</td>\n",
       "      <td>60021.0</td>\n",
       "      <td>Alberti</td>\n",
       "      <td>MECHITA</td>\n",
       "      <td>6</td>\n",
       "      <td>Buenos Aires</td>\n",
       "    </tr>\n",
       "    <tr>\n",
       "      <th>3</th>\n",
       "      <td>Localidad simple</td>\n",
       "      <td>-35.124382</td>\n",
       "      <td>-60.220061</td>\n",
       "      <td>6021.0</td>\n",
       "      <td>Alberti</td>\n",
       "      <td>INDEC</td>\n",
       "      <td>6021040000</td>\n",
       "      <td>6021040</td>\n",
       "      <td>Pla</td>\n",
       "      <td>60021.0</td>\n",
       "      <td>Alberti</td>\n",
       "      <td>PLA</td>\n",
       "      <td>6</td>\n",
       "      <td>Buenos Aires</td>\n",
       "    </tr>\n",
       "    <tr>\n",
       "      <th>4</th>\n",
       "      <td>Localidad simple</td>\n",
       "      <td>-35.109618</td>\n",
       "      <td>-60.070551</td>\n",
       "      <td>6021.0</td>\n",
       "      <td>Alberti</td>\n",
       "      <td>INDEC</td>\n",
       "      <td>6021050000</td>\n",
       "      <td>6021050</td>\n",
       "      <td>Villa Grisolía</td>\n",
       "      <td>60021.0</td>\n",
       "      <td>Alberti</td>\n",
       "      <td>VILLA GRISOLIA</td>\n",
       "      <td>6</td>\n",
       "      <td>Buenos Aires</td>\n",
       "    </tr>\n",
       "  </tbody>\n",
       "</table>\n",
       "</div>"
      ],
      "text/plain": [
       "                           categoria  centroide_lat  centroide_lon  \\\n",
       "0                   Localidad simple     -35.033073     -60.280620   \n",
       "1                   Localidad simple     -34.868119     -60.393971   \n",
       "2  Componente de localidad compuesta     -35.068014     -60.402597   \n",
       "3                   Localidad simple     -35.124382     -60.220061   \n",
       "4                   Localidad simple     -35.109618     -60.070551   \n",
       "\n",
       "   departamento_id departamento_nombre fuente          id  \\\n",
       "0           6021.0             Alberti  INDEC  6021010000   \n",
       "1           6021.0             Alberti  INDEC  6021020000   \n",
       "2           6021.0             Alberti  INDEC  6021030000   \n",
       "3           6021.0             Alberti  INDEC  6021040000   \n",
       "4           6021.0             Alberti  INDEC  6021050000   \n",
       "\n",
       "   localidad_censal_id localidad_censal_nombre  municipio_id municipio_nombre  \\\n",
       "0              6021010                 Alberti       60021.0          Alberti   \n",
       "1              6021020           Coronel Seguí       60021.0          Alberti   \n",
       "2              6021030                 Mechita       60021.0          Alberti   \n",
       "3              6021040                     Pla       60021.0          Alberti   \n",
       "4              6021050          Villa Grisolía       60021.0          Alberti   \n",
       "\n",
       "           nombre  provincia_id provincia_nombre  \n",
       "0         ALBERTI             6     Buenos Aires  \n",
       "1   CORONEL SEGUI             6     Buenos Aires  \n",
       "2         MECHITA             6     Buenos Aires  \n",
       "3             PLA             6     Buenos Aires  \n",
       "4  VILLA GRISOLIA             6     Buenos Aires  "
      ]
     },
     "execution_count": 359,
     "metadata": {},
     "output_type": "execute_result"
    }
   ],
   "source": [
    "localidades2.head()"
   ]
  },
  {
   "cell_type": "code",
   "execution_count": 360,
   "metadata": {},
   "outputs": [
    {
     "data": {
      "text/plain": [
       "categoria                    0\n",
       "centroide_lat                0\n",
       "centroide_lon                0\n",
       "departamento_id              1\n",
       "departamento_nombre          1\n",
       "fuente                       0\n",
       "id                           0\n",
       "localidad_censal_id          0\n",
       "localidad_censal_nombre      0\n",
       "municipio_id               543\n",
       "municipio_nombre           494\n",
       "nombre                       0\n",
       "provincia_id                 0\n",
       "provincia_nombre             0\n",
       "dtype: int64"
      ]
     },
     "execution_count": 360,
     "metadata": {},
     "output_type": "execute_result"
    }
   ],
   "source": [
    "localidades2.isnull().sum()"
   ]
  },
  {
   "cell_type": "code",
   "execution_count": 361,
   "metadata": {},
   "outputs": [],
   "source": [
    "localidades2[\"nombre\"]=localidades2.apply(lambda x: \"Ciudad de Buenos Aires\" if x[\"municipio_nombre\"]==\"Capital Federal\"  else x[\"nombre\"], axis=1)"
   ]
  },
  {
   "cell_type": "code",
   "execution_count": 362,
   "metadata": {},
   "outputs": [],
   "source": [
    "#renombro las columnas siguientes\n",
    "localidades2 = localidades2.rename(columns={'centroide_lat':'Latitud','centroide_lon':'Longitud','departamento_id':'IdDepartamento','id':'IdLocalidad','nombre':'Localidad', 'provincia_id':'IdProvincia','provincia_nombre':'Provincia'})"
   ]
  },
  {
   "cell_type": "code",
   "execution_count": 363,
   "metadata": {},
   "outputs": [
    {
     "data": {
      "text/html": [
       "<div>\n",
       "<style scoped>\n",
       "    .dataframe tbody tr th:only-of-type {\n",
       "        vertical-align: middle;\n",
       "    }\n",
       "\n",
       "    .dataframe tbody tr th {\n",
       "        vertical-align: top;\n",
       "    }\n",
       "\n",
       "    .dataframe thead th {\n",
       "        text-align: right;\n",
       "    }\n",
       "</style>\n",
       "<table border=\"1\" class=\"dataframe\">\n",
       "  <thead>\n",
       "    <tr style=\"text-align: right;\">\n",
       "      <th></th>\n",
       "      <th>categoria</th>\n",
       "      <th>Latitud</th>\n",
       "      <th>Longitud</th>\n",
       "      <th>IdDepartamento</th>\n",
       "      <th>departamento_nombre</th>\n",
       "      <th>fuente</th>\n",
       "      <th>IdLocalidad</th>\n",
       "      <th>localidad_censal_id</th>\n",
       "      <th>localidad_censal_nombre</th>\n",
       "      <th>municipio_id</th>\n",
       "      <th>municipio_nombre</th>\n",
       "      <th>Localidad</th>\n",
       "      <th>IdProvincia</th>\n",
       "      <th>Provincia</th>\n",
       "    </tr>\n",
       "  </thead>\n",
       "  <tbody>\n",
       "    <tr>\n",
       "      <th>0</th>\n",
       "      <td>Localidad simple</td>\n",
       "      <td>-35.033073</td>\n",
       "      <td>-60.280620</td>\n",
       "      <td>6021.0</td>\n",
       "      <td>Alberti</td>\n",
       "      <td>INDEC</td>\n",
       "      <td>6021010000</td>\n",
       "      <td>6021010</td>\n",
       "      <td>Alberti</td>\n",
       "      <td>60021.0</td>\n",
       "      <td>Alberti</td>\n",
       "      <td>ALBERTI</td>\n",
       "      <td>6</td>\n",
       "      <td>Buenos Aires</td>\n",
       "    </tr>\n",
       "    <tr>\n",
       "      <th>1</th>\n",
       "      <td>Localidad simple</td>\n",
       "      <td>-34.868119</td>\n",
       "      <td>-60.393971</td>\n",
       "      <td>6021.0</td>\n",
       "      <td>Alberti</td>\n",
       "      <td>INDEC</td>\n",
       "      <td>6021020000</td>\n",
       "      <td>6021020</td>\n",
       "      <td>Coronel Seguí</td>\n",
       "      <td>60021.0</td>\n",
       "      <td>Alberti</td>\n",
       "      <td>CORONEL SEGUI</td>\n",
       "      <td>6</td>\n",
       "      <td>Buenos Aires</td>\n",
       "    </tr>\n",
       "    <tr>\n",
       "      <th>2</th>\n",
       "      <td>Componente de localidad compuesta</td>\n",
       "      <td>-35.068014</td>\n",
       "      <td>-60.402597</td>\n",
       "      <td>6021.0</td>\n",
       "      <td>Alberti</td>\n",
       "      <td>INDEC</td>\n",
       "      <td>6021030000</td>\n",
       "      <td>6021030</td>\n",
       "      <td>Mechita</td>\n",
       "      <td>60021.0</td>\n",
       "      <td>Alberti</td>\n",
       "      <td>MECHITA</td>\n",
       "      <td>6</td>\n",
       "      <td>Buenos Aires</td>\n",
       "    </tr>\n",
       "    <tr>\n",
       "      <th>3</th>\n",
       "      <td>Localidad simple</td>\n",
       "      <td>-35.124382</td>\n",
       "      <td>-60.220061</td>\n",
       "      <td>6021.0</td>\n",
       "      <td>Alberti</td>\n",
       "      <td>INDEC</td>\n",
       "      <td>6021040000</td>\n",
       "      <td>6021040</td>\n",
       "      <td>Pla</td>\n",
       "      <td>60021.0</td>\n",
       "      <td>Alberti</td>\n",
       "      <td>PLA</td>\n",
       "      <td>6</td>\n",
       "      <td>Buenos Aires</td>\n",
       "    </tr>\n",
       "    <tr>\n",
       "      <th>4</th>\n",
       "      <td>Localidad simple</td>\n",
       "      <td>-35.109618</td>\n",
       "      <td>-60.070551</td>\n",
       "      <td>6021.0</td>\n",
       "      <td>Alberti</td>\n",
       "      <td>INDEC</td>\n",
       "      <td>6021050000</td>\n",
       "      <td>6021050</td>\n",
       "      <td>Villa Grisolía</td>\n",
       "      <td>60021.0</td>\n",
       "      <td>Alberti</td>\n",
       "      <td>VILLA GRISOLIA</td>\n",
       "      <td>6</td>\n",
       "      <td>Buenos Aires</td>\n",
       "    </tr>\n",
       "  </tbody>\n",
       "</table>\n",
       "</div>"
      ],
      "text/plain": [
       "                           categoria    Latitud   Longitud  IdDepartamento  \\\n",
       "0                   Localidad simple -35.033073 -60.280620          6021.0   \n",
       "1                   Localidad simple -34.868119 -60.393971          6021.0   \n",
       "2  Componente de localidad compuesta -35.068014 -60.402597          6021.0   \n",
       "3                   Localidad simple -35.124382 -60.220061          6021.0   \n",
       "4                   Localidad simple -35.109618 -60.070551          6021.0   \n",
       "\n",
       "  departamento_nombre fuente  IdLocalidad  localidad_censal_id  \\\n",
       "0             Alberti  INDEC   6021010000              6021010   \n",
       "1             Alberti  INDEC   6021020000              6021020   \n",
       "2             Alberti  INDEC   6021030000              6021030   \n",
       "3             Alberti  INDEC   6021040000              6021040   \n",
       "4             Alberti  INDEC   6021050000              6021050   \n",
       "\n",
       "  localidad_censal_nombre  municipio_id municipio_nombre       Localidad  \\\n",
       "0                 Alberti       60021.0          Alberti         ALBERTI   \n",
       "1           Coronel Seguí       60021.0          Alberti   CORONEL SEGUI   \n",
       "2                 Mechita       60021.0          Alberti         MECHITA   \n",
       "3                     Pla       60021.0          Alberti             PLA   \n",
       "4          Villa Grisolía       60021.0          Alberti  VILLA GRISOLIA   \n",
       "\n",
       "   IdProvincia     Provincia  \n",
       "0            6  Buenos Aires  \n",
       "1            6  Buenos Aires  \n",
       "2            6  Buenos Aires  \n",
       "3            6  Buenos Aires  \n",
       "4            6  Buenos Aires  "
      ]
     },
     "execution_count": 363,
     "metadata": {},
     "output_type": "execute_result"
    }
   ],
   "source": [
    "localidades2.head()"
   ]
  },
  {
   "cell_type": "code",
   "execution_count": 364,
   "metadata": {},
   "outputs": [],
   "source": [
    "#elimino las siguientes columnas\n",
    "localidades2.drop(columns=(['categoria','fuente','departamento_nombre','localidad_censal_id','localidad_censal_nombre','municipio_id','municipio_nombre']), inplace=True)"
   ]
  },
  {
   "cell_type": "code",
   "execution_count": 365,
   "metadata": {},
   "outputs": [],
   "source": [
    "#normalizo los datos tipo string de dichas columnas\n",
    "localidades2[\"Localidad\"]= localidades2[\"Localidad\"].str.title()\n",
    "localidades2[\"Provincia\"]= localidades2[\"Provincia\"].str.title()"
   ]
  },
  {
   "cell_type": "code",
   "execution_count": 366,
   "metadata": {},
   "outputs": [],
   "source": [
    "#elimino los duplicados\n",
    "localidades2.drop_duplicates(subset=['Localidad','Provincia'], inplace=True)"
   ]
  },
  {
   "cell_type": "code",
   "execution_count": 367,
   "metadata": {},
   "outputs": [],
   "source": [
    "#reseteo los indices\n",
    "localidades2.reset_index(inplace=True)"
   ]
  },
  {
   "cell_type": "code",
   "execution_count": 368,
   "metadata": {},
   "outputs": [
    {
     "data": {
      "text/html": [
       "<div>\n",
       "<style scoped>\n",
       "    .dataframe tbody tr th:only-of-type {\n",
       "        vertical-align: middle;\n",
       "    }\n",
       "\n",
       "    .dataframe tbody tr th {\n",
       "        vertical-align: top;\n",
       "    }\n",
       "\n",
       "    .dataframe thead th {\n",
       "        text-align: right;\n",
       "    }\n",
       "</style>\n",
       "<table border=\"1\" class=\"dataframe\">\n",
       "  <thead>\n",
       "    <tr style=\"text-align: right;\">\n",
       "      <th></th>\n",
       "      <th>index</th>\n",
       "      <th>Latitud</th>\n",
       "      <th>Longitud</th>\n",
       "      <th>IdDepartamento</th>\n",
       "      <th>IdLocalidad</th>\n",
       "      <th>Localidad</th>\n",
       "      <th>IdProvincia</th>\n",
       "      <th>Provincia</th>\n",
       "    </tr>\n",
       "  </thead>\n",
       "  <tbody>\n",
       "    <tr>\n",
       "      <th>0</th>\n",
       "      <td>0</td>\n",
       "      <td>-35.033073</td>\n",
       "      <td>-60.280620</td>\n",
       "      <td>6021.0</td>\n",
       "      <td>6021010000</td>\n",
       "      <td>Alberti</td>\n",
       "      <td>6</td>\n",
       "      <td>Buenos Aires</td>\n",
       "    </tr>\n",
       "    <tr>\n",
       "      <th>1</th>\n",
       "      <td>1</td>\n",
       "      <td>-34.868119</td>\n",
       "      <td>-60.393971</td>\n",
       "      <td>6021.0</td>\n",
       "      <td>6021020000</td>\n",
       "      <td>Coronel Segui</td>\n",
       "      <td>6</td>\n",
       "      <td>Buenos Aires</td>\n",
       "    </tr>\n",
       "    <tr>\n",
       "      <th>2</th>\n",
       "      <td>2</td>\n",
       "      <td>-35.068014</td>\n",
       "      <td>-60.402597</td>\n",
       "      <td>6021.0</td>\n",
       "      <td>6021030000</td>\n",
       "      <td>Mechita</td>\n",
       "      <td>6</td>\n",
       "      <td>Buenos Aires</td>\n",
       "    </tr>\n",
       "    <tr>\n",
       "      <th>3</th>\n",
       "      <td>3</td>\n",
       "      <td>-35.124382</td>\n",
       "      <td>-60.220061</td>\n",
       "      <td>6021.0</td>\n",
       "      <td>6021040000</td>\n",
       "      <td>Pla</td>\n",
       "      <td>6</td>\n",
       "      <td>Buenos Aires</td>\n",
       "    </tr>\n",
       "    <tr>\n",
       "      <th>4</th>\n",
       "      <td>4</td>\n",
       "      <td>-35.109618</td>\n",
       "      <td>-60.070551</td>\n",
       "      <td>6021.0</td>\n",
       "      <td>6021050000</td>\n",
       "      <td>Villa Grisolia</td>\n",
       "      <td>6</td>\n",
       "      <td>Buenos Aires</td>\n",
       "    </tr>\n",
       "  </tbody>\n",
       "</table>\n",
       "</div>"
      ],
      "text/plain": [
       "   index    Latitud   Longitud  IdDepartamento  IdLocalidad       Localidad  \\\n",
       "0      0 -35.033073 -60.280620          6021.0   6021010000         Alberti   \n",
       "1      1 -34.868119 -60.393971          6021.0   6021020000   Coronel Segui   \n",
       "2      2 -35.068014 -60.402597          6021.0   6021030000         Mechita   \n",
       "3      3 -35.124382 -60.220061          6021.0   6021040000             Pla   \n",
       "4      4 -35.109618 -60.070551          6021.0   6021050000  Villa Grisolia   \n",
       "\n",
       "   IdProvincia     Provincia  \n",
       "0            6  Buenos Aires  \n",
       "1            6  Buenos Aires  \n",
       "2            6  Buenos Aires  \n",
       "3            6  Buenos Aires  \n",
       "4            6  Buenos Aires  "
      ]
     },
     "execution_count": 368,
     "metadata": {},
     "output_type": "execute_result"
    }
   ],
   "source": [
    "localidades2.head()"
   ]
  },
  {
   "cell_type": "code",
   "execution_count": 369,
   "metadata": {},
   "outputs": [],
   "source": [
    "localidades2[\"Localidad\"]=[x.replace('á',\"a\") for x in localidades2[\"Localidad\"]]\n",
    "localidades2[\"Localidad\"]=[x.replace('é',\"e\") for x in localidades2[\"Localidad\"]]\n",
    "localidades2[\"Localidad\"]=[x.replace('í',\"i\") for x in localidades2[\"Localidad\"]]\n",
    "localidades2[\"Localidad\"]=[x.replace('ó',\"o\") for x in localidades2[\"Localidad\"]]\n",
    "localidades2[\"Localidad\"]=[x.replace('ú',\"u\") for x in localidades2[\"Localidad\"]]\n",
    "localidades2[\"Provincia\"]=[x.replace('á',\"a\") for x in localidades2[\"Provincia\"]]\n",
    "localidades2[\"Provincia\"]=[x.replace('é',\"e\") for x in localidades2[\"Provincia\"]]\n",
    "localidades2[\"Provincia\"]=[x.replace('í',\"i\") for x in localidades2[\"Provincia\"]]\n",
    "localidades2[\"Provincia\"]=[x.replace('ó',\"o\") for x in localidades2[\"Provincia\"]]\n",
    "localidades2[\"Provincia\"]=[x.replace('ú',\"u\") for x in localidades2[\"Provincia\"]]"
   ]
  },
  {
   "cell_type": "code",
   "execution_count": 370,
   "metadata": {},
   "outputs": [],
   "source": [
    "lista_provincias = list(localidades2[\"Provincia\"].unique())"
   ]
  },
  {
   "cell_type": "code",
   "execution_count": 371,
   "metadata": {},
   "outputs": [
    {
     "data": {
      "text/plain": [
       "(4001, 8)"
      ]
     },
     "execution_count": 371,
     "metadata": {},
     "output_type": "execute_result"
    }
   ],
   "source": [
    "localidades2.shape"
   ]
  },
  {
   "cell_type": "markdown",
   "metadata": {},
   "source": []
  },
  {
   "cell_type": "markdown",
   "metadata": {},
   "source": []
  },
  {
   "cell_type": "markdown",
   "metadata": {},
   "source": []
  },
  {
   "cell_type": "markdown",
   "metadata": {},
   "source": [
    "# NORMALIZACION DE TABLA CLIENTE"
   ]
  },
  {
   "cell_type": "markdown",
   "metadata": {},
   "source": []
  },
  {
   "cell_type": "code",
   "execution_count": 372,
   "metadata": {},
   "outputs": [],
   "source": [
    "clientes2 = clientes.copy()"
   ]
  },
  {
   "cell_type": "code",
   "execution_count": 373,
   "metadata": {},
   "outputs": [
    {
     "data": {
      "text/html": [
       "<div>\n",
       "<style scoped>\n",
       "    .dataframe tbody tr th:only-of-type {\n",
       "        vertical-align: middle;\n",
       "    }\n",
       "\n",
       "    .dataframe tbody tr th {\n",
       "        vertical-align: top;\n",
       "    }\n",
       "\n",
       "    .dataframe thead th {\n",
       "        text-align: right;\n",
       "    }\n",
       "</style>\n",
       "<table border=\"1\" class=\"dataframe\">\n",
       "  <thead>\n",
       "    <tr style=\"text-align: right;\">\n",
       "      <th></th>\n",
       "      <th>ID</th>\n",
       "      <th>Provincia</th>\n",
       "      <th>Nombre_y_Apellido</th>\n",
       "      <th>Domicilio</th>\n",
       "      <th>Telefono</th>\n",
       "      <th>Edad</th>\n",
       "      <th>Localidad</th>\n",
       "      <th>X</th>\n",
       "      <th>Y</th>\n",
       "      <th>col10</th>\n",
       "    </tr>\n",
       "  </thead>\n",
       "  <tbody>\n",
       "    <tr>\n",
       "      <th>0</th>\n",
       "      <td>1</td>\n",
       "      <td>Buenos Aires</td>\n",
       "      <td>HEBER JONI SANTANA</td>\n",
       "      <td>LAS HERAS Y BAT. 24 DE FEBRERO 4150  RINCON DE...</td>\n",
       "      <td>42-5161</td>\n",
       "      <td>58</td>\n",
       "      <td>LOMA VERDE</td>\n",
       "      <td>-58,81850307</td>\n",
       "      <td>-34,30997088</td>\n",
       "      <td>NaN</td>\n",
       "    </tr>\n",
       "    <tr>\n",
       "      <th>1</th>\n",
       "      <td>2</td>\n",
       "      <td>Buenos Aires</td>\n",
       "      <td>ANA SAPRIZA</td>\n",
       "      <td>PUEYRREDON Y DUPUY RUTA3 KM 52.500 S/N  BÂº LO...</td>\n",
       "      <td>49-7578</td>\n",
       "      <td>61</td>\n",
       "      <td>SANTA ROSA</td>\n",
       "      <td>-58,73073751</td>\n",
       "      <td>-34,93908311</td>\n",
       "      <td>NaN</td>\n",
       "    </tr>\n",
       "    <tr>\n",
       "      <th>2</th>\n",
       "      <td>3</td>\n",
       "      <td>Buenos Aires</td>\n",
       "      <td>FERNANDO LUIS SARALEGUI</td>\n",
       "      <td>CALDERON DE LA BARCA 498</td>\n",
       "      <td>49-3435</td>\n",
       "      <td>15</td>\n",
       "      <td>TORRES</td>\n",
       "      <td>-59,12794068</td>\n",
       "      <td>-34,43082199</td>\n",
       "      <td>NaN</td>\n",
       "    </tr>\n",
       "    <tr>\n",
       "      <th>3</th>\n",
       "      <td>4</td>\n",
       "      <td>Buenos Aires</td>\n",
       "      <td>MANUELA SARASOLA</td>\n",
       "      <td>RUTA 36 KM 45, 500 S/N  EL PELIGRO</td>\n",
       "      <td>49-2883</td>\n",
       "      <td>29</td>\n",
       "      <td>RUTA SOL</td>\n",
       "      <td>-58,14393954</td>\n",
       "      <td>-34,92052706</td>\n",
       "      <td>NaN</td>\n",
       "    </tr>\n",
       "    <tr>\n",
       "      <th>4</th>\n",
       "      <td>5</td>\n",
       "      <td>Buenos Aires</td>\n",
       "      <td>MARIO RAÚL SARASUA</td>\n",
       "      <td>492 Y 186 S/N  COLONIA URQUIZA</td>\n",
       "      <td>491-4608</td>\n",
       "      <td>34</td>\n",
       "      <td>JOSE MELCHOR ROMERO</td>\n",
       "      <td>-58,89381</td>\n",
       "      <td>-34,9444471</td>\n",
       "      <td>NaN</td>\n",
       "    </tr>\n",
       "  </tbody>\n",
       "</table>\n",
       "</div>"
      ],
      "text/plain": [
       "   ID     Provincia        Nombre_y_Apellido  \\\n",
       "0   1  Buenos Aires       HEBER JONI SANTANA   \n",
       "1   2  Buenos Aires              ANA SAPRIZA   \n",
       "2   3  Buenos Aires  FERNANDO LUIS SARALEGUI   \n",
       "3   4  Buenos Aires         MANUELA SARASOLA   \n",
       "4   5  Buenos Aires       MARIO RAÚL SARASUA   \n",
       "\n",
       "                                           Domicilio  Telefono  Edad  \\\n",
       "0  LAS HERAS Y BAT. 24 DE FEBRERO 4150  RINCON DE...   42-5161    58   \n",
       "1  PUEYRREDON Y DUPUY RUTA3 KM 52.500 S/N  BÂº LO...   49-7578    61   \n",
       "2                           CALDERON DE LA BARCA 498   49-3435    15   \n",
       "3                 RUTA 36 KM 45, 500 S/N  EL PELIGRO   49-2883    29   \n",
       "4                     492 Y 186 S/N  COLONIA URQUIZA  491-4608    34   \n",
       "\n",
       "             Localidad             X             Y  col10  \n",
       "0           LOMA VERDE  -58,81850307  -34,30997088    NaN  \n",
       "1           SANTA ROSA  -58,73073751  -34,93908311    NaN  \n",
       "2               TORRES  -59,12794068  -34,43082199    NaN  \n",
       "3             RUTA SOL  -58,14393954  -34,92052706    NaN  \n",
       "4  JOSE MELCHOR ROMERO     -58,89381   -34,9444471    NaN  "
      ]
     },
     "execution_count": 373,
     "metadata": {},
     "output_type": "execute_result"
    }
   ],
   "source": [
    "clientes2.head()"
   ]
  },
  {
   "cell_type": "code",
   "execution_count": 374,
   "metadata": {},
   "outputs": [],
   "source": [
    "#elimino la columna 'col10'\n",
    "clientes2.drop(columns='col10', inplace=True)"
   ]
  },
  {
   "cell_type": "code",
   "execution_count": 375,
   "metadata": {},
   "outputs": [],
   "source": [
    "#renombro las columnas\n",
    "clientes2 = clientes2.rename(columns={'ID':'IdCliente','X':'Longitud','Y':'Latitud'})"
   ]
  },
  {
   "cell_type": "code",
   "execution_count": 376,
   "metadata": {},
   "outputs": [],
   "source": [
    "#normalizo los valores tipo string de dichas columnas\n",
    "clientes2[\"Provincia\"]= clientes2[\"Provincia\"].str.title()\n",
    "clientes2[\"Nombre_y_Apellido\"]= clientes2[\"Nombre_y_Apellido\"].str.title()\n",
    "clientes2[\"Domicilio\"]= clientes2[\"Domicilio\"].str.title()\n",
    "clientes2[\"Localidad\"]= clientes2[\"Localidad\"].str.title()"
   ]
  },
  {
   "cell_type": "code",
   "execution_count": 377,
   "metadata": {},
   "outputs": [],
   "source": [
    "#donde tengo un NaN  le cambio el dato por 'Sin Dato'\n",
    "clientes['Nombre_y_Apellido'].fillna('Sin Dato', inplace=True)\n",
    "clientes['Provincia'].fillna('Sin Dato', inplace=True)\n",
    "clientes['Domicilio'].fillna('Sin Dato', inplace=True)\n",
    "clientes['Telefono'].fillna('Sin Dato', inplace=True)\n",
    "clientes['Localidad'].fillna('Sin Dato', inplace=True)"
   ]
  },
  {
   "cell_type": "code",
   "execution_count": 378,
   "metadata": {},
   "outputs": [],
   "source": [
    "# Modificamos el tipo de dato de la columna longitud\n",
    "clientes2[\"Longitud\"] = clientes2[\"Longitud\"].str.replace(\",\", \".\").astype(float)\n",
    "# Modificamos el tipo de dato de la columna latitud\n",
    "clientes2[\"Latitud\"] = clientes2[\"Latitud\"].str.replace(\",\", \".\").astype(float)"
   ]
  },
  {
   "cell_type": "code",
   "execution_count": 379,
   "metadata": {},
   "outputs": [],
   "source": [
    "clientes2['Longitud'].fillna('0.0', inplace=True)\n",
    "clientes2['Latitud'].fillna('0.0', inplace=True)"
   ]
  },
  {
   "cell_type": "code",
   "execution_count": 380,
   "metadata": {},
   "outputs": [],
   "source": [
    "#Normalizo provincia de Buenos Aires \n",
    "clientes2['Provincia']=clientes2.apply(lambda x: 'Buenos Aires' if x['Provincia']=='Ciudad de Buenos Aires'  else x['Provincia'], axis=1)"
   ]
  },
  {
   "cell_type": "code",
   "execution_count": 381,
   "metadata": {},
   "outputs": [],
   "source": [
    "#Tratamiendo de acentos \n",
    "clientes2['Provincia']=[str(x).replace('á','a') for x in clientes2['Provincia']]\n",
    "clientes2['Provincia']=[str(x).replace('é','e') for x in clientes2['Provincia']]\n",
    "clientes2['Provincia']=[str(x).replace('í','i') for x in clientes2['Provincia']]\n",
    "clientes2['Provincia']=[str(x).replace('ó','o') for x in clientes2['Provincia']]\n",
    "clientes2['Provincia']=[str(x).replace('ú','u') for x in clientes2['Provincia']]\n",
    "clientes2['Localidad']=[str(x).replace('á','a') for x in clientes2['Localidad']]\n",
    "clientes2['Localidad']=[str(x).replace('é','e') for x in clientes2['Localidad']]\n",
    "clientes2['Localidad']=[str(x).replace('í','i') for x in clientes2['Localidad']]\n",
    "clientes2['Localidad']=[str(x).replace('ó','o') for x in clientes2['Localidad']]\n",
    "clientes2['Localidad']=[str(x).replace('ú','u') for x in clientes2['Localidad']]"
   ]
  },
  {
   "cell_type": "code",
   "execution_count": 382,
   "metadata": {},
   "outputs": [],
   "source": [
    "#Merge entre df Localidades y Clientes para traer dato IdLocalidad a Clientes\n",
    "clientes2 = pd.merge(clientes2,localidades2, how=\"left\", on=['Localidad','Provincia'])"
   ]
  },
  {
   "cell_type": "code",
   "execution_count": 383,
   "metadata": {},
   "outputs": [],
   "source": [
    "#Reemplazo Latitud y Longitud sin datos con Latitud y Longitud de tabla Localidades \n",
    "clientes2[\"Longitud_x\"]=clientes2.apply(lambda x: x[\"Longitud_y\"] if x[\"Longitud_x\"]==0  else x[\"Longitud_x\"], axis=1)\n",
    "clientes2[\"Latitud_x\"]=clientes2.apply(lambda x: x[\"Latitud_y\"] if x[\"Latitud_x\"]==0  else x[\"Latitud_x\"], axis=1)"
   ]
  },
  {
   "cell_type": "code",
   "execution_count": 384,
   "metadata": {},
   "outputs": [],
   "source": [
    "#Renombro columnas\n",
    "clientes2= clientes2.rename(columns= {\"Longitud_x\":\"Longitud\"})\n",
    "clientes2= clientes2.rename(columns= {\"Latitud_x\":\"Latitud\"})"
   ]
  },
  {
   "cell_type": "code",
   "execution_count": 385,
   "metadata": {},
   "outputs": [],
   "source": [
    "#Cambio de tipo de dato de Latitud y Longitud\n",
    "clientes2[\"Latitud\"]= clientes2.Latitud.astype(float)\n",
    "clientes2[\"Longitud\"]= clientes2.Longitud.astype(float)"
   ]
  },
  {
   "cell_type": "code",
   "execution_count": 386,
   "metadata": {},
   "outputs": [
    {
     "data": {
      "text/html": [
       "<div>\n",
       "<style scoped>\n",
       "    .dataframe tbody tr th:only-of-type {\n",
       "        vertical-align: middle;\n",
       "    }\n",
       "\n",
       "    .dataframe tbody tr th {\n",
       "        vertical-align: top;\n",
       "    }\n",
       "\n",
       "    .dataframe thead th {\n",
       "        text-align: right;\n",
       "    }\n",
       "</style>\n",
       "<table border=\"1\" class=\"dataframe\">\n",
       "  <thead>\n",
       "    <tr style=\"text-align: right;\">\n",
       "      <th></th>\n",
       "      <th>IdCliente</th>\n",
       "      <th>Provincia</th>\n",
       "      <th>Nombre_y_Apellido</th>\n",
       "      <th>Domicilio</th>\n",
       "      <th>Telefono</th>\n",
       "      <th>Edad</th>\n",
       "      <th>Localidad</th>\n",
       "      <th>Longitud</th>\n",
       "      <th>Latitud</th>\n",
       "      <th>index</th>\n",
       "      <th>Latitud_y</th>\n",
       "      <th>Longitud_y</th>\n",
       "      <th>IdDepartamento</th>\n",
       "      <th>IdLocalidad</th>\n",
       "      <th>IdProvincia</th>\n",
       "    </tr>\n",
       "  </thead>\n",
       "  <tbody>\n",
       "    <tr>\n",
       "      <th>0</th>\n",
       "      <td>1</td>\n",
       "      <td>Buenos Aires</td>\n",
       "      <td>Heber Joni Santana</td>\n",
       "      <td>Las Heras Y Bat. 24 De Febrero 4150  Rincon De...</td>\n",
       "      <td>42-5161</td>\n",
       "      <td>58</td>\n",
       "      <td>Loma Verde</td>\n",
       "      <td>-58.818503</td>\n",
       "      <td>-34.309971</td>\n",
       "      <td>223.0</td>\n",
       "      <td>-34.328523</td>\n",
       "      <td>-58.850700</td>\n",
       "      <td>6252.0</td>\n",
       "      <td>6.252010e+09</td>\n",
       "      <td>6.0</td>\n",
       "    </tr>\n",
       "    <tr>\n",
       "      <th>1</th>\n",
       "      <td>2</td>\n",
       "      <td>Buenos Aires</td>\n",
       "      <td>Ana Sapriza</td>\n",
       "      <td>Pueyrredon Y Dupuy Ruta3 Km 52.500 S/N  Bâº Lo...</td>\n",
       "      <td>49-7578</td>\n",
       "      <td>61</td>\n",
       "      <td>Santa Rosa</td>\n",
       "      <td>-58.730738</td>\n",
       "      <td>-34.939083</td>\n",
       "      <td>126.0</td>\n",
       "      <td>-34.961184</td>\n",
       "      <td>-58.730892</td>\n",
       "      <td>6134.0</td>\n",
       "      <td>6.134060e+09</td>\n",
       "      <td>6.0</td>\n",
       "    </tr>\n",
       "    <tr>\n",
       "      <th>2</th>\n",
       "      <td>3</td>\n",
       "      <td>Buenos Aires</td>\n",
       "      <td>Fernando Luis Saralegui</td>\n",
       "      <td>Calderon De La Barca 498</td>\n",
       "      <td>49-3435</td>\n",
       "      <td>15</td>\n",
       "      <td>Torres</td>\n",
       "      <td>-59.127941</td>\n",
       "      <td>-34.430822</td>\n",
       "      <td>505.0</td>\n",
       "      <td>-34.431822</td>\n",
       "      <td>-59.128774</td>\n",
       "      <td>6497.0</td>\n",
       "      <td>6.497090e+09</td>\n",
       "      <td>6.0</td>\n",
       "    </tr>\n",
       "    <tr>\n",
       "      <th>3</th>\n",
       "      <td>4</td>\n",
       "      <td>Buenos Aires</td>\n",
       "      <td>Manuela Sarasola</td>\n",
       "      <td>Ruta 36 Km 45, 500 S/N  El Peligro</td>\n",
       "      <td>49-2883</td>\n",
       "      <td>29</td>\n",
       "      <td>Ruta Sol</td>\n",
       "      <td>-58.143940</td>\n",
       "      <td>-34.920527</td>\n",
       "      <td>NaN</td>\n",
       "      <td>NaN</td>\n",
       "      <td>NaN</td>\n",
       "      <td>NaN</td>\n",
       "      <td>NaN</td>\n",
       "      <td>NaN</td>\n",
       "    </tr>\n",
       "    <tr>\n",
       "      <th>4</th>\n",
       "      <td>5</td>\n",
       "      <td>Buenos Aires</td>\n",
       "      <td>Mario Raúl Sarasua</td>\n",
       "      <td>492 Y 186 S/N  Colonia Urquiza</td>\n",
       "      <td>491-4608</td>\n",
       "      <td>34</td>\n",
       "      <td>Jose Melchor Romero</td>\n",
       "      <td>-58.893810</td>\n",
       "      <td>-34.944447</td>\n",
       "      <td>434.0</td>\n",
       "      <td>-34.945509</td>\n",
       "      <td>-58.036290</td>\n",
       "      <td>6441.0</td>\n",
       "      <td>6.441030e+09</td>\n",
       "      <td>6.0</td>\n",
       "    </tr>\n",
       "  </tbody>\n",
       "</table>\n",
       "</div>"
      ],
      "text/plain": [
       "   IdCliente     Provincia        Nombre_y_Apellido  \\\n",
       "0          1  Buenos Aires       Heber Joni Santana   \n",
       "1          2  Buenos Aires              Ana Sapriza   \n",
       "2          3  Buenos Aires  Fernando Luis Saralegui   \n",
       "3          4  Buenos Aires         Manuela Sarasola   \n",
       "4          5  Buenos Aires       Mario Raúl Sarasua   \n",
       "\n",
       "                                           Domicilio  Telefono  Edad  \\\n",
       "0  Las Heras Y Bat. 24 De Febrero 4150  Rincon De...   42-5161    58   \n",
       "1  Pueyrredon Y Dupuy Ruta3 Km 52.500 S/N  Bâº Lo...   49-7578    61   \n",
       "2                           Calderon De La Barca 498   49-3435    15   \n",
       "3                 Ruta 36 Km 45, 500 S/N  El Peligro   49-2883    29   \n",
       "4                     492 Y 186 S/N  Colonia Urquiza  491-4608    34   \n",
       "\n",
       "             Localidad   Longitud    Latitud  index  Latitud_y  Longitud_y  \\\n",
       "0           Loma Verde -58.818503 -34.309971  223.0 -34.328523  -58.850700   \n",
       "1           Santa Rosa -58.730738 -34.939083  126.0 -34.961184  -58.730892   \n",
       "2               Torres -59.127941 -34.430822  505.0 -34.431822  -59.128774   \n",
       "3             Ruta Sol -58.143940 -34.920527    NaN        NaN         NaN   \n",
       "4  Jose Melchor Romero -58.893810 -34.944447  434.0 -34.945509  -58.036290   \n",
       "\n",
       "   IdDepartamento   IdLocalidad  IdProvincia  \n",
       "0          6252.0  6.252010e+09          6.0  \n",
       "1          6134.0  6.134060e+09          6.0  \n",
       "2          6497.0  6.497090e+09          6.0  \n",
       "3             NaN           NaN          NaN  \n",
       "4          6441.0  6.441030e+09          6.0  "
      ]
     },
     "execution_count": 386,
     "metadata": {},
     "output_type": "execute_result"
    }
   ],
   "source": [
    "clientes2.head()"
   ]
  },
  {
   "cell_type": "code",
   "execution_count": 387,
   "metadata": {},
   "outputs": [],
   "source": [
    "#Elimino columnas que se agregaron en el merge\n",
    "clientes2.drop(['index'], axis = 'columns', inplace=True)"
   ]
  },
  {
   "cell_type": "code",
   "execution_count": 388,
   "metadata": {},
   "outputs": [],
   "source": [
    "#Funcion para encontrar Localidades por similitud - Se recupera IdLocalidad y IdProvincia\n",
    "def verificarLocalidadClientes(row):\n",
    "    ratiomayor=0\n",
    "    for i in range(0,localidades2.shape[0]): \n",
    "            Ratio= fuzz.token_sort_ratio(row[\"Localidad\"].lower(), localidades2.Localidad[i].lower())\n",
    "            if Ratio>ratiomayor:\n",
    "                ratiomayor=Ratio\n",
    "                miloc=localidades2.Localidad[i]\n",
    "                id=localidades2.IdLocalidad[i]\n",
    "                idprov=localidades2.IdProvincia[i]\n",
    "\n",
    "    row[\"Localidad\"]=miloc\n",
    "    row[\"IdLocalidad\"]=id\n",
    "    row[\"IdProvincia\"]=idprov\n",
    "\n",
    "\n",
    "    return row "
   ]
  },
  {
   "cell_type": "code",
   "execution_count": 389,
   "metadata": {},
   "outputs": [],
   "source": [
    "#Creo DF de clientes con IdLocalidad faltante \n",
    "clientes_nulos= clientes2.loc[clientes2['IdLocalidad'].isnull() == True].copy()"
   ]
  },
  {
   "cell_type": "code",
   "execution_count": 390,
   "metadata": {},
   "outputs": [],
   "source": [
    "#Aplico funcion\n",
    "clientes_nulos= clientes_nulos.apply(verificarLocalidadClientes,axis=1)"
   ]
  },
  {
   "cell_type": "code",
   "execution_count": 391,
   "metadata": {},
   "outputs": [
    {
     "data": {
      "text/html": [
       "<div>\n",
       "<style scoped>\n",
       "    .dataframe tbody tr th:only-of-type {\n",
       "        vertical-align: middle;\n",
       "    }\n",
       "\n",
       "    .dataframe tbody tr th {\n",
       "        vertical-align: top;\n",
       "    }\n",
       "\n",
       "    .dataframe thead th {\n",
       "        text-align: right;\n",
       "    }\n",
       "</style>\n",
       "<table border=\"1\" class=\"dataframe\">\n",
       "  <thead>\n",
       "    <tr style=\"text-align: right;\">\n",
       "      <th></th>\n",
       "      <th>IdCliente</th>\n",
       "      <th>Provincia</th>\n",
       "      <th>Nombre_y_Apellido</th>\n",
       "      <th>Domicilio</th>\n",
       "      <th>Telefono</th>\n",
       "      <th>Edad</th>\n",
       "      <th>Localidad</th>\n",
       "      <th>Longitud</th>\n",
       "      <th>Latitud</th>\n",
       "      <th>Latitud_y</th>\n",
       "      <th>Longitud_y</th>\n",
       "      <th>IdDepartamento</th>\n",
       "      <th>IdLocalidad</th>\n",
       "      <th>IdProvincia</th>\n",
       "    </tr>\n",
       "  </thead>\n",
       "  <tbody>\n",
       "    <tr>\n",
       "      <th>3</th>\n",
       "      <td>4</td>\n",
       "      <td>Buenos Aires</td>\n",
       "      <td>Manuela Sarasola</td>\n",
       "      <td>Ruta 36 Km 45, 500 S/N  El Peligro</td>\n",
       "      <td>49-2883</td>\n",
       "      <td>29</td>\n",
       "      <td>Barrio Ruta Sol</td>\n",
       "      <td>-58.143940</td>\n",
       "      <td>-34.920527</td>\n",
       "      <td>NaN</td>\n",
       "      <td>NaN</td>\n",
       "      <td>NaN</td>\n",
       "      <td>6441050000</td>\n",
       "      <td>6</td>\n",
       "    </tr>\n",
       "    <tr>\n",
       "      <th>5</th>\n",
       "      <td>6</td>\n",
       "      <td>Buenos Aires</td>\n",
       "      <td>Pedro Jesus Saravia</td>\n",
       "      <td>Ruta 2 - Km 44, 500 S/N  El Peligro</td>\n",
       "      <td>49-2350</td>\n",
       "      <td>18</td>\n",
       "      <td>Barrio Ruta Sol</td>\n",
       "      <td>-58.112264</td>\n",
       "      <td>-35.786216</td>\n",
       "      <td>NaN</td>\n",
       "      <td>NaN</td>\n",
       "      <td>NaN</td>\n",
       "      <td>6441050000</td>\n",
       "      <td>6</td>\n",
       "    </tr>\n",
       "    <tr>\n",
       "      <th>7</th>\n",
       "      <td>8</td>\n",
       "      <td>Buenos Aires</td>\n",
       "      <td>Carlos Jose Sarazola</td>\n",
       "      <td>Isla Santiago S/N  Isla Santiago</td>\n",
       "      <td>623-9935</td>\n",
       "      <td>40</td>\n",
       "      <td>Isla Santiago (Oeste)</td>\n",
       "      <td>-57.881542</td>\n",
       "      <td>-34.835031</td>\n",
       "      <td>NaN</td>\n",
       "      <td>NaN</td>\n",
       "      <td>NaN</td>\n",
       "      <td>6245010003</td>\n",
       "      <td>6</td>\n",
       "    </tr>\n",
       "    <tr>\n",
       "      <th>11</th>\n",
       "      <td>12</td>\n",
       "      <td>nan</td>\n",
       "      <td>Eduardo Vicente Sarni</td>\n",
       "      <td>Carlos Tejedor 444  El Pinar</td>\n",
       "      <td>4480-0769</td>\n",
       "      <td>52</td>\n",
       "      <td>Unanue</td>\n",
       "      <td>-58.579502</td>\n",
       "      <td>-34.827881</td>\n",
       "      <td>NaN</td>\n",
       "      <td>NaN</td>\n",
       "      <td>NaN</td>\n",
       "      <td>42154060000</td>\n",
       "      <td>42</td>\n",
       "    </tr>\n",
       "    <tr>\n",
       "      <th>12</th>\n",
       "      <td>13</td>\n",
       "      <td>Buenos Aires</td>\n",
       "      <td>Roberto Sartorio</td>\n",
       "      <td>Montevideo (Ruta 15) S/N  Arroyo El Pescado</td>\n",
       "      <td>523-9987</td>\n",
       "      <td>41</td>\n",
       "      <td>El Puesto</td>\n",
       "      <td>-57.762213</td>\n",
       "      <td>-34.927584</td>\n",
       "      <td>NaN</td>\n",
       "      <td>NaN</td>\n",
       "      <td>NaN</td>\n",
       "      <td>10091060000</td>\n",
       "      <td>10</td>\n",
       "    </tr>\n",
       "  </tbody>\n",
       "</table>\n",
       "</div>"
      ],
      "text/plain": [
       "    IdCliente     Provincia      Nombre_y_Apellido  \\\n",
       "3           4  Buenos Aires       Manuela Sarasola   \n",
       "5           6  Buenos Aires    Pedro Jesus Saravia   \n",
       "7           8  Buenos Aires   Carlos Jose Sarazola   \n",
       "11         12           nan  Eduardo Vicente Sarni   \n",
       "12         13  Buenos Aires       Roberto Sartorio   \n",
       "\n",
       "                                      Domicilio   Telefono  Edad  \\\n",
       "3            Ruta 36 Km 45, 500 S/N  El Peligro    49-2883    29   \n",
       "5           Ruta 2 - Km 44, 500 S/N  El Peligro    49-2350    18   \n",
       "7              Isla Santiago S/N  Isla Santiago   623-9935    40   \n",
       "11                 Carlos Tejedor 444  El Pinar  4480-0769    52   \n",
       "12  Montevideo (Ruta 15) S/N  Arroyo El Pescado   523-9987    41   \n",
       "\n",
       "                Localidad   Longitud    Latitud  Latitud_y  Longitud_y  \\\n",
       "3         Barrio Ruta Sol -58.143940 -34.920527        NaN         NaN   \n",
       "5         Barrio Ruta Sol -58.112264 -35.786216        NaN         NaN   \n",
       "7   Isla Santiago (Oeste) -57.881542 -34.835031        NaN         NaN   \n",
       "11                 Unanue -58.579502 -34.827881        NaN         NaN   \n",
       "12              El Puesto -57.762213 -34.927584        NaN         NaN   \n",
       "\n",
       "    IdDepartamento  IdLocalidad  IdProvincia  \n",
       "3              NaN   6441050000            6  \n",
       "5              NaN   6441050000            6  \n",
       "7              NaN   6245010003            6  \n",
       "11             NaN  42154060000           42  \n",
       "12             NaN  10091060000           10  "
      ]
     },
     "execution_count": 391,
     "metadata": {},
     "output_type": "execute_result"
    }
   ],
   "source": [
    "clientes_nulos.head()"
   ]
  },
  {
   "cell_type": "code",
   "execution_count": 392,
   "metadata": {},
   "outputs": [],
   "source": [
    "#Borro columnas innecesarias para el merge \n",
    "clientes_nulos.drop(columns=[\"Latitud\",\"Longitud\"],inplace=True)"
   ]
  },
  {
   "cell_type": "code",
   "execution_count": 393,
   "metadata": {},
   "outputs": [],
   "source": [
    "#Merge de Clientes con DF Clientes con IDlocalidad Nulos (ya corregido)\n",
    "clientes2 = pd.merge(clientes2,clientes_nulos, how=\"left\", on=[\"IdCliente\"])"
   ]
  },
  {
   "cell_type": "code",
   "execution_count": 394,
   "metadata": {},
   "outputs": [],
   "source": [
    "#Completo IdLocalidad en tabla clientes2 original con 0 para prepararlos para el reemplazo\n",
    "clientes2[\"IdLocalidad_x\"]= clientes2[\"IdLocalidad_x\"].fillna(0)\n",
    "clientes2[\"IdProvincia_x\"]= clientes2[\"IdProvincia_x\"].fillna(0)"
   ]
  },
  {
   "cell_type": "code",
   "execution_count": 395,
   "metadata": {},
   "outputs": [],
   "source": [
    "#Realizo reemplazo de IdLocalidad y IdProvincia traidos con el merge\n",
    "clientes2[\"IdLocalidad_x\"]=clientes2.apply(lambda x: x[\"IdLocalidad_y\"] if x[\"IdLocalidad_x\"]==0  else x[\"IdLocalidad_x\"], axis=1)\n",
    "clientes2[\"IdProvincia_x\"]=clientes2.apply(lambda x: x[\"IdProvincia_y\"] if x[\"IdProvincia_x\"]==0  else x[\"IdProvincia_x\"], axis=1)"
   ]
  },
  {
   "cell_type": "code",
   "execution_count": 396,
   "metadata": {},
   "outputs": [],
   "source": [
    "#25 Localidades sin IdLocalidad - se lo completa como sin dato\n",
    "clientes2[\"IdLocalidad_x\"]=clientes2[\"IdLocalidad_x\"].fillna(0)"
   ]
  },
  {
   "cell_type": "code",
   "execution_count": 397,
   "metadata": {},
   "outputs": [
    {
     "data": {
      "text/html": [
       "<div>\n",
       "<style scoped>\n",
       "    .dataframe tbody tr th:only-of-type {\n",
       "        vertical-align: middle;\n",
       "    }\n",
       "\n",
       "    .dataframe tbody tr th {\n",
       "        vertical-align: top;\n",
       "    }\n",
       "\n",
       "    .dataframe thead th {\n",
       "        text-align: right;\n",
       "    }\n",
       "</style>\n",
       "<table border=\"1\" class=\"dataframe\">\n",
       "  <thead>\n",
       "    <tr style=\"text-align: right;\">\n",
       "      <th></th>\n",
       "      <th>IdCliente</th>\n",
       "      <th>Provincia_x</th>\n",
       "      <th>Nombre_y_Apellido_x</th>\n",
       "      <th>Domicilio_x</th>\n",
       "      <th>Telefono_x</th>\n",
       "      <th>Edad_x</th>\n",
       "      <th>Localidad_x</th>\n",
       "      <th>Longitud</th>\n",
       "      <th>Latitud</th>\n",
       "      <th>Latitud_y_x</th>\n",
       "      <th>...</th>\n",
       "      <th>Nombre_y_Apellido_y</th>\n",
       "      <th>Domicilio_y</th>\n",
       "      <th>Telefono_y</th>\n",
       "      <th>Edad_y</th>\n",
       "      <th>Localidad_y</th>\n",
       "      <th>Latitud_y_y</th>\n",
       "      <th>Longitud_y_y</th>\n",
       "      <th>IdDepartamento_y</th>\n",
       "      <th>IdLocalidad_y</th>\n",
       "      <th>IdProvincia_y</th>\n",
       "    </tr>\n",
       "  </thead>\n",
       "  <tbody>\n",
       "    <tr>\n",
       "      <th>0</th>\n",
       "      <td>1</td>\n",
       "      <td>Buenos Aires</td>\n",
       "      <td>Heber Joni Santana</td>\n",
       "      <td>Las Heras Y Bat. 24 De Febrero 4150  Rincon De...</td>\n",
       "      <td>42-5161</td>\n",
       "      <td>58</td>\n",
       "      <td>Loma Verde</td>\n",
       "      <td>-58.818503</td>\n",
       "      <td>-34.309971</td>\n",
       "      <td>-34.328523</td>\n",
       "      <td>...</td>\n",
       "      <td>NaN</td>\n",
       "      <td>NaN</td>\n",
       "      <td>NaN</td>\n",
       "      <td>NaN</td>\n",
       "      <td>NaN</td>\n",
       "      <td>NaN</td>\n",
       "      <td>NaN</td>\n",
       "      <td>NaN</td>\n",
       "      <td>NaN</td>\n",
       "      <td>NaN</td>\n",
       "    </tr>\n",
       "    <tr>\n",
       "      <th>1</th>\n",
       "      <td>2</td>\n",
       "      <td>Buenos Aires</td>\n",
       "      <td>Ana Sapriza</td>\n",
       "      <td>Pueyrredon Y Dupuy Ruta3 Km 52.500 S/N  Bâº Lo...</td>\n",
       "      <td>49-7578</td>\n",
       "      <td>61</td>\n",
       "      <td>Santa Rosa</td>\n",
       "      <td>-58.730738</td>\n",
       "      <td>-34.939083</td>\n",
       "      <td>-34.961184</td>\n",
       "      <td>...</td>\n",
       "      <td>NaN</td>\n",
       "      <td>NaN</td>\n",
       "      <td>NaN</td>\n",
       "      <td>NaN</td>\n",
       "      <td>NaN</td>\n",
       "      <td>NaN</td>\n",
       "      <td>NaN</td>\n",
       "      <td>NaN</td>\n",
       "      <td>NaN</td>\n",
       "      <td>NaN</td>\n",
       "    </tr>\n",
       "    <tr>\n",
       "      <th>2</th>\n",
       "      <td>3</td>\n",
       "      <td>Buenos Aires</td>\n",
       "      <td>Fernando Luis Saralegui</td>\n",
       "      <td>Calderon De La Barca 498</td>\n",
       "      <td>49-3435</td>\n",
       "      <td>15</td>\n",
       "      <td>Torres</td>\n",
       "      <td>-59.127941</td>\n",
       "      <td>-34.430822</td>\n",
       "      <td>-34.431822</td>\n",
       "      <td>...</td>\n",
       "      <td>NaN</td>\n",
       "      <td>NaN</td>\n",
       "      <td>NaN</td>\n",
       "      <td>NaN</td>\n",
       "      <td>NaN</td>\n",
       "      <td>NaN</td>\n",
       "      <td>NaN</td>\n",
       "      <td>NaN</td>\n",
       "      <td>NaN</td>\n",
       "      <td>NaN</td>\n",
       "    </tr>\n",
       "    <tr>\n",
       "      <th>3</th>\n",
       "      <td>4</td>\n",
       "      <td>Buenos Aires</td>\n",
       "      <td>Manuela Sarasola</td>\n",
       "      <td>Ruta 36 Km 45, 500 S/N  El Peligro</td>\n",
       "      <td>49-2883</td>\n",
       "      <td>29</td>\n",
       "      <td>Ruta Sol</td>\n",
       "      <td>-58.143940</td>\n",
       "      <td>-34.920527</td>\n",
       "      <td>NaN</td>\n",
       "      <td>...</td>\n",
       "      <td>Manuela Sarasola</td>\n",
       "      <td>Ruta 36 Km 45, 500 S/N  El Peligro</td>\n",
       "      <td>49-2883</td>\n",
       "      <td>29.0</td>\n",
       "      <td>Barrio Ruta Sol</td>\n",
       "      <td>NaN</td>\n",
       "      <td>NaN</td>\n",
       "      <td>NaN</td>\n",
       "      <td>6.441050e+09</td>\n",
       "      <td>6.0</td>\n",
       "    </tr>\n",
       "    <tr>\n",
       "      <th>4</th>\n",
       "      <td>5</td>\n",
       "      <td>Buenos Aires</td>\n",
       "      <td>Mario Raúl Sarasua</td>\n",
       "      <td>492 Y 186 S/N  Colonia Urquiza</td>\n",
       "      <td>491-4608</td>\n",
       "      <td>34</td>\n",
       "      <td>Jose Melchor Romero</td>\n",
       "      <td>-58.893810</td>\n",
       "      <td>-34.944447</td>\n",
       "      <td>-34.945509</td>\n",
       "      <td>...</td>\n",
       "      <td>NaN</td>\n",
       "      <td>NaN</td>\n",
       "      <td>NaN</td>\n",
       "      <td>NaN</td>\n",
       "      <td>NaN</td>\n",
       "      <td>NaN</td>\n",
       "      <td>NaN</td>\n",
       "      <td>NaN</td>\n",
       "      <td>NaN</td>\n",
       "      <td>NaN</td>\n",
       "    </tr>\n",
       "  </tbody>\n",
       "</table>\n",
       "<p>5 rows × 25 columns</p>\n",
       "</div>"
      ],
      "text/plain": [
       "   IdCliente   Provincia_x      Nombre_y_Apellido_x  \\\n",
       "0          1  Buenos Aires       Heber Joni Santana   \n",
       "1          2  Buenos Aires              Ana Sapriza   \n",
       "2          3  Buenos Aires  Fernando Luis Saralegui   \n",
       "3          4  Buenos Aires         Manuela Sarasola   \n",
       "4          5  Buenos Aires       Mario Raúl Sarasua   \n",
       "\n",
       "                                         Domicilio_x Telefono_x  Edad_x  \\\n",
       "0  Las Heras Y Bat. 24 De Febrero 4150  Rincon De...    42-5161      58   \n",
       "1  Pueyrredon Y Dupuy Ruta3 Km 52.500 S/N  Bâº Lo...    49-7578      61   \n",
       "2                           Calderon De La Barca 498    49-3435      15   \n",
       "3                 Ruta 36 Km 45, 500 S/N  El Peligro    49-2883      29   \n",
       "4                     492 Y 186 S/N  Colonia Urquiza   491-4608      34   \n",
       "\n",
       "           Localidad_x   Longitud    Latitud  Latitud_y_x  ...  \\\n",
       "0           Loma Verde -58.818503 -34.309971   -34.328523  ...   \n",
       "1           Santa Rosa -58.730738 -34.939083   -34.961184  ...   \n",
       "2               Torres -59.127941 -34.430822   -34.431822  ...   \n",
       "3             Ruta Sol -58.143940 -34.920527          NaN  ...   \n",
       "4  Jose Melchor Romero -58.893810 -34.944447   -34.945509  ...   \n",
       "\n",
       "   Nombre_y_Apellido_y                         Domicilio_y  Telefono_y  \\\n",
       "0                  NaN                                 NaN         NaN   \n",
       "1                  NaN                                 NaN         NaN   \n",
       "2                  NaN                                 NaN         NaN   \n",
       "3     Manuela Sarasola  Ruta 36 Km 45, 500 S/N  El Peligro     49-2883   \n",
       "4                  NaN                                 NaN         NaN   \n",
       "\n",
       "   Edad_y      Localidad_y Latitud_y_y Longitud_y_y IdDepartamento_y  \\\n",
       "0     NaN              NaN         NaN          NaN              NaN   \n",
       "1     NaN              NaN         NaN          NaN              NaN   \n",
       "2     NaN              NaN         NaN          NaN              NaN   \n",
       "3    29.0  Barrio Ruta Sol         NaN          NaN              NaN   \n",
       "4     NaN              NaN         NaN          NaN              NaN   \n",
       "\n",
       "   IdLocalidad_y IdProvincia_y  \n",
       "0            NaN           NaN  \n",
       "1            NaN           NaN  \n",
       "2            NaN           NaN  \n",
       "3   6.441050e+09           6.0  \n",
       "4            NaN           NaN  \n",
       "\n",
       "[5 rows x 25 columns]"
      ]
     },
     "execution_count": 397,
     "metadata": {},
     "output_type": "execute_result"
    }
   ],
   "source": [
    "clientes2.head()"
   ]
  },
  {
   "cell_type": "code",
   "execution_count": 398,
   "metadata": {},
   "outputs": [],
   "source": [
    "#Elimino columnas innecesarias\n",
    "clientes2.drop(['Latitud_y_x','Longitud_y_x','IdDepartamento_x','Provincia_y','Localidad_y', 'Nombre_y_Apellido_y'], axis = 'columns', inplace=True)\n",
    "clientes2.drop(['IdProvincia_y','IdLocalidad_y','IdDepartamento_y','Longitud_y_y','Latitud_y_y', 'Edad_y', 'Telefono_y', 'Domicilio_y'], axis = 'columns', inplace=True)"
   ]
  },
  {
   "cell_type": "code",
   "execution_count": 399,
   "metadata": {},
   "outputs": [],
   "source": [
    "#Renombro columnas\n",
    "clientes2= clientes2.rename(columns= {\"Provincia_x\":\"Provincia\"})\n",
    "clientes2= clientes2.rename(columns= {\"Nombre_y_Apellido_x\":\"Nombre_y_Apellido\"})\n",
    "clientes2= clientes2.rename(columns= {\"Localidad_x\":\"Localidad\"})\n",
    "clientes2= clientes2.rename(columns= {\"Longitud_x\":\"Longitud\"})\n",
    "clientes2= clientes2.rename(columns= {\"Latitud_x\":\"Latitud\"})\n",
    "clientes2= clientes2.rename(columns= {\"IdLocalidad_x\":\"IdLocalidad\"})\n",
    "clientes2= clientes2.rename(columns= {\"IdProvincia_x\":\"IdProvincia\"})"
   ]
  },
  {
   "cell_type": "code",
   "execution_count": 72,
   "metadata": {},
   "outputs": [
    {
     "data": {
      "text/plain": [
       "(735, 10)"
      ]
     },
     "execution_count": 72,
     "metadata": {},
     "output_type": "execute_result"
    }
   ],
   "source": [
    "clientes2.shape"
   ]
  },
  {
   "cell_type": "markdown",
   "metadata": {},
   "source": []
  },
  {
   "cell_type": "markdown",
   "metadata": {},
   "source": []
  },
  {
   "cell_type": "markdown",
   "metadata": {},
   "source": []
  },
  {
   "cell_type": "markdown",
   "metadata": {},
   "source": [
    "# NORMALIZACION DE TABLA SUCURSALES"
   ]
  },
  {
   "cell_type": "code",
   "execution_count": 90,
   "metadata": {},
   "outputs": [],
   "source": [
    "sucursales2 = sucursales.copy()"
   ]
  },
  {
   "cell_type": "code",
   "execution_count": 91,
   "metadata": {},
   "outputs": [
    {
     "data": {
      "text/html": [
       "<div>\n",
       "<style scoped>\n",
       "    .dataframe tbody tr th:only-of-type {\n",
       "        vertical-align: middle;\n",
       "    }\n",
       "\n",
       "    .dataframe tbody tr th {\n",
       "        vertical-align: top;\n",
       "    }\n",
       "\n",
       "    .dataframe thead th {\n",
       "        text-align: right;\n",
       "    }\n",
       "</style>\n",
       "<table border=\"1\" class=\"dataframe\">\n",
       "  <thead>\n",
       "    <tr style=\"text-align: right;\">\n",
       "      <th></th>\n",
       "      <th>ID</th>\n",
       "      <th>Sucursal</th>\n",
       "      <th>Direccion</th>\n",
       "      <th>Localidad</th>\n",
       "      <th>Provincia</th>\n",
       "      <th>Latitud</th>\n",
       "      <th>Longitud</th>\n",
       "    </tr>\n",
       "  </thead>\n",
       "  <tbody>\n",
       "    <tr>\n",
       "      <th>0</th>\n",
       "      <td>1</td>\n",
       "      <td>Cabildo</td>\n",
       "      <td>Av. Cabildo 1342</td>\n",
       "      <td>Ciudad de Buenos Aires</td>\n",
       "      <td>Ciudad de Buenos Aires</td>\n",
       "      <td>-34,5678060</td>\n",
       "      <td>-58,4495720</td>\n",
       "    </tr>\n",
       "    <tr>\n",
       "      <th>1</th>\n",
       "      <td>2</td>\n",
       "      <td>Palermo 1</td>\n",
       "      <td>Guatemala 5701</td>\n",
       "      <td>CABA</td>\n",
       "      <td>CABA</td>\n",
       "      <td>-34,5790350</td>\n",
       "      <td>-58,4335660</td>\n",
       "    </tr>\n",
       "    <tr>\n",
       "      <th>2</th>\n",
       "      <td>3</td>\n",
       "      <td>Palermo 2</td>\n",
       "      <td>Gral. Lucio Norberto Mansilla 2668</td>\n",
       "      <td>CABA</td>\n",
       "      <td>C deBuenos Aires</td>\n",
       "      <td>-34,5959660</td>\n",
       "      <td>-58,4051500</td>\n",
       "    </tr>\n",
       "    <tr>\n",
       "      <th>3</th>\n",
       "      <td>4</td>\n",
       "      <td>Corrientes</td>\n",
       "      <td>Av. Corrientes 2352</td>\n",
       "      <td>Ciudad de Buenos Aires</td>\n",
       "      <td>Bs As</td>\n",
       "      <td>-34,6046850</td>\n",
       "      <td>-58,3987640</td>\n",
       "    </tr>\n",
       "    <tr>\n",
       "      <th>4</th>\n",
       "      <td>5</td>\n",
       "      <td>Almagro</td>\n",
       "      <td>Venezuela 3650</td>\n",
       "      <td>Capital</td>\n",
       "      <td>Bs.As.</td>\n",
       "      <td>-34,6173080</td>\n",
       "      <td>-58,4161790</td>\n",
       "    </tr>\n",
       "  </tbody>\n",
       "</table>\n",
       "</div>"
      ],
      "text/plain": [
       "   ID    Sucursal                           Direccion               Localidad  \\\n",
       "0   1     Cabildo                    Av. Cabildo 1342  Ciudad de Buenos Aires   \n",
       "1   2   Palermo 1                      Guatemala 5701                    CABA   \n",
       "2   3   Palermo 2  Gral. Lucio Norberto Mansilla 2668                    CABA   \n",
       "3   4  Corrientes                 Av. Corrientes 2352  Ciudad de Buenos Aires   \n",
       "4   5     Almagro                      Venezuela 3650                 Capital   \n",
       "\n",
       "                Provincia      Latitud     Longitud  \n",
       "0  Ciudad de Buenos Aires  -34,5678060  -58,4495720  \n",
       "1                    CABA  -34,5790350  -58,4335660  \n",
       "2        C deBuenos Aires  -34,5959660  -58,4051500  \n",
       "3                   Bs As  -34,6046850  -58,3987640  \n",
       "4                 Bs.As.   -34,6173080  -58,4161790  "
      ]
     },
     "execution_count": 91,
     "metadata": {},
     "output_type": "execute_result"
    }
   ],
   "source": [
    "sucursales2.head()"
   ]
  },
  {
   "cell_type": "code",
   "execution_count": 92,
   "metadata": {},
   "outputs": [
    {
     "data": {
      "text/plain": [
       "ID           0\n",
       "Sucursal     0\n",
       "Direccion    0\n",
       "Localidad    0\n",
       "Provincia    0\n",
       "Latitud      0\n",
       "Longitud     0\n",
       "dtype: int64"
      ]
     },
     "execution_count": 92,
     "metadata": {},
     "output_type": "execute_result"
    }
   ],
   "source": [
    "sucursales2.isnull().sum()"
   ]
  },
  {
   "cell_type": "code",
   "execution_count": 93,
   "metadata": {},
   "outputs": [],
   "source": [
    "#renombro las siguientes columnas\n",
    "sucursales2.rename(columns={'ID':'IdSucursal'}, inplace=True)"
   ]
  },
  {
   "cell_type": "code",
   "execution_count": 94,
   "metadata": {},
   "outputs": [],
   "source": [
    "#Tratamiendo de acentos \n",
    "sucursales2['Provincia']=[str(x).replace('á','a') for x in sucursales2['Provincia']]\n",
    "sucursales2['Provincia']=[str(x).replace('é','e') for x in sucursales2['Provincia']]\n",
    "sucursales2['Provincia']=[str(x).replace('í','i') for x in sucursales2['Provincia']]\n",
    "sucursales2['Provincia']=[str(x).replace('ó','o') for x in sucursales2['Provincia']]\n",
    "sucursales2['Provincia']=[str(x).replace('ú','u') for x in sucursales2['Provincia']]\n",
    "sucursales2['Localidad']=[str(x).replace('á','a') for x in sucursales2['Localidad']]\n",
    "sucursales2['Localidad']=[str(x).replace('é','e') for x in sucursales2['Localidad']]\n",
    "sucursales2['Localidad']=[str(x).replace('í','i') for x in sucursales2['Localidad']]\n",
    "sucursales2['Localidad']=[str(x).replace('ó','o') for x in sucursales2['Localidad']]\n",
    "sucursales2['Localidad']=[str(x).replace('ú','u') for x in sucursales2['Localidad']]"
   ]
  },
  {
   "cell_type": "code",
   "execution_count": 95,
   "metadata": {},
   "outputs": [],
   "source": [
    "#normalizo los valores tipo string de dichas columnas\n",
    "sucursales2[\"Sucursal\"]= sucursales2[\"Sucursal\"].str.title()\n",
    "sucursales2[\"Direccion\"]= sucursales2[\"Direccion\"].str.title()\n",
    "sucursales2[\"Provincia\"]= sucursales2[\"Provincia\"].str.title()\n",
    "sucursales2[\"Localidad\"]= sucursales2[\"Localidad\"].str.title()"
   ]
  },
  {
   "cell_type": "code",
   "execution_count": 96,
   "metadata": {},
   "outputs": [],
   "source": [
    "# Modificamos el tipo de dato de la columna longitud\n",
    "sucursales2[\"Longitud\"] = sucursales2[\"Longitud\"].str.replace(\",\", \".\").astype(float)\n",
    "# Modificamos el tipo de dato de la columna latitud\n",
    "sucursales2[\"Latitud\"] = sucursales2[\"Latitud\"].str.replace(\",\", \".\").astype(float)"
   ]
  },
  {
   "cell_type": "code",
   "execution_count": 97,
   "metadata": {},
   "outputs": [
    {
     "data": {
      "text/plain": [
       "IdSucursal    0\n",
       "Sucursal      0\n",
       "Direccion     0\n",
       "Localidad     0\n",
       "Provincia     0\n",
       "Latitud       0\n",
       "Longitud      0\n",
       "dtype: int64"
      ]
     },
     "execution_count": 97,
     "metadata": {},
     "output_type": "execute_result"
    }
   ],
   "source": [
    "sucursales2.isnull().sum()"
   ]
  },
  {
   "cell_type": "code",
   "execution_count": 98,
   "metadata": {},
   "outputs": [
    {
     "data": {
      "text/html": [
       "<div>\n",
       "<style scoped>\n",
       "    .dataframe tbody tr th:only-of-type {\n",
       "        vertical-align: middle;\n",
       "    }\n",
       "\n",
       "    .dataframe tbody tr th {\n",
       "        vertical-align: top;\n",
       "    }\n",
       "\n",
       "    .dataframe thead th {\n",
       "        text-align: right;\n",
       "    }\n",
       "</style>\n",
       "<table border=\"1\" class=\"dataframe\">\n",
       "  <thead>\n",
       "    <tr style=\"text-align: right;\">\n",
       "      <th></th>\n",
       "      <th>IdSucursal</th>\n",
       "      <th>Sucursal</th>\n",
       "      <th>Direccion</th>\n",
       "      <th>Localidad</th>\n",
       "      <th>Provincia</th>\n",
       "      <th>Latitud</th>\n",
       "      <th>Longitud</th>\n",
       "    </tr>\n",
       "  </thead>\n",
       "  <tbody>\n",
       "    <tr>\n",
       "      <th>0</th>\n",
       "      <td>1</td>\n",
       "      <td>Cabildo</td>\n",
       "      <td>Av. Cabildo 1342</td>\n",
       "      <td>Ciudad De Buenos Aires</td>\n",
       "      <td>Ciudad De Buenos Aires</td>\n",
       "      <td>-34.567806</td>\n",
       "      <td>-58.449572</td>\n",
       "    </tr>\n",
       "    <tr>\n",
       "      <th>1</th>\n",
       "      <td>2</td>\n",
       "      <td>Palermo 1</td>\n",
       "      <td>Guatemala 5701</td>\n",
       "      <td>Caba</td>\n",
       "      <td>Caba</td>\n",
       "      <td>-34.579035</td>\n",
       "      <td>-58.433566</td>\n",
       "    </tr>\n",
       "    <tr>\n",
       "      <th>2</th>\n",
       "      <td>3</td>\n",
       "      <td>Palermo 2</td>\n",
       "      <td>Gral. Lucio Norberto Mansilla 2668</td>\n",
       "      <td>Caba</td>\n",
       "      <td>C Debuenos Aires</td>\n",
       "      <td>-34.595966</td>\n",
       "      <td>-58.405150</td>\n",
       "    </tr>\n",
       "    <tr>\n",
       "      <th>3</th>\n",
       "      <td>4</td>\n",
       "      <td>Corrientes</td>\n",
       "      <td>Av. Corrientes 2352</td>\n",
       "      <td>Ciudad De Buenos Aires</td>\n",
       "      <td>Bs As</td>\n",
       "      <td>-34.604685</td>\n",
       "      <td>-58.398764</td>\n",
       "    </tr>\n",
       "    <tr>\n",
       "      <th>4</th>\n",
       "      <td>5</td>\n",
       "      <td>Almagro</td>\n",
       "      <td>Venezuela 3650</td>\n",
       "      <td>Capital</td>\n",
       "      <td>Bs.As.</td>\n",
       "      <td>-34.617308</td>\n",
       "      <td>-58.416179</td>\n",
       "    </tr>\n",
       "  </tbody>\n",
       "</table>\n",
       "</div>"
      ],
      "text/plain": [
       "   IdSucursal    Sucursal                           Direccion  \\\n",
       "0           1     Cabildo                    Av. Cabildo 1342   \n",
       "1           2   Palermo 1                      Guatemala 5701   \n",
       "2           3   Palermo 2  Gral. Lucio Norberto Mansilla 2668   \n",
       "3           4  Corrientes                 Av. Corrientes 2352   \n",
       "4           5     Almagro                      Venezuela 3650   \n",
       "\n",
       "                Localidad               Provincia    Latitud   Longitud  \n",
       "0  Ciudad De Buenos Aires  Ciudad De Buenos Aires -34.567806 -58.449572  \n",
       "1                    Caba                    Caba -34.579035 -58.433566  \n",
       "2                    Caba        C Debuenos Aires -34.595966 -58.405150  \n",
       "3  Ciudad De Buenos Aires                   Bs As -34.604685 -58.398764  \n",
       "4                 Capital                 Bs.As.  -34.617308 -58.416179  "
      ]
     },
     "execution_count": 98,
     "metadata": {},
     "output_type": "execute_result"
    }
   ],
   "source": [
    "sucursales2.head()"
   ]
  },
  {
   "cell_type": "markdown",
   "metadata": {},
   "source": []
  },
  {
   "cell_type": "markdown",
   "metadata": {},
   "source": []
  },
  {
   "cell_type": "markdown",
   "metadata": {},
   "source": [
    "# NORMALIZACION DE LA TABLA PROVEEDORES"
   ]
  },
  {
   "cell_type": "code",
   "execution_count": 84,
   "metadata": {},
   "outputs": [
    {
     "data": {
      "text/html": [
       "<div>\n",
       "<style scoped>\n",
       "    .dataframe tbody tr th:only-of-type {\n",
       "        vertical-align: middle;\n",
       "    }\n",
       "\n",
       "    .dataframe tbody tr th {\n",
       "        vertical-align: top;\n",
       "    }\n",
       "\n",
       "    .dataframe thead th {\n",
       "        text-align: right;\n",
       "    }\n",
       "</style>\n",
       "<table border=\"1\" class=\"dataframe\">\n",
       "  <thead>\n",
       "    <tr style=\"text-align: right;\">\n",
       "      <th></th>\n",
       "      <th>IDProveedor</th>\n",
       "      <th>Nombre</th>\n",
       "      <th>Address</th>\n",
       "      <th>City</th>\n",
       "      <th>State</th>\n",
       "      <th>Country</th>\n",
       "      <th>departamen</th>\n",
       "    </tr>\n",
       "  </thead>\n",
       "  <tbody>\n",
       "    <tr>\n",
       "      <th>0</th>\n",
       "      <td>1</td>\n",
       "      <td>NaN</td>\n",
       "      <td>BEREGUESTEIN 36</td>\n",
       "      <td>AVELLANEDA</td>\n",
       "      <td>BUENOS AIRES</td>\n",
       "      <td>ARGENTINA</td>\n",
       "      <td>AVELLANEDA</td>\n",
       "    </tr>\n",
       "    <tr>\n",
       "      <th>1</th>\n",
       "      <td>2</td>\n",
       "      <td>San Cirano</td>\n",
       "      <td>ALBERTI 965</td>\n",
       "      <td>CORONEL BRANDSEN</td>\n",
       "      <td>BUENOS AIRES</td>\n",
       "      <td>ARGENTINA</td>\n",
       "      <td>BRANDSEN</td>\n",
       "    </tr>\n",
       "    <tr>\n",
       "      <th>2</th>\n",
       "      <td>3</td>\n",
       "      <td>Bell S.A.</td>\n",
       "      <td>MORENO 331</td>\n",
       "      <td>CAMPANA</td>\n",
       "      <td>BUENOS AIRES</td>\n",
       "      <td>ARGENTINA</td>\n",
       "      <td>CAMPANA</td>\n",
       "    </tr>\n",
       "    <tr>\n",
       "      <th>3</th>\n",
       "      <td>4</td>\n",
       "      <td>Rivero Insumos</td>\n",
       "      <td>PTE. PERON 3872</td>\n",
       "      <td>VALENTIN ALSINA</td>\n",
       "      <td>BUENOS AIRES</td>\n",
       "      <td>ARGENTINA</td>\n",
       "      <td>LANUS</td>\n",
       "    </tr>\n",
       "    <tr>\n",
       "      <th>4</th>\n",
       "      <td>5</td>\n",
       "      <td>Laprida Computacion</td>\n",
       "      <td>AVDA. PEDRO PEREYRA 1339</td>\n",
       "      <td>LAPRIDA</td>\n",
       "      <td>BUENOS AIRES</td>\n",
       "      <td>ARGENTINA</td>\n",
       "      <td>LAPRIDA</td>\n",
       "    </tr>\n",
       "  </tbody>\n",
       "</table>\n",
       "</div>"
      ],
      "text/plain": [
       "   IDProveedor               Nombre                   Address  \\\n",
       "0            1                  NaN           BEREGUESTEIN 36   \n",
       "1            2           San Cirano               ALBERTI 965   \n",
       "2            3            Bell S.A.                MORENO 331   \n",
       "3            4       Rivero Insumos           PTE. PERON 3872   \n",
       "4            5  Laprida Computacion  AVDA. PEDRO PEREYRA 1339   \n",
       "\n",
       "               City         State    Country  departamen  \n",
       "0        AVELLANEDA  BUENOS AIRES  ARGENTINA  AVELLANEDA  \n",
       "1  CORONEL BRANDSEN  BUENOS AIRES  ARGENTINA    BRANDSEN  \n",
       "2           CAMPANA  BUENOS AIRES  ARGENTINA     CAMPANA  \n",
       "3   VALENTIN ALSINA  BUENOS AIRES  ARGENTINA       LANUS  \n",
       "4           LAPRIDA  BUENOS AIRES  ARGENTINA     LAPRIDA  "
      ]
     },
     "execution_count": 84,
     "metadata": {},
     "output_type": "execute_result"
    }
   ],
   "source": [
    "proveedores.head()"
   ]
  },
  {
   "cell_type": "code",
   "execution_count": 85,
   "metadata": {},
   "outputs": [
    {
     "data": {
      "text/plain": [
       "IDProveedor    0\n",
       "Nombre         2\n",
       "Address        0\n",
       "City           0\n",
       "State          0\n",
       "Country        0\n",
       "departamen     0\n",
       "dtype: int64"
      ]
     },
     "execution_count": 85,
     "metadata": {},
     "output_type": "execute_result"
    }
   ],
   "source": [
    "proveedores.isnull().sum()"
   ]
  },
  {
   "cell_type": "code",
   "execution_count": 86,
   "metadata": {},
   "outputs": [],
   "source": [
    "#en la col nombre reemplazo los valores nulos por 'sin dato'\n",
    "proveedores['Nombre'].fillna('Sin Dato', inplace=True)"
   ]
  },
  {
   "cell_type": "code",
   "execution_count": 87,
   "metadata": {},
   "outputs": [],
   "source": [
    "#renombro las columnas\n",
    "proveedores = proveedores.rename(columns={'Address':'Direccion', 'City': 'Ciudad', 'State':'Provincia', 'Country': 'Pais', 'departamen':'Localidad'})"
   ]
  },
  {
   "cell_type": "code",
   "execution_count": 88,
   "metadata": {},
   "outputs": [],
   "source": [
    "#normalizo los valores de las columnas\n",
    "proveedores['Nombre']=proveedores['Nombre'].str.title()\n",
    "proveedores['Direccion']=proveedores['Direccion'].str.title()\n",
    "proveedores['Ciudad']=proveedores['Ciudad'].str.title()\n",
    "proveedores['Provincia']=proveedores['Provincia'].str.title()\n",
    "proveedores['Pais']=proveedores['Pais'].str.title()\n",
    "proveedores['Localidad']=proveedores['Localidad'].str.title()"
   ]
  },
  {
   "cell_type": "code",
   "execution_count": 89,
   "metadata": {},
   "outputs": [
    {
     "data": {
      "text/html": [
       "<div>\n",
       "<style scoped>\n",
       "    .dataframe tbody tr th:only-of-type {\n",
       "        vertical-align: middle;\n",
       "    }\n",
       "\n",
       "    .dataframe tbody tr th {\n",
       "        vertical-align: top;\n",
       "    }\n",
       "\n",
       "    .dataframe thead th {\n",
       "        text-align: right;\n",
       "    }\n",
       "</style>\n",
       "<table border=\"1\" class=\"dataframe\">\n",
       "  <thead>\n",
       "    <tr style=\"text-align: right;\">\n",
       "      <th></th>\n",
       "      <th>IDProveedor</th>\n",
       "      <th>Nombre</th>\n",
       "      <th>Direccion</th>\n",
       "      <th>Ciudad</th>\n",
       "      <th>Provincia</th>\n",
       "      <th>Pais</th>\n",
       "      <th>Localidad</th>\n",
       "    </tr>\n",
       "  </thead>\n",
       "  <tbody>\n",
       "    <tr>\n",
       "      <th>0</th>\n",
       "      <td>1</td>\n",
       "      <td>Sin Dato</td>\n",
       "      <td>Bereguestein 36</td>\n",
       "      <td>Avellaneda</td>\n",
       "      <td>Buenos Aires</td>\n",
       "      <td>Argentina</td>\n",
       "      <td>Avellaneda</td>\n",
       "    </tr>\n",
       "    <tr>\n",
       "      <th>1</th>\n",
       "      <td>2</td>\n",
       "      <td>San Cirano</td>\n",
       "      <td>Alberti 965</td>\n",
       "      <td>Coronel Brandsen</td>\n",
       "      <td>Buenos Aires</td>\n",
       "      <td>Argentina</td>\n",
       "      <td>Brandsen</td>\n",
       "    </tr>\n",
       "    <tr>\n",
       "      <th>2</th>\n",
       "      <td>3</td>\n",
       "      <td>Bell S.A.</td>\n",
       "      <td>Moreno 331</td>\n",
       "      <td>Campana</td>\n",
       "      <td>Buenos Aires</td>\n",
       "      <td>Argentina</td>\n",
       "      <td>Campana</td>\n",
       "    </tr>\n",
       "    <tr>\n",
       "      <th>3</th>\n",
       "      <td>4</td>\n",
       "      <td>Rivero Insumos</td>\n",
       "      <td>Pte. Peron 3872</td>\n",
       "      <td>Valentin Alsina</td>\n",
       "      <td>Buenos Aires</td>\n",
       "      <td>Argentina</td>\n",
       "      <td>Lanus</td>\n",
       "    </tr>\n",
       "    <tr>\n",
       "      <th>4</th>\n",
       "      <td>5</td>\n",
       "      <td>Laprida Computacion</td>\n",
       "      <td>Avda. Pedro Pereyra 1339</td>\n",
       "      <td>Laprida</td>\n",
       "      <td>Buenos Aires</td>\n",
       "      <td>Argentina</td>\n",
       "      <td>Laprida</td>\n",
       "    </tr>\n",
       "  </tbody>\n",
       "</table>\n",
       "</div>"
      ],
      "text/plain": [
       "   IDProveedor               Nombre                 Direccion  \\\n",
       "0            1             Sin Dato           Bereguestein 36   \n",
       "1            2           San Cirano               Alberti 965   \n",
       "2            3            Bell S.A.                Moreno 331   \n",
       "3            4       Rivero Insumos           Pte. Peron 3872   \n",
       "4            5  Laprida Computacion  Avda. Pedro Pereyra 1339   \n",
       "\n",
       "             Ciudad     Provincia       Pais   Localidad  \n",
       "0        Avellaneda  Buenos Aires  Argentina  Avellaneda  \n",
       "1  Coronel Brandsen  Buenos Aires  Argentina    Brandsen  \n",
       "2           Campana  Buenos Aires  Argentina     Campana  \n",
       "3   Valentin Alsina  Buenos Aires  Argentina       Lanus  \n",
       "4           Laprida  Buenos Aires  Argentina     Laprida  "
      ]
     },
     "execution_count": 89,
     "metadata": {},
     "output_type": "execute_result"
    }
   ],
   "source": [
    "proveedores.head()"
   ]
  }
 ],
 "metadata": {
  "kernelspec": {
   "display_name": "Python 3.9.5 64-bit",
   "language": "python",
   "name": "python3"
  },
  "language_info": {
   "codemirror_mode": {
    "name": "ipython",
    "version": 3
   },
   "file_extension": ".py",
   "mimetype": "text/x-python",
   "name": "python",
   "nbconvert_exporter": "python",
   "pygments_lexer": "ipython3",
   "version": "3.9.5"
  },
  "orig_nbformat": 4,
  "vscode": {
   "interpreter": {
    "hash": "ecd682a52e476ba5be570f05223aacbb805de391bd0e8b880b906a66928ac761"
   }
  }
 },
 "nbformat": 4,
 "nbformat_minor": 2
}
