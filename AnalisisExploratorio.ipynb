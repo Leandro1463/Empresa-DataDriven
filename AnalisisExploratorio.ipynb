{
 "cells": [
  {
   "cell_type": "code",
   "execution_count": 48,
   "metadata": {},
   "outputs": [],
   "source": [
    "import pandas as pd\n",
    "import numpy as np\n",
    "import seaborn as sns\n",
    "import matplotlib.pyplot as plt\n",
    "sns.set()"
   ]
  },
  {
   "cell_type": "code",
   "execution_count": 49,
   "metadata": {},
   "outputs": [],
   "source": [
    "venta = pd.read_csv('../Datasets/Venta.csv', index_col=0)\n",
    "gasto = pd.read_csv('../Datasets/Gasto.csv', index_col=0)\n",
    "compra = pd.read_csv('../Datasets/Compra.csv', index_col=0)\n",
    "localidades = pd.read_csv('../Datasets/Localidades.csv', index_col=0)\n",
    "proveedores = pd.read_csv('../Datasets/Proveedores.csv', index_col=0, encoding='ansi')\n",
    "sucursales = pd.read_csv('../Datasets/Sucursales.csv', index_col=0, delimiter=';')\n",
    "clientes = pd.read_csv('../Datasets/Clientes.csv', index_col=0, delimiter=';')\n",
    "clientes2 = pd.read_csv('../Datasets/Clientes_v2.csv', index_col=0, delimiter=';')"
   ]
  },
  {
   "cell_type": "markdown",
   "metadata": {},
   "source": [
    "### Funcion para obtener valores faltantes"
   ]
  },
  {
   "cell_type": "code",
   "execution_count": 57,
   "metadata": {},
   "outputs": [],
   "source": [
    "def get_missings(df,plot=True,rotation=45,figsize=(10,5),*kwargs):\n",
    "    labels,values,percent = list(),list(),list()\n",
    "    if df.isna().sum().sum()>0:\n",
    "        for column in df.columns:\n",
    "            if df[column].isna().sum():\n",
    "                labels.append(column)\n",
    "                values.append(df[column].isna().sum())\n",
    "                percent.append((df[column].isna().sum() / df.shape[0])*100)\n",
    "        #Make a dataframe \n",
    "        missings=pd.DataFrame({'Colúmnas':labels,'Valores faltantes':values,'PorcentajePerdido':percent}).sort_values(by='PorcentajePerdido',ascending=False)\n",
    "\n",
    "\n",
    "        if plot:\n",
    "            plt.figure(figsize=figsize)\n",
    "            plot = sns.barplot(x=missings.Colúmnas,y=round(missings.PorcentajePerdido, 2), palette = \"Blues_r\")\n",
    "            for i in plot.patches:\n",
    "                plot.annotate(i.get_height(),\n",
    "                (i.get_x() + i.get_width() / 2, i.get_height()),\n",
    "                ha = 'center', va = 'baseline', fontsize = 12,\n",
    "                color = 'black', xytext = (0,1),\n",
    "                textcoords = 'offset pixels')\n",
    "            locs, labels = plt.xticks()\n",
    "            plt.setp(labels, rotation=rotation,size=16)\n",
    "            plt.xlabel('Colúmnas',size=18)\n",
    "            plt.ylabel('Porcentaje',size=18)\n",
    "            plot.set_title(f'Porcentaje de valores perdidos',size=18)\n",
    "\n",
    "        return missings\n",
    "    else:\n",
    "        return False"
   ]
  },
  {
   "cell_type": "markdown",
   "metadata": {},
   "source": [
    "### Funcion para obtener valores Outliers"
   ]
  },
  {
   "cell_type": "code",
   "execution_count": 60,
   "metadata": {},
   "outputs": [],
   "source": [
    "def cal_datos(data, campo):\n",
    "    Q1 = data[campo].quantile(0.25)\n",
    "    Q3 = data[campo].quantile(0.75)\n",
    "    #Se calcula el rango intercuartilico IQR.\n",
    "    IQR = Q3 -Q1\n",
    "    outliersSup = (Q3 + (1.5*IQR))\n",
    "    ventaSinOut2 = data[data[campo]<outliersSup]\n",
    "    sinErrores = ventaSinOut2.shape[0]\n",
    "    ventaNulos=data[campo].isnull().sum()\n",
    "    outliers = data.shape[0]-ventaNulos-sinErrores\n",
    "    #porcentajes para graficar\n",
    "    porc_ok = round((sinErrores * 100)/data.shape[0], 2)\n",
    "    porc_nu = round((ventaNulos * 100)/data.shape[0], 2)\n",
    "    porc_out = round((outliers*100)/data.shape[0], 2)\n",
    "    #Se cargan los datos para graficar\n",
    "    datos = ['Valores Nulos','Sin Errores','Outliers'] \n",
    "    porcentaje = [porc_nu,porc_ok,porc_out] \n",
    "    df = pd.DataFrame({\"Datos\": datos, \n",
    "                    \"Porcentaje\": porcentaje}) \n",
    "    #Se grafica.\n",
    "    plot = sns.barplot(x='Datos', y=\"Porcentaje\", data=df)\n",
    "    for i in plot.patches:\n",
    "                plot.annotate(i.get_height(),\n",
    "                (i.get_x() + i.get_width() / 2, i.get_height()),\n",
    "                ha = 'center', va = 'baseline', fontsize = 12,\n",
    "                color = 'black', xytext = (0,1),\n",
    "                textcoords = 'offset pixels')\n",
    "    plot.set_title(\"Calidad De Los Datos\", fontsize = 16)\n",
    "    plt.show()\n",
    "    # print(\"Porcentaje ok: \", porc_ok, 2, \"Porcentaje nulos: \", porc_nu, \"Porcentaje outliers \", porc_out)"
   ]
  },
  {
   "cell_type": "markdown",
   "metadata": {},
   "source": [
    "## Analisis de Tabla Venta"
   ]
  },
  {
   "cell_type": "code",
   "execution_count": 50,
   "metadata": {},
   "outputs": [
    {
     "data": {
      "text/html": [
       "<div>\n",
       "<style scoped>\n",
       "    .dataframe tbody tr th:only-of-type {\n",
       "        vertical-align: middle;\n",
       "    }\n",
       "\n",
       "    .dataframe tbody tr th {\n",
       "        vertical-align: top;\n",
       "    }\n",
       "\n",
       "    .dataframe thead th {\n",
       "        text-align: right;\n",
       "    }\n",
       "</style>\n",
       "<table border=\"1\" class=\"dataframe\">\n",
       "  <thead>\n",
       "    <tr style=\"text-align: right;\">\n",
       "      <th></th>\n",
       "      <th>Fecha</th>\n",
       "      <th>Fecha_Entrega</th>\n",
       "      <th>IdCanal</th>\n",
       "      <th>IdCliente</th>\n",
       "      <th>IdSucursal</th>\n",
       "      <th>IdEmpleado</th>\n",
       "      <th>IdProducto</th>\n",
       "      <th>Precio</th>\n",
       "      <th>Cantidad</th>\n",
       "    </tr>\n",
       "    <tr>\n",
       "      <th>IdVenta</th>\n",
       "      <th></th>\n",
       "      <th></th>\n",
       "      <th></th>\n",
       "      <th></th>\n",
       "      <th></th>\n",
       "      <th></th>\n",
       "      <th></th>\n",
       "      <th></th>\n",
       "      <th></th>\n",
       "    </tr>\n",
       "  </thead>\n",
       "  <tbody>\n",
       "    <tr>\n",
       "      <th>1</th>\n",
       "      <td>2018-03-09</td>\n",
       "      <td>2018-03-17</td>\n",
       "      <td>3</td>\n",
       "      <td>969</td>\n",
       "      <td>13</td>\n",
       "      <td>1674</td>\n",
       "      <td>42817</td>\n",
       "      <td>813.12</td>\n",
       "      <td>2.0</td>\n",
       "    </tr>\n",
       "    <tr>\n",
       "      <th>2</th>\n",
       "      <td>2018-12-28</td>\n",
       "      <td>2018-12-29</td>\n",
       "      <td>2</td>\n",
       "      <td>884</td>\n",
       "      <td>13</td>\n",
       "      <td>1674</td>\n",
       "      <td>42795</td>\n",
       "      <td>543.18</td>\n",
       "      <td>3.0</td>\n",
       "    </tr>\n",
       "    <tr>\n",
       "      <th>3</th>\n",
       "      <td>2016-03-28</td>\n",
       "      <td>2016-03-31</td>\n",
       "      <td>2</td>\n",
       "      <td>1722</td>\n",
       "      <td>13</td>\n",
       "      <td>1674</td>\n",
       "      <td>42837</td>\n",
       "      <td>430.32</td>\n",
       "      <td>1.0</td>\n",
       "    </tr>\n",
       "    <tr>\n",
       "      <th>4</th>\n",
       "      <td>2017-10-23</td>\n",
       "      <td>2017-10-24</td>\n",
       "      <td>3</td>\n",
       "      <td>2876</td>\n",
       "      <td>13</td>\n",
       "      <td>1674</td>\n",
       "      <td>42834</td>\n",
       "      <td>818.84</td>\n",
       "      <td>2.0</td>\n",
       "    </tr>\n",
       "    <tr>\n",
       "      <th>5</th>\n",
       "      <td>2017-11-22</td>\n",
       "      <td>2017-11-25</td>\n",
       "      <td>2</td>\n",
       "      <td>678</td>\n",
       "      <td>13</td>\n",
       "      <td>1674</td>\n",
       "      <td>42825</td>\n",
       "      <td>554.18</td>\n",
       "      <td>3.0</td>\n",
       "    </tr>\n",
       "  </tbody>\n",
       "</table>\n",
       "</div>"
      ],
      "text/plain": [
       "              Fecha Fecha_Entrega  IdCanal  IdCliente  IdSucursal  IdEmpleado  \\\n",
       "IdVenta                                                                         \n",
       "1        2018-03-09    2018-03-17        3        969          13        1674   \n",
       "2        2018-12-28    2018-12-29        2        884          13        1674   \n",
       "3        2016-03-28    2016-03-31        2       1722          13        1674   \n",
       "4        2017-10-23    2017-10-24        3       2876          13        1674   \n",
       "5        2017-11-22    2017-11-25        2        678          13        1674   \n",
       "\n",
       "         IdProducto  Precio  Cantidad  \n",
       "IdVenta                                \n",
       "1             42817  813.12       2.0  \n",
       "2             42795  543.18       3.0  \n",
       "3             42837  430.32       1.0  \n",
       "4             42834  818.84       2.0  \n",
       "5             42825  554.18       3.0  "
      ]
     },
     "execution_count": 50,
     "metadata": {},
     "output_type": "execute_result"
    }
   ],
   "source": [
    "venta.head(5)"
   ]
  },
  {
   "cell_type": "code",
   "execution_count": 51,
   "metadata": {},
   "outputs": [
    {
     "data": {
      "text/plain": [
       "(46180, 9)"
      ]
     },
     "execution_count": 51,
     "metadata": {},
     "output_type": "execute_result"
    }
   ],
   "source": [
    "venta.shape"
   ]
  },
  {
   "cell_type": "code",
   "execution_count": 52,
   "metadata": {},
   "outputs": [
    {
     "data": {
      "text/plain": [
       "Fecha              0\n",
       "Fecha_Entrega      0\n",
       "IdCanal            0\n",
       "IdCliente          0\n",
       "IdSucursal         0\n",
       "IdEmpleado         0\n",
       "IdProducto         0\n",
       "Precio           920\n",
       "Cantidad         884\n",
       "dtype: int64"
      ]
     },
     "execution_count": 52,
     "metadata": {},
     "output_type": "execute_result"
    }
   ],
   "source": [
    "venta.isnull().sum()"
   ]
  },
  {
   "cell_type": "markdown",
   "metadata": {},
   "source": [
    "Se registran nulos en Precio y Cantidad."
   ]
  },
  {
   "cell_type": "markdown",
   "metadata": {},
   "source": [
    "Pasamos a graficar los porcentajes de los nulos."
   ]
  },
  {
   "cell_type": "code",
   "execution_count": 59,
   "metadata": {},
   "outputs": [
    {
     "data": {
      "text/html": [
       "<div>\n",
       "<style scoped>\n",
       "    .dataframe tbody tr th:only-of-type {\n",
       "        vertical-align: middle;\n",
       "    }\n",
       "\n",
       "    .dataframe tbody tr th {\n",
       "        vertical-align: top;\n",
       "    }\n",
       "\n",
       "    .dataframe thead th {\n",
       "        text-align: right;\n",
       "    }\n",
       "</style>\n",
       "<table border=\"1\" class=\"dataframe\">\n",
       "  <thead>\n",
       "    <tr style=\"text-align: right;\">\n",
       "      <th></th>\n",
       "      <th>Colúmnas</th>\n",
       "      <th>Valores faltantes</th>\n",
       "      <th>PorcentajePerdido</th>\n",
       "    </tr>\n",
       "  </thead>\n",
       "  <tbody>\n",
       "    <tr>\n",
       "      <th>0</th>\n",
       "      <td>Precio</td>\n",
       "      <td>920</td>\n",
       "      <td>1.992204</td>\n",
       "    </tr>\n",
       "    <tr>\n",
       "      <th>1</th>\n",
       "      <td>Cantidad</td>\n",
       "      <td>884</td>\n",
       "      <td>1.914249</td>\n",
       "    </tr>\n",
       "  </tbody>\n",
       "</table>\n",
       "</div>"
      ],
      "text/plain": [
       "   Colúmnas  Valores faltantes  PorcentajePerdido\n",
       "0    Precio                920           1.992204\n",
       "1  Cantidad                884           1.914249"
      ]
     },
     "execution_count": 59,
     "metadata": {},
     "output_type": "execute_result"
    },
    {
     "data": {
      "image/png": "[encoded data removed]",
      "text/plain": [
       "<Figure size 720x360 with 1 Axes>"
      ]
     },
     "metadata": {},
     "output_type": "display_data"
    }
   ],
   "source": [
    "get_missings(venta)"
   ]
  },
  {
   "cell_type": "code",
   "execution_count": 9,
   "metadata": {},
   "outputs": [
    {
     "data": {
      "text/html": [
       "<div>\n",
       "<style scoped>\n",
       "    .dataframe tbody tr th:only-of-type {\n",
       "        vertical-align: middle;\n",
       "    }\n",
       "\n",
       "    .dataframe tbody tr th {\n",
       "        vertical-align: top;\n",
       "    }\n",
       "\n",
       "    .dataframe thead th {\n",
       "        text-align: right;\n",
       "    }\n",
       "</style>\n",
       "<table border=\"1\" class=\"dataframe\">\n",
       "  <thead>\n",
       "    <tr style=\"text-align: right;\">\n",
       "      <th></th>\n",
       "      <th>count</th>\n",
       "      <th>mean</th>\n",
       "      <th>std</th>\n",
       "      <th>min</th>\n",
       "      <th>25%</th>\n",
       "      <th>50%</th>\n",
       "      <th>75%</th>\n",
       "      <th>max</th>\n",
       "    </tr>\n",
       "  </thead>\n",
       "  <tbody>\n",
       "    <tr>\n",
       "      <th>IdCanal</th>\n",
       "      <td>46645.0</td>\n",
       "      <td>2.016958</td>\n",
       "      <td>0.743113</td>\n",
       "      <td>1.0</td>\n",
       "      <td>1.0</td>\n",
       "      <td>2.00</td>\n",
       "      <td>3.0</td>\n",
       "      <td>3.0</td>\n",
       "    </tr>\n",
       "    <tr>\n",
       "      <th>IdCliente</th>\n",
       "      <td>46645.0</td>\n",
       "      <td>1502.721514</td>\n",
       "      <td>972.521043</td>\n",
       "      <td>1.0</td>\n",
       "      <td>692.0</td>\n",
       "      <td>1360.00</td>\n",
       "      <td>2273.0</td>\n",
       "      <td>3407.0</td>\n",
       "    </tr>\n",
       "    <tr>\n",
       "      <th>IdSucursal</th>\n",
       "      <td>46645.0</td>\n",
       "      <td>14.781927</td>\n",
       "      <td>8.878188</td>\n",
       "      <td>1.0</td>\n",
       "      <td>7.0</td>\n",
       "      <td>15.00</td>\n",
       "      <td>23.0</td>\n",
       "      <td>31.0</td>\n",
       "    </tr>\n",
       "    <tr>\n",
       "      <th>IdEmpleado</th>\n",
       "      <td>46645.0</td>\n",
       "      <td>2488.720956</td>\n",
       "      <td>960.499762</td>\n",
       "      <td>1011.0</td>\n",
       "      <td>1574.0</td>\n",
       "      <td>2468.00</td>\n",
       "      <td>3433.0</td>\n",
       "      <td>3979.0</td>\n",
       "    </tr>\n",
       "    <tr>\n",
       "      <th>IdProducto</th>\n",
       "      <td>46645.0</td>\n",
       "      <td>42901.305585</td>\n",
       "      <td>83.563413</td>\n",
       "      <td>42737.0</td>\n",
       "      <td>42833.0</td>\n",
       "      <td>42902.00</td>\n",
       "      <td>42974.0</td>\n",
       "      <td>43043.0</td>\n",
       "    </tr>\n",
       "    <tr>\n",
       "      <th>Precio</th>\n",
       "      <td>45721.0</td>\n",
       "      <td>5835.633585</td>\n",
       "      <td>249801.601585</td>\n",
       "      <td>3.0</td>\n",
       "      <td>438.0</td>\n",
       "      <td>653.62</td>\n",
       "      <td>1789.0</td>\n",
       "      <td>33739200.0</td>\n",
       "    </tr>\n",
       "    <tr>\n",
       "      <th>Cantidad</th>\n",
       "      <td>45753.0</td>\n",
       "      <td>2.385395</td>\n",
       "      <td>3.547991</td>\n",
       "      <td>1.0</td>\n",
       "      <td>2.0</td>\n",
       "      <td>2.00</td>\n",
       "      <td>3.0</td>\n",
       "      <td>300.0</td>\n",
       "    </tr>\n",
       "  </tbody>\n",
       "</table>\n",
       "</div>"
      ],
      "text/plain": [
       "              count          mean            std      min      25%       50%  \\\n",
       "IdCanal     46645.0      2.016958       0.743113      1.0      1.0      2.00   \n",
       "IdCliente   46645.0   1502.721514     972.521043      1.0    692.0   1360.00   \n",
       "IdSucursal  46645.0     14.781927       8.878188      1.0      7.0     15.00   \n",
       "IdEmpleado  46645.0   2488.720956     960.499762   1011.0   1574.0   2468.00   \n",
       "IdProducto  46645.0  42901.305585      83.563413  42737.0  42833.0  42902.00   \n",
       "Precio      45721.0   5835.633585  249801.601585      3.0    438.0    653.62   \n",
       "Cantidad    45753.0      2.385395       3.547991      1.0      2.0      2.00   \n",
       "\n",
       "                75%         max  \n",
       "IdCanal         3.0         3.0  \n",
       "IdCliente    2273.0      3407.0  \n",
       "IdSucursal     23.0        31.0  \n",
       "IdEmpleado   3433.0      3979.0  \n",
       "IdProducto  42974.0     43043.0  \n",
       "Precio       1789.0  33739200.0  \n",
       "Cantidad        3.0       300.0  "
      ]
     },
     "execution_count": 9,
     "metadata": {},
     "output_type": "execute_result"
    }
   ],
   "source": [
    "venta.describe().T"
   ]
  },
  {
   "cell_type": "markdown",
   "metadata": {},
   "source": [
    "Analizamos las features de tipo numericos para poder obtener los outliers."
   ]
  },
  {
   "cell_type": "markdown",
   "metadata": {},
   "source": [
    "En la columna Precio podemos ver que a partir de 3815.5 en adelante son outliers."
   ]
  },
  {
   "cell_type": "code",
   "execution_count": 11,
   "metadata": {},
   "outputs": [
    {
     "data": {
      "image/png": "[encoded data removed]",
      "text/plain": [
       "<Figure size 432x288 with 1 Axes>"
      ]
     },
     "metadata": {},
     "output_type": "display_data"
    }
   ],
   "source": [
    "venta_Precio = venta['Precio']<3815.5\n",
    "venta[venta_Precio].boxplot(column='Precio',vert = False);"
   ]
  },
  {
   "cell_type": "markdown",
   "metadata": {},
   "source": [
    "Eliminamos los valores outliers de la tabla venta."
   ]
  },
  {
   "cell_type": "code",
   "execution_count": 12,
   "metadata": {},
   "outputs": [
    {
     "data": {
      "text/plain": [
       "43234"
      ]
     },
     "execution_count": 12,
     "metadata": {},
     "output_type": "execute_result"
    }
   ],
   "source": [
    "ventaSinOut2 = venta[venta_Precio]\n",
    "sinErrores = ventaSinOut2.shape[0]\n",
    "sinErrores"
   ]
  },
  {
   "cell_type": "code",
   "execution_count": 13,
   "metadata": {},
   "outputs": [],
   "source": [
    "porc_ok = (sinErrores*100)/venta.shape[0]"
   ]
  },
  {
   "cell_type": "code",
   "execution_count": 14,
   "metadata": {},
   "outputs": [
    {
     "data": {
      "text/plain": [
       "924"
      ]
     },
     "execution_count": 14,
     "metadata": {},
     "output_type": "execute_result"
    }
   ],
   "source": [
    "ventaNulos=venta.Precio.isnull().sum()\n",
    "ventaNulos"
   ]
  },
  {
   "cell_type": "code",
   "execution_count": 15,
   "metadata": {},
   "outputs": [],
   "source": [
    "porc_nu = (ventaNulos*100)/venta.shape[0]"
   ]
  },
  {
   "cell_type": "code",
   "execution_count": 16,
   "metadata": {},
   "outputs": [
    {
     "data": {
      "text/plain": [
       "2487"
      ]
     },
     "execution_count": 16,
     "metadata": {},
     "output_type": "execute_result"
    }
   ],
   "source": [
    "outliers = venta.shape[0]-ventaNulos-sinErrores\n",
    "outliers"
   ]
  },
  {
   "cell_type": "code",
   "execution_count": 17,
   "metadata": {},
   "outputs": [],
   "source": [
    "porc_out = (outliers*100)/venta.shape[0]"
   ]
  },
  {
   "cell_type": "code",
   "execution_count": 18,
   "metadata": {},
   "outputs": [],
   "source": [
    "datos = ['ventaNulos','sinErrores','outliers']\n",
    "porcentaje = [porc_nu,porc_ok,porc_out]\n",
    "df = pd.DataFrame({\"Datos\": datos, \n",
    "                   \"Porcentaje\": porcentaje})"
   ]
  },
  {
   "cell_type": "markdown",
   "metadata": {},
   "source": [
    "#### Graficamos los porcentajes de los datos nulos, Sin errores y outliers de la feature Precio."
   ]
  },
  {
   "cell_type": "code",
   "execution_count": 19,
   "metadata": {},
   "outputs": [
    {
     "data": {
      "image/png": "[encoded data removed]",
      "text/plain": [
       "<Figure size 432x288 with 1 Axes>"
      ]
     },
     "metadata": {},
     "output_type": "display_data"
    }
   ],
   "source": [
    "sns.barplot(x='Datos', y=\"Porcentaje\", data=df);"
   ]
  },
  {
   "cell_type": "markdown",
   "metadata": {},
   "source": [
    "#### Graficamos los porcentajes de los datos nulos, Sin errores y outliers de la feature Cantidad."
   ]
  },
  {
   "cell_type": "code",
   "execution_count": 20,
   "metadata": {},
   "outputs": [
    {
     "data": {
      "image/png": "[encoded data removed]",
      "text/plain": [
       "<Figure size 432x288 with 1 Axes>"
      ]
     },
     "metadata": {},
     "output_type": "display_data"
    }
   ],
   "source": [
    "Q1 = venta[\"Cantidad\"].quantile(0.25)\n",
    "Q3 = venta[\"Cantidad\"].quantile(0.75)\n",
    "#Se calcula el rango intercuartilico IQR.\n",
    "IQR = Q3 -Q1\n",
    "outliersSup = (Q3 + (1.5*IQR)) \n",
    "mask = venta[\"Cantidad\"]<outliersSup\n",
    "ventaSinOut2 = venta[mask]\n",
    "sinErrores = ventaSinOut2.shape[0]\n",
    "ventaNulos=venta.Cantidad.isnull().sum()\n",
    "outliers = venta.shape[0]-ventaNulos-sinErrores\n",
    "#porcentajes para graficar\n",
    "porc_ok = (sinErrores*100)/venta.shape[0]\n",
    "porc_nu = (ventaNulos*100)/venta.shape[0]\n",
    "porc_out = (outliers*100)/venta.shape[0]\n",
    "#Se cargan los datos para graficar\n",
    "datos = ['ventaNulos','sinErrores','outliers'] \n",
    "porcentaje = [porc_nu,porc_ok,porc_out] \n",
    "df = pd.DataFrame({\"Datos\": datos, \n",
    "                   \"Porcentaje\": porcentaje}) \n",
    "#Se grafica.\n",
    "sns.barplot(x='Datos', y=\"Porcentaje\", data=df)\n",
    "plt.show()"
   ]
  },
  {
   "cell_type": "code",
   "execution_count": 21,
   "metadata": {},
   "outputs": [
    {
     "data": {
      "text/plain": [
       "<AxesSubplot:>"
      ]
     },
     "execution_count": 21,
     "metadata": {},
     "output_type": "execute_result"
    },
    {
     "data": {
      "image/png": "[encoded data removed]",
      "text/plain": [
       "<Figure size 432x288 with 1 Axes>"
      ]
     },
     "metadata": {},
     "output_type": "display_data"
    }
   ],
   "source": [
    "venta_cantidad = pd.DataFrame(venta['Cantidad'])\n",
    "venta_cantidad.boxplot(vert = False)"
   ]
  },
  {
   "cell_type": "markdown",
   "metadata": {},
   "source": [
    "### Analisis de Tabla Localidades"
   ]
  },
  {
   "cell_type": "code",
   "execution_count": 22,
   "metadata": {},
   "outputs": [
    {
     "data": {
      "text/html": [
       "<div>\n",
       "<style scoped>\n",
       "    .dataframe tbody tr th:only-of-type {\n",
       "        vertical-align: middle;\n",
       "    }\n",
       "\n",
       "    .dataframe tbody tr th {\n",
       "        vertical-align: top;\n",
       "    }\n",
       "\n",
       "    .dataframe thead th {\n",
       "        text-align: right;\n",
       "    }\n",
       "</style>\n",
       "<table border=\"1\" class=\"dataframe\">\n",
       "  <thead>\n",
       "    <tr style=\"text-align: right;\">\n",
       "      <th></th>\n",
       "      <th>centroide_lat</th>\n",
       "      <th>centroide_lon</th>\n",
       "      <th>departamento_id</th>\n",
       "      <th>departamento_nombre</th>\n",
       "      <th>fuente</th>\n",
       "      <th>id</th>\n",
       "      <th>localidad_censal_id</th>\n",
       "      <th>localidad_censal_nombre</th>\n",
       "      <th>municipio_id</th>\n",
       "      <th>municipio_nombre</th>\n",
       "      <th>nombre</th>\n",
       "      <th>provincia_id</th>\n",
       "      <th>provincia_nombre</th>\n",
       "    </tr>\n",
       "    <tr>\n",
       "      <th>categoria</th>\n",
       "      <th></th>\n",
       "      <th></th>\n",
       "      <th></th>\n",
       "      <th></th>\n",
       "      <th></th>\n",
       "      <th></th>\n",
       "      <th></th>\n",
       "      <th></th>\n",
       "      <th></th>\n",
       "      <th></th>\n",
       "      <th></th>\n",
       "      <th></th>\n",
       "      <th></th>\n",
       "    </tr>\n",
       "  </thead>\n",
       "  <tbody>\n",
       "    <tr>\n",
       "      <th>Localidad simple</th>\n",
       "      <td>-35.033073</td>\n",
       "      <td>-60.280620</td>\n",
       "      <td>6021.0</td>\n",
       "      <td>Alberti</td>\n",
       "      <td>INDEC</td>\n",
       "      <td>6021010000</td>\n",
       "      <td>6021010</td>\n",
       "      <td>Alberti</td>\n",
       "      <td>60021.0</td>\n",
       "      <td>Alberti</td>\n",
       "      <td>ALBERTI</td>\n",
       "      <td>6</td>\n",
       "      <td>Buenos Aires</td>\n",
       "    </tr>\n",
       "    <tr>\n",
       "      <th>Localidad simple</th>\n",
       "      <td>-34.868119</td>\n",
       "      <td>-60.393971</td>\n",
       "      <td>6021.0</td>\n",
       "      <td>Alberti</td>\n",
       "      <td>INDEC</td>\n",
       "      <td>6021020000</td>\n",
       "      <td>6021020</td>\n",
       "      <td>Coronel Seguí</td>\n",
       "      <td>60021.0</td>\n",
       "      <td>Alberti</td>\n",
       "      <td>CORONEL SEGUI</td>\n",
       "      <td>6</td>\n",
       "      <td>Buenos Aires</td>\n",
       "    </tr>\n",
       "    <tr>\n",
       "      <th>Componente de localidad compuesta</th>\n",
       "      <td>-35.068014</td>\n",
       "      <td>-60.402597</td>\n",
       "      <td>6021.0</td>\n",
       "      <td>Alberti</td>\n",
       "      <td>INDEC</td>\n",
       "      <td>6021030000</td>\n",
       "      <td>6021030</td>\n",
       "      <td>Mechita</td>\n",
       "      <td>60021.0</td>\n",
       "      <td>Alberti</td>\n",
       "      <td>MECHITA</td>\n",
       "      <td>6</td>\n",
       "      <td>Buenos Aires</td>\n",
       "    </tr>\n",
       "    <tr>\n",
       "      <th>Localidad simple</th>\n",
       "      <td>-35.124382</td>\n",
       "      <td>-60.220061</td>\n",
       "      <td>6021.0</td>\n",
       "      <td>Alberti</td>\n",
       "      <td>INDEC</td>\n",
       "      <td>6021040000</td>\n",
       "      <td>6021040</td>\n",
       "      <td>Pla</td>\n",
       "      <td>60021.0</td>\n",
       "      <td>Alberti</td>\n",
       "      <td>PLA</td>\n",
       "      <td>6</td>\n",
       "      <td>Buenos Aires</td>\n",
       "    </tr>\n",
       "    <tr>\n",
       "      <th>Localidad simple</th>\n",
       "      <td>-35.109618</td>\n",
       "      <td>-60.070551</td>\n",
       "      <td>6021.0</td>\n",
       "      <td>Alberti</td>\n",
       "      <td>INDEC</td>\n",
       "      <td>6021050000</td>\n",
       "      <td>6021050</td>\n",
       "      <td>Villa Grisolía</td>\n",
       "      <td>60021.0</td>\n",
       "      <td>Alberti</td>\n",
       "      <td>VILLA GRISOLIA</td>\n",
       "      <td>6</td>\n",
       "      <td>Buenos Aires</td>\n",
       "    </tr>\n",
       "  </tbody>\n",
       "</table>\n",
       "</div>"
      ],
      "text/plain": [
       "                                   centroide_lat  centroide_lon  \\\n",
       "categoria                                                         \n",
       "Localidad simple                      -35.033073     -60.280620   \n",
       "Localidad simple                      -34.868119     -60.393971   \n",
       "Componente de localidad compuesta     -35.068014     -60.402597   \n",
       "Localidad simple                      -35.124382     -60.220061   \n",
       "Localidad simple                      -35.109618     -60.070551   \n",
       "\n",
       "                                   departamento_id departamento_nombre fuente  \\\n",
       "categoria                                                                       \n",
       "Localidad simple                            6021.0             Alberti  INDEC   \n",
       "Localidad simple                            6021.0             Alberti  INDEC   \n",
       "Componente de localidad compuesta           6021.0             Alberti  INDEC   \n",
       "Localidad simple                            6021.0             Alberti  INDEC   \n",
       "Localidad simple                            6021.0             Alberti  INDEC   \n",
       "\n",
       "                                           id  localidad_censal_id  \\\n",
       "categoria                                                            \n",
       "Localidad simple                   6021010000              6021010   \n",
       "Localidad simple                   6021020000              6021020   \n",
       "Componente de localidad compuesta  6021030000              6021030   \n",
       "Localidad simple                   6021040000              6021040   \n",
       "Localidad simple                   6021050000              6021050   \n",
       "\n",
       "                                  localidad_censal_nombre  municipio_id  \\\n",
       "categoria                                                                 \n",
       "Localidad simple                                  Alberti       60021.0   \n",
       "Localidad simple                            Coronel Seguí       60021.0   \n",
       "Componente de localidad compuesta                 Mechita       60021.0   \n",
       "Localidad simple                                      Pla       60021.0   \n",
       "Localidad simple                           Villa Grisolía       60021.0   \n",
       "\n",
       "                                  municipio_nombre          nombre  \\\n",
       "categoria                                                            \n",
       "Localidad simple                           Alberti         ALBERTI   \n",
       "Localidad simple                           Alberti   CORONEL SEGUI   \n",
       "Componente de localidad compuesta          Alberti         MECHITA   \n",
       "Localidad simple                           Alberti             PLA   \n",
       "Localidad simple                           Alberti  VILLA GRISOLIA   \n",
       "\n",
       "                                   provincia_id provincia_nombre  \n",
       "categoria                                                         \n",
       "Localidad simple                              6     Buenos Aires  \n",
       "Localidad simple                              6     Buenos Aires  \n",
       "Componente de localidad compuesta             6     Buenos Aires  \n",
       "Localidad simple                              6     Buenos Aires  \n",
       "Localidad simple                              6     Buenos Aires  "
      ]
     },
     "execution_count": 22,
     "metadata": {},
     "output_type": "execute_result"
    }
   ],
   "source": [
    "localidades.head()"
   ]
  },
  {
   "cell_type": "markdown",
   "metadata": {},
   "source": [
    "Analizamos valores faltantes."
   ]
  },
  {
   "cell_type": "code",
   "execution_count": 23,
   "metadata": {},
   "outputs": [
    {
     "data": {
      "text/html": [
       "<div>\n",
       "<style scoped>\n",
       "    .dataframe tbody tr th:only-of-type {\n",
       "        vertical-align: middle;\n",
       "    }\n",
       "\n",
       "    .dataframe tbody tr th {\n",
       "        vertical-align: top;\n",
       "    }\n",
       "\n",
       "    .dataframe thead th {\n",
       "        text-align: right;\n",
       "    }\n",
       "</style>\n",
       "<table border=\"1\" class=\"dataframe\">\n",
       "  <thead>\n",
       "    <tr style=\"text-align: right;\">\n",
       "      <th></th>\n",
       "      <th>Features</th>\n",
       "      <th>MissingValues</th>\n",
       "      <th>MissingPercent</th>\n",
       "    </tr>\n",
       "  </thead>\n",
       "  <tbody>\n",
       "    <tr>\n",
       "      <th>0</th>\n",
       "      <td>departamento_id</td>\n",
       "      <td>1</td>\n",
       "      <td>0.024143</td>\n",
       "    </tr>\n",
       "    <tr>\n",
       "      <th>1</th>\n",
       "      <td>departamento_nombre</td>\n",
       "      <td>1</td>\n",
       "      <td>0.024143</td>\n",
       "    </tr>\n",
       "    <tr>\n",
       "      <th>2</th>\n",
       "      <td>municipio_id</td>\n",
       "      <td>543</td>\n",
       "      <td>13.109609</td>\n",
       "    </tr>\n",
       "    <tr>\n",
       "      <th>3</th>\n",
       "      <td>municipio_nombre</td>\n",
       "      <td>494</td>\n",
       "      <td>11.926606</td>\n",
       "    </tr>\n",
       "  </tbody>\n",
       "</table>\n",
       "</div>"
      ],
      "text/plain": [
       "              Features  MissingValues  MissingPercent\n",
       "0      departamento_id              1        0.024143\n",
       "1  departamento_nombre              1        0.024143\n",
       "2         municipio_id            543       13.109609\n",
       "3     municipio_nombre            494       11.926606"
      ]
     },
     "execution_count": 23,
     "metadata": {},
     "output_type": "execute_result"
    },
    {
     "data": {
      "image/png": "[encoded data removed]",
      "text/plain": [
       "<Figure size 720x360 with 1 Axes>"
      ]
     },
     "metadata": {},
     "output_type": "display_data"
    }
   ],
   "source": [
    "get_missings(localidades).sort_index()"
   ]
  },
  {
   "cell_type": "markdown",
   "metadata": {},
   "source": [
    "### Analisis de la tabla Gasto."
   ]
  },
  {
   "cell_type": "code",
   "execution_count": 24,
   "metadata": {},
   "outputs": [
    {
     "data": {
      "text/html": [
       "<div>\n",
       "<style scoped>\n",
       "    .dataframe tbody tr th:only-of-type {\n",
       "        vertical-align: middle;\n",
       "    }\n",
       "\n",
       "    .dataframe tbody tr th {\n",
       "        vertical-align: top;\n",
       "    }\n",
       "\n",
       "    .dataframe thead th {\n",
       "        text-align: right;\n",
       "    }\n",
       "</style>\n",
       "<table border=\"1\" class=\"dataframe\">\n",
       "  <thead>\n",
       "    <tr style=\"text-align: right;\">\n",
       "      <th></th>\n",
       "      <th>IdSucursal</th>\n",
       "      <th>IdTipoGasto</th>\n",
       "      <th>Fecha</th>\n",
       "      <th>Monto</th>\n",
       "    </tr>\n",
       "    <tr>\n",
       "      <th>IdGasto</th>\n",
       "      <th></th>\n",
       "      <th></th>\n",
       "      <th></th>\n",
       "      <th></th>\n",
       "    </tr>\n",
       "  </thead>\n",
       "  <tbody>\n",
       "    <tr>\n",
       "      <th>1</th>\n",
       "      <td>18</td>\n",
       "      <td>1</td>\n",
       "      <td>2015-01-01</td>\n",
       "      <td>1164.90</td>\n",
       "    </tr>\n",
       "    <tr>\n",
       "      <th>2</th>\n",
       "      <td>18</td>\n",
       "      <td>2</td>\n",
       "      <td>2015-01-01</td>\n",
       "      <td>317.02</td>\n",
       "    </tr>\n",
       "    <tr>\n",
       "      <th>3</th>\n",
       "      <td>18</td>\n",
       "      <td>3</td>\n",
       "      <td>2015-01-01</td>\n",
       "      <td>118.89</td>\n",
       "    </tr>\n",
       "    <tr>\n",
       "      <th>4</th>\n",
       "      <td>18</td>\n",
       "      <td>4</td>\n",
       "      <td>2015-01-01</td>\n",
       "      <td>1174.23</td>\n",
       "    </tr>\n",
       "    <tr>\n",
       "      <th>5</th>\n",
       "      <td>1</td>\n",
       "      <td>1</td>\n",
       "      <td>2015-01-01</td>\n",
       "      <td>1104.51</td>\n",
       "    </tr>\n",
       "  </tbody>\n",
       "</table>\n",
       "</div>"
      ],
      "text/plain": [
       "         IdSucursal  IdTipoGasto       Fecha    Monto\n",
       "IdGasto                                              \n",
       "1                18            1  2015-01-01  1164.90\n",
       "2                18            2  2015-01-01   317.02\n",
       "3                18            3  2015-01-01   118.89\n",
       "4                18            4  2015-01-01  1174.23\n",
       "5                 1            1  2015-01-01  1104.51"
      ]
     },
     "execution_count": 24,
     "metadata": {},
     "output_type": "execute_result"
    }
   ],
   "source": [
    "gasto.head()"
   ]
  },
  {
   "cell_type": "code",
   "execution_count": 25,
   "metadata": {},
   "outputs": [
    {
     "data": {
      "text/plain": [
       "False"
      ]
     },
     "execution_count": 25,
     "metadata": {},
     "output_type": "execute_result"
    }
   ],
   "source": [
    "get_missings(gasto)"
   ]
  },
  {
   "cell_type": "code",
   "execution_count": 26,
   "metadata": {},
   "outputs": [
    {
     "data": {
      "text/html": [
       "<div>\n",
       "<style scoped>\n",
       "    .dataframe tbody tr th:only-of-type {\n",
       "        vertical-align: middle;\n",
       "    }\n",
       "\n",
       "    .dataframe tbody tr th {\n",
       "        vertical-align: top;\n",
       "    }\n",
       "\n",
       "    .dataframe thead th {\n",
       "        text-align: right;\n",
       "    }\n",
       "</style>\n",
       "<table border=\"1\" class=\"dataframe\">\n",
       "  <thead>\n",
       "    <tr style=\"text-align: right;\">\n",
       "      <th></th>\n",
       "      <th>count</th>\n",
       "      <th>mean</th>\n",
       "      <th>std</th>\n",
       "      <th>min</th>\n",
       "      <th>25%</th>\n",
       "      <th>50%</th>\n",
       "      <th>75%</th>\n",
       "      <th>max</th>\n",
       "    </tr>\n",
       "  </thead>\n",
       "  <tbody>\n",
       "    <tr>\n",
       "      <th>IdSucursal</th>\n",
       "      <td>8640.0</td>\n",
       "      <td>15.600000</td>\n",
       "      <td>8.815649</td>\n",
       "      <td>1.0</td>\n",
       "      <td>8.0000</td>\n",
       "      <td>15.50</td>\n",
       "      <td>23.0000</td>\n",
       "      <td>31.00</td>\n",
       "    </tr>\n",
       "    <tr>\n",
       "      <th>IdTipoGasto</th>\n",
       "      <td>8640.0</td>\n",
       "      <td>2.500000</td>\n",
       "      <td>1.118099</td>\n",
       "      <td>1.0</td>\n",
       "      <td>1.7500</td>\n",
       "      <td>2.50</td>\n",
       "      <td>3.2500</td>\n",
       "      <td>4.00</td>\n",
       "    </tr>\n",
       "    <tr>\n",
       "      <th>Monto</th>\n",
       "      <td>8640.0</td>\n",
       "      <td>659.919324</td>\n",
       "      <td>448.630839</td>\n",
       "      <td>100.0</td>\n",
       "      <td>255.0225</td>\n",
       "      <td>679.99</td>\n",
       "      <td>1100.5225</td>\n",
       "      <td>1199.88</td>\n",
       "    </tr>\n",
       "  </tbody>\n",
       "</table>\n",
       "</div>"
      ],
      "text/plain": [
       "              count        mean         std    min       25%     50%  \\\n",
       "IdSucursal   8640.0   15.600000    8.815649    1.0    8.0000   15.50   \n",
       "IdTipoGasto  8640.0    2.500000    1.118099    1.0    1.7500    2.50   \n",
       "Monto        8640.0  659.919324  448.630839  100.0  255.0225  679.99   \n",
       "\n",
       "                   75%      max  \n",
       "IdSucursal     23.0000    31.00  \n",
       "IdTipoGasto     3.2500     4.00  \n",
       "Monto        1100.5225  1199.88  "
      ]
     },
     "execution_count": 26,
     "metadata": {},
     "output_type": "execute_result"
    }
   ],
   "source": [
    "gasto.describe().T"
   ]
  },
  {
   "cell_type": "code",
   "execution_count": 27,
   "metadata": {},
   "outputs": [
    {
     "data": {
      "image/png": "[encoded data removed]",
      "text/plain": [
       "<Figure size 432x288 with 1 Axes>"
      ]
     },
     "metadata": {},
     "output_type": "display_data"
    }
   ],
   "source": [
    "gasto.boxplot(column='Monto',vert = False);"
   ]
  },
  {
   "cell_type": "code",
   "execution_count": 28,
   "metadata": {},
   "outputs": [
    {
     "data": {
      "image/png": "[encoded data removed]",
      "text/plain": [
       "<Figure size 432x288 with 1 Axes>"
      ]
     },
     "metadata": {},
     "output_type": "display_data"
    }
   ],
   "source": [
    "Q1 = gasto[\"Monto\"].quantile(0.25)\n",
    "Q3 = gasto[\"Monto\"].quantile(0.75)\n",
    "#Se calcula el rango intercuartilico IQR.\n",
    "IQR = Q3 -Q1\n",
    "outliersSup = (Q3 + (1.5*IQR))\n",
    "mask = gasto[\"Monto\"]<outliersSup\n",
    "gastoSinOut2 = gasto[mask]\n",
    "sinErrores = gastoSinOut2.shape[0]\n",
    "gastoNulos=gasto.Monto.isnull().sum()\n",
    "outliers = gasto.shape[0]-gastoNulos-sinErrores\n",
    "#porcentajes para graficar\n",
    "porc_ok = (sinErrores*100)/gasto.shape[0]\n",
    "porc_nu = (gastoNulos*100)/gasto.shape[0]\n",
    "porc_out = (outliers*100)/gasto.shape[0]\n",
    "#Se cargan los datos para graficar\n",
    "datos = ['gastoNulos','sinErrores','outliers'] \n",
    "porcentaje = [porc_nu,porc_ok,porc_out] \n",
    "df = pd.DataFrame({\"Datos\": datos, \n",
    "                   \"Porcentaje\": porcentaje}) \n",
    "#Se grafica.\n",
    "sns.barplot(x='Datos', y=\"Porcentaje\", data=df)\n",
    "plt.show()"
   ]
  },
  {
   "cell_type": "markdown",
   "metadata": {},
   "source": [
    "### Analisis de la Tabla Compra."
   ]
  },
  {
   "cell_type": "code",
   "execution_count": 29,
   "metadata": {},
   "outputs": [
    {
     "data": {
      "text/html": [
       "<div>\n",
       "<style scoped>\n",
       "    .dataframe tbody tr th:only-of-type {\n",
       "        vertical-align: middle;\n",
       "    }\n",
       "\n",
       "    .dataframe tbody tr th {\n",
       "        vertical-align: top;\n",
       "    }\n",
       "\n",
       "    .dataframe thead th {\n",
       "        text-align: right;\n",
       "    }\n",
       "</style>\n",
       "<table border=\"1\" class=\"dataframe\">\n",
       "  <thead>\n",
       "    <tr style=\"text-align: right;\">\n",
       "      <th></th>\n",
       "      <th>Fecha</th>\n",
       "      <th>Fecha_Año</th>\n",
       "      <th>Fecha_Mes</th>\n",
       "      <th>Fecha_Periodo</th>\n",
       "      <th>IdProducto</th>\n",
       "      <th>Cantidad</th>\n",
       "      <th>Precio</th>\n",
       "      <th>IdProveedor</th>\n",
       "    </tr>\n",
       "    <tr>\n",
       "      <th>IdCompra</th>\n",
       "      <th></th>\n",
       "      <th></th>\n",
       "      <th></th>\n",
       "      <th></th>\n",
       "      <th></th>\n",
       "      <th></th>\n",
       "      <th></th>\n",
       "      <th></th>\n",
       "    </tr>\n",
       "  </thead>\n",
       "  <tbody>\n",
       "    <tr>\n",
       "      <th>1</th>\n",
       "      <td>1/30/2015</td>\n",
       "      <td>2015</td>\n",
       "      <td>1</td>\n",
       "      <td>201501</td>\n",
       "      <td>42832</td>\n",
       "      <td>13</td>\n",
       "      <td>560.51</td>\n",
       "      <td>12</td>\n",
       "    </tr>\n",
       "    <tr>\n",
       "      <th>2</th>\n",
       "      <td>1/30/2015</td>\n",
       "      <td>2015</td>\n",
       "      <td>1</td>\n",
       "      <td>201501</td>\n",
       "      <td>42833</td>\n",
       "      <td>11</td>\n",
       "      <td>497.58</td>\n",
       "      <td>7</td>\n",
       "    </tr>\n",
       "    <tr>\n",
       "      <th>3</th>\n",
       "      <td>1/30/2015</td>\n",
       "      <td>2015</td>\n",
       "      <td>1</td>\n",
       "      <td>201501</td>\n",
       "      <td>42834</td>\n",
       "      <td>1</td>\n",
       "      <td>588.50</td>\n",
       "      <td>6</td>\n",
       "    </tr>\n",
       "    <tr>\n",
       "      <th>4</th>\n",
       "      <td>1/30/2015</td>\n",
       "      <td>2015</td>\n",
       "      <td>1</td>\n",
       "      <td>201501</td>\n",
       "      <td>42835</td>\n",
       "      <td>9</td>\n",
       "      <td>567.66</td>\n",
       "      <td>14</td>\n",
       "    </tr>\n",
       "    <tr>\n",
       "      <th>5</th>\n",
       "      <td>1/30/2015</td>\n",
       "      <td>2015</td>\n",
       "      <td>1</td>\n",
       "      <td>201501</td>\n",
       "      <td>42839</td>\n",
       "      <td>14</td>\n",
       "      <td>231.31</td>\n",
       "      <td>2</td>\n",
       "    </tr>\n",
       "  </tbody>\n",
       "</table>\n",
       "</div>"
      ],
      "text/plain": [
       "              Fecha  Fecha_Año  Fecha_Mes  Fecha_Periodo  IdProducto  \\\n",
       "IdCompra                                                               \n",
       "1         1/30/2015       2015          1         201501       42832   \n",
       "2         1/30/2015       2015          1         201501       42833   \n",
       "3         1/30/2015       2015          1         201501       42834   \n",
       "4         1/30/2015       2015          1         201501       42835   \n",
       "5         1/30/2015       2015          1         201501       42839   \n",
       "\n",
       "          Cantidad  Precio  IdProveedor  \n",
       "IdCompra                                 \n",
       "1               13  560.51           12  \n",
       "2               11  497.58            7  \n",
       "3                1  588.50            6  \n",
       "4                9  567.66           14  \n",
       "5               14  231.31            2  "
      ]
     },
     "execution_count": 29,
     "metadata": {},
     "output_type": "execute_result"
    }
   ],
   "source": [
    "compra.head()"
   ]
  },
  {
   "cell_type": "code",
   "execution_count": 30,
   "metadata": {},
   "outputs": [
    {
     "data": {
      "text/html": [
       "<div>\n",
       "<style scoped>\n",
       "    .dataframe tbody tr th:only-of-type {\n",
       "        vertical-align: middle;\n",
       "    }\n",
       "\n",
       "    .dataframe tbody tr th {\n",
       "        vertical-align: top;\n",
       "    }\n",
       "\n",
       "    .dataframe thead th {\n",
       "        text-align: right;\n",
       "    }\n",
       "</style>\n",
       "<table border=\"1\" class=\"dataframe\">\n",
       "  <thead>\n",
       "    <tr style=\"text-align: right;\">\n",
       "      <th></th>\n",
       "      <th>Features</th>\n",
       "      <th>MissingValues</th>\n",
       "      <th>MissingPercent</th>\n",
       "    </tr>\n",
       "  </thead>\n",
       "  <tbody>\n",
       "    <tr>\n",
       "      <th>0</th>\n",
       "      <td>Precio</td>\n",
       "      <td>367</td>\n",
       "      <td>3.180518</td>\n",
       "    </tr>\n",
       "  </tbody>\n",
       "</table>\n",
       "</div>"
      ],
      "text/plain": [
       "  Features  MissingValues  MissingPercent\n",
       "0   Precio            367        3.180518"
      ]
     },
     "execution_count": 30,
     "metadata": {},
     "output_type": "execute_result"
    },
    {
     "data": {
      "image/png": "[encoded data removed]",
      "text/plain": [
       "<Figure size 720x360 with 1 Axes>"
      ]
     },
     "metadata": {},
     "output_type": "display_data"
    }
   ],
   "source": [
    "get_missings(compra)"
   ]
  },
  {
   "cell_type": "code",
   "execution_count": 31,
   "metadata": {},
   "outputs": [
    {
     "data": {
      "text/plain": [
       "Fecha              0\n",
       "Fecha_Año          0\n",
       "Fecha_Mes          0\n",
       "Fecha_Periodo      0\n",
       "IdProducto         0\n",
       "Cantidad           0\n",
       "Precio           367\n",
       "IdProveedor        0\n",
       "dtype: int64"
      ]
     },
     "execution_count": 31,
     "metadata": {},
     "output_type": "execute_result"
    }
   ],
   "source": [
    "compra.isnull().sum()"
   ]
  },
  {
   "cell_type": "code",
   "execution_count": 32,
   "metadata": {},
   "outputs": [
    {
     "data": {
      "text/html": [
       "<div>\n",
       "<style scoped>\n",
       "    .dataframe tbody tr th:only-of-type {\n",
       "        vertical-align: middle;\n",
       "    }\n",
       "\n",
       "    .dataframe tbody tr th {\n",
       "        vertical-align: top;\n",
       "    }\n",
       "\n",
       "    .dataframe thead th {\n",
       "        text-align: right;\n",
       "    }\n",
       "</style>\n",
       "<table border=\"1\" class=\"dataframe\">\n",
       "  <thead>\n",
       "    <tr style=\"text-align: right;\">\n",
       "      <th></th>\n",
       "      <th>count</th>\n",
       "      <th>mean</th>\n",
       "      <th>std</th>\n",
       "      <th>min</th>\n",
       "      <th>25%</th>\n",
       "      <th>50%</th>\n",
       "      <th>75%</th>\n",
       "      <th>max</th>\n",
       "    </tr>\n",
       "  </thead>\n",
       "  <tbody>\n",
       "    <tr>\n",
       "      <th>Fecha_Año</th>\n",
       "      <td>11539.0</td>\n",
       "      <td>2017.671549</td>\n",
       "      <td>1.770288</td>\n",
       "      <td>2015.00</td>\n",
       "      <td>2016.00</td>\n",
       "      <td>2018.000</td>\n",
       "      <td>2019.0000</td>\n",
       "      <td>2020.0</td>\n",
       "    </tr>\n",
       "    <tr>\n",
       "      <th>Fecha_Mes</th>\n",
       "      <td>11539.0</td>\n",
       "      <td>4.570500</td>\n",
       "      <td>3.168731</td>\n",
       "      <td>1.00</td>\n",
       "      <td>1.00</td>\n",
       "      <td>4.000</td>\n",
       "      <td>7.0000</td>\n",
       "      <td>12.0</td>\n",
       "    </tr>\n",
       "    <tr>\n",
       "      <th>Fecha_Periodo</th>\n",
       "      <td>11539.0</td>\n",
       "      <td>201771.725366</td>\n",
       "      <td>177.830326</td>\n",
       "      <td>201501.00</td>\n",
       "      <td>201605.00</td>\n",
       "      <td>201801.000</td>\n",
       "      <td>201908.0000</td>\n",
       "      <td>202012.0</td>\n",
       "    </tr>\n",
       "    <tr>\n",
       "      <th>IdProducto</th>\n",
       "      <td>11539.0</td>\n",
       "      <td>42900.634890</td>\n",
       "      <td>83.539532</td>\n",
       "      <td>42737.00</td>\n",
       "      <td>42832.00</td>\n",
       "      <td>42902.000</td>\n",
       "      <td>42973.0000</td>\n",
       "      <td>43043.0</td>\n",
       "    </tr>\n",
       "    <tr>\n",
       "      <th>Cantidad</th>\n",
       "      <td>11539.0</td>\n",
       "      <td>8.826415</td>\n",
       "      <td>6.412074</td>\n",
       "      <td>1.00</td>\n",
       "      <td>4.00</td>\n",
       "      <td>7.000</td>\n",
       "      <td>12.0000</td>\n",
       "      <td>54.0</td>\n",
       "    </tr>\n",
       "    <tr>\n",
       "      <th>Precio</th>\n",
       "      <td>11172.0</td>\n",
       "      <td>3613.646813</td>\n",
       "      <td>100663.022573</td>\n",
       "      <td>1.86</td>\n",
       "      <td>306.83</td>\n",
       "      <td>463.485</td>\n",
       "      <td>1260.3225</td>\n",
       "      <td>10445800.0</td>\n",
       "    </tr>\n",
       "    <tr>\n",
       "      <th>IdProveedor</th>\n",
       "      <td>11539.0</td>\n",
       "      <td>7.533928</td>\n",
       "      <td>3.770609</td>\n",
       "      <td>1.00</td>\n",
       "      <td>4.00</td>\n",
       "      <td>8.000</td>\n",
       "      <td>11.0000</td>\n",
       "      <td>14.0</td>\n",
       "    </tr>\n",
       "  </tbody>\n",
       "</table>\n",
       "</div>"
      ],
      "text/plain": [
       "                 count           mean            std        min        25%  \\\n",
       "Fecha_Año      11539.0    2017.671549       1.770288    2015.00    2016.00   \n",
       "Fecha_Mes      11539.0       4.570500       3.168731       1.00       1.00   \n",
       "Fecha_Periodo  11539.0  201771.725366     177.830326  201501.00  201605.00   \n",
       "IdProducto     11539.0   42900.634890      83.539532   42737.00   42832.00   \n",
       "Cantidad       11539.0       8.826415       6.412074       1.00       4.00   \n",
       "Precio         11172.0    3613.646813  100663.022573       1.86     306.83   \n",
       "IdProveedor    11539.0       7.533928       3.770609       1.00       4.00   \n",
       "\n",
       "                      50%          75%         max  \n",
       "Fecha_Año        2018.000    2019.0000      2020.0  \n",
       "Fecha_Mes           4.000       7.0000        12.0  \n",
       "Fecha_Periodo  201801.000  201908.0000    202012.0  \n",
       "IdProducto      42902.000   42973.0000     43043.0  \n",
       "Cantidad            7.000      12.0000        54.0  \n",
       "Precio            463.485    1260.3225  10445800.0  \n",
       "IdProveedor         8.000      11.0000        14.0  "
      ]
     },
     "execution_count": 32,
     "metadata": {},
     "output_type": "execute_result"
    }
   ],
   "source": [
    "compra.describe().T"
   ]
  },
  {
   "cell_type": "code",
   "execution_count": 33,
   "metadata": {},
   "outputs": [
    {
     "data": {
      "image/png": "[encoded data removed]",
      "text/plain": [
       "<Figure size 432x288 with 1 Axes>"
      ]
     },
     "metadata": {},
     "output_type": "display_data"
    }
   ],
   "source": [
    "compra.boxplot(column='Precio',vert = False);"
   ]
  },
  {
   "cell_type": "code",
   "execution_count": 34,
   "metadata": {},
   "outputs": [
    {
     "data": {
      "image/png": "[encoded data removed]",
      "text/plain": [
       "<Figure size 432x288 with 1 Axes>"
      ]
     },
     "metadata": {},
     "output_type": "display_data"
    }
   ],
   "source": [
    "Q1 = compra[\"Precio\"].quantile(0.25)\n",
    "Q3 = compra[\"Precio\"].quantile(0.75)\n",
    "#Se calcula el rango intercuartilico IQR.\n",
    "IQR = Q3 -Q1\n",
    "outliersSup = (Q3 + (1.5*IQR))\n",
    "mask = compra[\"Precio\"]<outliersSup\n",
    "gastoSinOut2 = compra[mask]\n",
    "sinErrores = gastoSinOut2.shape[0]\n",
    "gastoNulos=compra.Precio.isnull().sum()\n",
    "outliers = compra.shape[0]-gastoNulos-sinErrores\n",
    "#porcentajes para graficar\n",
    "porc_ok = (sinErrores*100)/compra.shape[0]\n",
    "porc_nu = (gastoNulos*100)/compra.shape[0]\n",
    "porc_out = (outliers*100)/compra.shape[0]\n",
    "#Se cargan los datos para graficar\n",
    "datos = ['gastoNulos','sinErrores','outliers'] \n",
    "porcentaje = [porc_nu,porc_ok,porc_out] \n",
    "df = pd.DataFrame({\"Datos\": datos, \n",
    "                   \"Porcentaje\": porcentaje}) \n",
    "#Se grafica.\n",
    "sns.barplot(x='Datos', y=\"Porcentaje\", data=df)\n",
    "plt.show()"
   ]
  },
  {
   "cell_type": "code",
   "execution_count": 35,
   "metadata": {},
   "outputs": [
    {
     "data": {
      "image/png": "[encoded data removed]",
      "text/plain": [
       "<Figure size 432x288 with 1 Axes>"
      ]
     },
     "metadata": {},
     "output_type": "display_data"
    }
   ],
   "source": [
    "compra.boxplot(column='Cantidad',vert = False);"
   ]
  },
  {
   "cell_type": "code",
   "execution_count": 36,
   "metadata": {},
   "outputs": [
    {
     "data": {
      "image/png": "[encoded data removed]",
      "text/plain": [
       "<Figure size 432x288 with 1 Axes>"
      ]
     },
     "metadata": {},
     "output_type": "display_data"
    }
   ],
   "source": [
    "Q1 = compra[\"Cantidad\"].quantile(0.25)\n",
    "Q3 = compra[\"Cantidad\"].quantile(0.75)\n",
    "#Se calcula el rango intercuartilico IQR.\n",
    "IQR = Q3 -Q1\n",
    "outliersSup = (Q3 + (1.5*IQR))\n",
    "mask = compra[\"Cantidad\"]<outliersSup\n",
    "compraSinOut2 = compra[mask]\n",
    "sinErrores = compraSinOut2.shape[0]\n",
    "compraNulos=compra.Cantidad.isnull().sum()\n",
    "outliers = compra.shape[0]-compraNulos-sinErrores\n",
    "#porcentajes para graficar\n",
    "porc_ok = (sinErrores*100)/compra.shape[0]\n",
    "porc_nu = (compraNulos*100)/compra.shape[0]\n",
    "porc_out = (outliers*100)/compra.shape[0]\n",
    "#Se cargan los datos para graficar\n",
    "datos = ['compraNulos','sinErrores','outliers'] \n",
    "porcentaje = [porc_nu,porc_ok,porc_out] \n",
    "df = pd.DataFrame({\"Datos\": datos, \n",
    "                   \"Porcentaje\": porcentaje}) \n",
    "#Se grafica.\n",
    "sns.barplot(x='Datos', y=\"Porcentaje\", data=df)\n",
    "plt.show()"
   ]
  },
  {
   "cell_type": "markdown",
   "metadata": {},
   "source": [
    "### Analisis de Tabla Proveedores"
   ]
  },
  {
   "cell_type": "code",
   "execution_count": 37,
   "metadata": {},
   "outputs": [
    {
     "data": {
      "text/html": [
       "<div>\n",
       "<style scoped>\n",
       "    .dataframe tbody tr th:only-of-type {\n",
       "        vertical-align: middle;\n",
       "    }\n",
       "\n",
       "    .dataframe tbody tr th {\n",
       "        vertical-align: top;\n",
       "    }\n",
       "\n",
       "    .dataframe thead th {\n",
       "        text-align: right;\n",
       "    }\n",
       "</style>\n",
       "<table border=\"1\" class=\"dataframe\">\n",
       "  <thead>\n",
       "    <tr style=\"text-align: right;\">\n",
       "      <th></th>\n",
       "      <th>Nombre</th>\n",
       "      <th>Address</th>\n",
       "      <th>City</th>\n",
       "      <th>State</th>\n",
       "      <th>Country</th>\n",
       "      <th>departamen</th>\n",
       "    </tr>\n",
       "    <tr>\n",
       "      <th>IDProveedor</th>\n",
       "      <th></th>\n",
       "      <th></th>\n",
       "      <th></th>\n",
       "      <th></th>\n",
       "      <th></th>\n",
       "      <th></th>\n",
       "    </tr>\n",
       "  </thead>\n",
       "  <tbody>\n",
       "    <tr>\n",
       "      <th>1</th>\n",
       "      <td>NaN</td>\n",
       "      <td>BEREGUESTEIN 36</td>\n",
       "      <td>AVELLANEDA</td>\n",
       "      <td>BUENOS AIRES</td>\n",
       "      <td>ARGENTINA</td>\n",
       "      <td>AVELLANEDA</td>\n",
       "    </tr>\n",
       "    <tr>\n",
       "      <th>2</th>\n",
       "      <td>San Cirano</td>\n",
       "      <td>ALBERTI 965</td>\n",
       "      <td>CORONEL BRANDSEN</td>\n",
       "      <td>BUENOS AIRES</td>\n",
       "      <td>ARGENTINA</td>\n",
       "      <td>BRANDSEN</td>\n",
       "    </tr>\n",
       "    <tr>\n",
       "      <th>3</th>\n",
       "      <td>Bell S.A.</td>\n",
       "      <td>MORENO 331</td>\n",
       "      <td>CAMPANA</td>\n",
       "      <td>BUENOS AIRES</td>\n",
       "      <td>ARGENTINA</td>\n",
       "      <td>CAMPANA</td>\n",
       "    </tr>\n",
       "    <tr>\n",
       "      <th>4</th>\n",
       "      <td>Rivero Insumos</td>\n",
       "      <td>PTE. PERON 3872</td>\n",
       "      <td>VALENTIN ALSINA</td>\n",
       "      <td>BUENOS AIRES</td>\n",
       "      <td>ARGENTINA</td>\n",
       "      <td>LANUS</td>\n",
       "    </tr>\n",
       "    <tr>\n",
       "      <th>5</th>\n",
       "      <td>Laprida Computacion</td>\n",
       "      <td>AVDA. PEDRO PEREYRA 1339</td>\n",
       "      <td>LAPRIDA</td>\n",
       "      <td>BUENOS AIRES</td>\n",
       "      <td>ARGENTINA</td>\n",
       "      <td>LAPRIDA</td>\n",
       "    </tr>\n",
       "  </tbody>\n",
       "</table>\n",
       "</div>"
      ],
      "text/plain": [
       "                          Nombre                   Address              City  \\\n",
       "IDProveedor                                                                    \n",
       "1                            NaN           BEREGUESTEIN 36        AVELLANEDA   \n",
       "2                     San Cirano               ALBERTI 965  CORONEL BRANDSEN   \n",
       "3                      Bell S.A.                MORENO 331           CAMPANA   \n",
       "4                 Rivero Insumos           PTE. PERON 3872   VALENTIN ALSINA   \n",
       "5            Laprida Computacion  AVDA. PEDRO PEREYRA 1339           LAPRIDA   \n",
       "\n",
       "                    State    Country  departamen  \n",
       "IDProveedor                                       \n",
       "1            BUENOS AIRES  ARGENTINA  AVELLANEDA  \n",
       "2            BUENOS AIRES  ARGENTINA    BRANDSEN  \n",
       "3            BUENOS AIRES  ARGENTINA     CAMPANA  \n",
       "4            BUENOS AIRES  ARGENTINA       LANUS  \n",
       "5            BUENOS AIRES  ARGENTINA     LAPRIDA  "
      ]
     },
     "execution_count": 37,
     "metadata": {},
     "output_type": "execute_result"
    }
   ],
   "source": [
    "proveedores.head()"
   ]
  },
  {
   "cell_type": "code",
   "execution_count": 38,
   "metadata": {},
   "outputs": [
    {
     "data": {
      "text/plain": [
       "Nombre        2\n",
       "Address       0\n",
       "City          0\n",
       "State         0\n",
       "Country       0\n",
       "departamen    0\n",
       "dtype: int64"
      ]
     },
     "execution_count": 38,
     "metadata": {},
     "output_type": "execute_result"
    }
   ],
   "source": [
    "proveedores.isnull().sum()"
   ]
  },
  {
   "cell_type": "code",
   "execution_count": 39,
   "metadata": {},
   "outputs": [
    {
     "data": {
      "text/html": [
       "<div>\n",
       "<style scoped>\n",
       "    .dataframe tbody tr th:only-of-type {\n",
       "        vertical-align: middle;\n",
       "    }\n",
       "\n",
       "    .dataframe tbody tr th {\n",
       "        vertical-align: top;\n",
       "    }\n",
       "\n",
       "    .dataframe thead th {\n",
       "        text-align: right;\n",
       "    }\n",
       "</style>\n",
       "<table border=\"1\" class=\"dataframe\">\n",
       "  <thead>\n",
       "    <tr style=\"text-align: right;\">\n",
       "      <th></th>\n",
       "      <th>Features</th>\n",
       "      <th>MissingValues</th>\n",
       "      <th>MissingPercent</th>\n",
       "    </tr>\n",
       "  </thead>\n",
       "  <tbody>\n",
       "    <tr>\n",
       "      <th>0</th>\n",
       "      <td>Nombre</td>\n",
       "      <td>2</td>\n",
       "      <td>14.285714</td>\n",
       "    </tr>\n",
       "  </tbody>\n",
       "</table>\n",
       "</div>"
      ],
      "text/plain": [
       "  Features  MissingValues  MissingPercent\n",
       "0   Nombre              2       14.285714"
      ]
     },
     "execution_count": 39,
     "metadata": {},
     "output_type": "execute_result"
    },
    {
     "data": {
      "image/png": "[encoded data removed]",
      "text/plain": [
       "<Figure size 720x360 with 1 Axes>"
      ]
     },
     "metadata": {},
     "output_type": "display_data"
    }
   ],
   "source": [
    "get_missings(proveedores)"
   ]
  },
  {
   "cell_type": "markdown",
   "metadata": {},
   "source": [
    "### Analisis de Tabla Clientes"
   ]
  },
  {
   "cell_type": "code",
   "execution_count": 40,
   "metadata": {},
   "outputs": [
    {
     "data": {
      "text/html": [
       "<div>\n",
       "<style scoped>\n",
       "    .dataframe tbody tr th:only-of-type {\n",
       "        vertical-align: middle;\n",
       "    }\n",
       "\n",
       "    .dataframe tbody tr th {\n",
       "        vertical-align: top;\n",
       "    }\n",
       "\n",
       "    .dataframe thead th {\n",
       "        text-align: right;\n",
       "    }\n",
       "</style>\n",
       "<table border=\"1\" class=\"dataframe\">\n",
       "  <thead>\n",
       "    <tr style=\"text-align: right;\">\n",
       "      <th></th>\n",
       "      <th>Provincia</th>\n",
       "      <th>Nombre_y_Apellido</th>\n",
       "      <th>Domicilio</th>\n",
       "      <th>Telefono</th>\n",
       "      <th>Edad</th>\n",
       "      <th>Localidad</th>\n",
       "      <th>X</th>\n",
       "      <th>Y</th>\n",
       "      <th>col10</th>\n",
       "    </tr>\n",
       "    <tr>\n",
       "      <th>ID</th>\n",
       "      <th></th>\n",
       "      <th></th>\n",
       "      <th></th>\n",
       "      <th></th>\n",
       "      <th></th>\n",
       "      <th></th>\n",
       "      <th></th>\n",
       "      <th></th>\n",
       "      <th></th>\n",
       "    </tr>\n",
       "  </thead>\n",
       "  <tbody>\n",
       "    <tr>\n",
       "      <th>1</th>\n",
       "      <td>Buenos Aires</td>\n",
       "      <td>HEBER JONI SANTANA</td>\n",
       "      <td>LAS HERAS Y BAT. 24 DE FEBRERO 4150  RINCON DE...</td>\n",
       "      <td>42-5161</td>\n",
       "      <td>58</td>\n",
       "      <td>LOMA VERDE</td>\n",
       "      <td>-58,81850307</td>\n",
       "      <td>-34,30997088</td>\n",
       "      <td>NaN</td>\n",
       "    </tr>\n",
       "    <tr>\n",
       "      <th>2</th>\n",
       "      <td>Buenos Aires</td>\n",
       "      <td>ANA SAPRIZA</td>\n",
       "      <td>PUEYRREDON Y DUPUY RUTA3 KM 52.500 S/N  BÂº LO...</td>\n",
       "      <td>49-7578</td>\n",
       "      <td>61</td>\n",
       "      <td>SANTA ROSA</td>\n",
       "      <td>-58,73073751</td>\n",
       "      <td>-34,93908311</td>\n",
       "      <td>NaN</td>\n",
       "    </tr>\n",
       "    <tr>\n",
       "      <th>3</th>\n",
       "      <td>Buenos Aires</td>\n",
       "      <td>FERNANDO LUIS SARALEGUI</td>\n",
       "      <td>CALDERON DE LA BARCA 498</td>\n",
       "      <td>49-3435</td>\n",
       "      <td>15</td>\n",
       "      <td>TORRES</td>\n",
       "      <td>-59,12794068</td>\n",
       "      <td>-34,43082199</td>\n",
       "      <td>NaN</td>\n",
       "    </tr>\n",
       "    <tr>\n",
       "      <th>4</th>\n",
       "      <td>Buenos Aires</td>\n",
       "      <td>MANUELA SARASOLA</td>\n",
       "      <td>RUTA 36 KM 45,500 S/N  EL PELIGRO</td>\n",
       "      <td>49-2883</td>\n",
       "      <td>29</td>\n",
       "      <td>RUTA SOL</td>\n",
       "      <td>-58,14393954</td>\n",
       "      <td>-34,92052706</td>\n",
       "      <td>NaN</td>\n",
       "    </tr>\n",
       "    <tr>\n",
       "      <th>5</th>\n",
       "      <td>Buenos Aires</td>\n",
       "      <td>MARIO RAÚL SARASUA</td>\n",
       "      <td>492 Y 186 S/N  COLONIA URQUIZA</td>\n",
       "      <td>491-4608</td>\n",
       "      <td>34</td>\n",
       "      <td>JOSE MELCHOR ROMERO</td>\n",
       "      <td>-58,089381</td>\n",
       "      <td>-34,9444471</td>\n",
       "      <td>NaN</td>\n",
       "    </tr>\n",
       "  </tbody>\n",
       "</table>\n",
       "</div>"
      ],
      "text/plain": [
       "       Provincia        Nombre_y_Apellido  \\\n",
       "ID                                          \n",
       "1   Buenos Aires       HEBER JONI SANTANA   \n",
       "2   Buenos Aires              ANA SAPRIZA   \n",
       "3   Buenos Aires  FERNANDO LUIS SARALEGUI   \n",
       "4   Buenos Aires         MANUELA SARASOLA   \n",
       "5   Buenos Aires       MARIO RAÚL SARASUA   \n",
       "\n",
       "                                            Domicilio  Telefono  Edad  \\\n",
       "ID                                                                      \n",
       "1   LAS HERAS Y BAT. 24 DE FEBRERO 4150  RINCON DE...   42-5161    58   \n",
       "2   PUEYRREDON Y DUPUY RUTA3 KM 52.500 S/N  BÂº LO...   49-7578    61   \n",
       "3                            CALDERON DE LA BARCA 498   49-3435    15   \n",
       "4                   RUTA 36 KM 45,500 S/N  EL PELIGRO   49-2883    29   \n",
       "5                      492 Y 186 S/N  COLONIA URQUIZA  491-4608    34   \n",
       "\n",
       "              Localidad             X             Y  col10  \n",
       "ID                                                          \n",
       "1            LOMA VERDE  -58,81850307  -34,30997088    NaN  \n",
       "2            SANTA ROSA  -58,73073751  -34,93908311    NaN  \n",
       "3                TORRES  -59,12794068  -34,43082199    NaN  \n",
       "4              RUTA SOL  -58,14393954  -34,92052706    NaN  \n",
       "5   JOSE MELCHOR ROMERO    -58,089381   -34,9444471    NaN  "
      ]
     },
     "execution_count": 40,
     "metadata": {},
     "output_type": "execute_result"
    }
   ],
   "source": [
    "clientes.head()"
   ]
  },
  {
   "cell_type": "code",
   "execution_count": 41,
   "metadata": {},
   "outputs": [
    {
     "data": {
      "text/plain": [
       "Provincia              25\n",
       "Nombre_y_Apellido      24\n",
       "Domicilio              42\n",
       "Telefono               35\n",
       "Edad                    0\n",
       "Localidad              25\n",
       "X                      56\n",
       "Y                      54\n",
       "col10                2672\n",
       "dtype: int64"
      ]
     },
     "execution_count": 41,
     "metadata": {},
     "output_type": "execute_result"
    }
   ],
   "source": [
    "clientes.isnull().sum()"
   ]
  },
  {
   "cell_type": "code",
   "execution_count": 42,
   "metadata": {},
   "outputs": [
    {
     "data": {
      "text/html": [
       "<div>\n",
       "<style scoped>\n",
       "    .dataframe tbody tr th:only-of-type {\n",
       "        vertical-align: middle;\n",
       "    }\n",
       "\n",
       "    .dataframe tbody tr th {\n",
       "        vertical-align: top;\n",
       "    }\n",
       "\n",
       "    .dataframe thead th {\n",
       "        text-align: right;\n",
       "    }\n",
       "</style>\n",
       "<table border=\"1\" class=\"dataframe\">\n",
       "  <thead>\n",
       "    <tr style=\"text-align: right;\">\n",
       "      <th></th>\n",
       "      <th>Features</th>\n",
       "      <th>MissingValues</th>\n",
       "      <th>MissingPercent</th>\n",
       "    </tr>\n",
       "  </thead>\n",
       "  <tbody>\n",
       "    <tr>\n",
       "      <th>7</th>\n",
       "      <td>col10</td>\n",
       "      <td>2672</td>\n",
       "      <td>100.000000</td>\n",
       "    </tr>\n",
       "    <tr>\n",
       "      <th>5</th>\n",
       "      <td>X</td>\n",
       "      <td>56</td>\n",
       "      <td>2.095808</td>\n",
       "    </tr>\n",
       "    <tr>\n",
       "      <th>6</th>\n",
       "      <td>Y</td>\n",
       "      <td>54</td>\n",
       "      <td>2.020958</td>\n",
       "    </tr>\n",
       "    <tr>\n",
       "      <th>2</th>\n",
       "      <td>Domicilio</td>\n",
       "      <td>42</td>\n",
       "      <td>1.571856</td>\n",
       "    </tr>\n",
       "    <tr>\n",
       "      <th>3</th>\n",
       "      <td>Telefono</td>\n",
       "      <td>35</td>\n",
       "      <td>1.309880</td>\n",
       "    </tr>\n",
       "    <tr>\n",
       "      <th>0</th>\n",
       "      <td>Provincia</td>\n",
       "      <td>25</td>\n",
       "      <td>0.935629</td>\n",
       "    </tr>\n",
       "    <tr>\n",
       "      <th>4</th>\n",
       "      <td>Localidad</td>\n",
       "      <td>25</td>\n",
       "      <td>0.935629</td>\n",
       "    </tr>\n",
       "    <tr>\n",
       "      <th>1</th>\n",
       "      <td>Nombre_y_Apellido</td>\n",
       "      <td>24</td>\n",
       "      <td>0.898204</td>\n",
       "    </tr>\n",
       "  </tbody>\n",
       "</table>\n",
       "</div>"
      ],
      "text/plain": [
       "            Features  MissingValues  MissingPercent\n",
       "7              col10           2672      100.000000\n",
       "5                  X             56        2.095808\n",
       "6                  Y             54        2.020958\n",
       "2          Domicilio             42        1.571856\n",
       "3           Telefono             35        1.309880\n",
       "0          Provincia             25        0.935629\n",
       "4          Localidad             25        0.935629\n",
       "1  Nombre_y_Apellido             24        0.898204"
      ]
     },
     "execution_count": 42,
     "metadata": {},
     "output_type": "execute_result"
    },
    {
     "data": {
      "image/png": "[encoded data removed]",
      "text/plain": [
       "<Figure size 720x360 with 1 Axes>"
      ]
     },
     "metadata": {},
     "output_type": "display_data"
    }
   ],
   "source": [
    "get_missings(clientes)"
   ]
  },
  {
   "cell_type": "code",
   "execution_count": 43,
   "metadata": {},
   "outputs": [],
   "source": [
    "clientes_sincol = clientes.drop(columns='col10')"
   ]
  },
  {
   "cell_type": "code",
   "execution_count": 44,
   "metadata": {},
   "outputs": [
    {
     "data": {
      "text/html": [
       "<div>\n",
       "<style scoped>\n",
       "    .dataframe tbody tr th:only-of-type {\n",
       "        vertical-align: middle;\n",
       "    }\n",
       "\n",
       "    .dataframe tbody tr th {\n",
       "        vertical-align: top;\n",
       "    }\n",
       "\n",
       "    .dataframe thead th {\n",
       "        text-align: right;\n",
       "    }\n",
       "</style>\n",
       "<table border=\"1\" class=\"dataframe\">\n",
       "  <thead>\n",
       "    <tr style=\"text-align: right;\">\n",
       "      <th></th>\n",
       "      <th>Features</th>\n",
       "      <th>MissingValues</th>\n",
       "      <th>MissingPercent</th>\n",
       "    </tr>\n",
       "  </thead>\n",
       "  <tbody>\n",
       "    <tr>\n",
       "      <th>5</th>\n",
       "      <td>X</td>\n",
       "      <td>56</td>\n",
       "      <td>2.095808</td>\n",
       "    </tr>\n",
       "    <tr>\n",
       "      <th>6</th>\n",
       "      <td>Y</td>\n",
       "      <td>54</td>\n",
       "      <td>2.020958</td>\n",
       "    </tr>\n",
       "    <tr>\n",
       "      <th>2</th>\n",
       "      <td>Domicilio</td>\n",
       "      <td>42</td>\n",
       "      <td>1.571856</td>\n",
       "    </tr>\n",
       "    <tr>\n",
       "      <th>3</th>\n",
       "      <td>Telefono</td>\n",
       "      <td>35</td>\n",
       "      <td>1.309880</td>\n",
       "    </tr>\n",
       "    <tr>\n",
       "      <th>0</th>\n",
       "      <td>Provincia</td>\n",
       "      <td>25</td>\n",
       "      <td>0.935629</td>\n",
       "    </tr>\n",
       "    <tr>\n",
       "      <th>4</th>\n",
       "      <td>Localidad</td>\n",
       "      <td>25</td>\n",
       "      <td>0.935629</td>\n",
       "    </tr>\n",
       "    <tr>\n",
       "      <th>1</th>\n",
       "      <td>Nombre_y_Apellido</td>\n",
       "      <td>24</td>\n",
       "      <td>0.898204</td>\n",
       "    </tr>\n",
       "  </tbody>\n",
       "</table>\n",
       "</div>"
      ],
      "text/plain": [
       "            Features  MissingValues  MissingPercent\n",
       "5                  X             56        2.095808\n",
       "6                  Y             54        2.020958\n",
       "2          Domicilio             42        1.571856\n",
       "3           Telefono             35        1.309880\n",
       "0          Provincia             25        0.935629\n",
       "4          Localidad             25        0.935629\n",
       "1  Nombre_y_Apellido             24        0.898204"
      ]
     },
     "execution_count": 44,
     "metadata": {},
     "output_type": "execute_result"
    },
    {
     "data": {
      "image/png": "[encoded data removed]",
      "text/plain": [
       "<Figure size 720x360 with 1 Axes>"
      ]
     },
     "metadata": {},
     "output_type": "display_data"
    }
   ],
   "source": [
    "get_missings(clientes_sincol)"
   ]
  },
  {
   "cell_type": "code",
   "execution_count": 45,
   "metadata": {},
   "outputs": [
    {
     "data": {
      "text/html": [
       "<div>\n",
       "<style scoped>\n",
       "    .dataframe tbody tr th:only-of-type {\n",
       "        vertical-align: middle;\n",
       "    }\n",
       "\n",
       "    .dataframe tbody tr th {\n",
       "        vertical-align: top;\n",
       "    }\n",
       "\n",
       "    .dataframe thead th {\n",
       "        text-align: right;\n",
       "    }\n",
       "</style>\n",
       "<table border=\"1\" class=\"dataframe\">\n",
       "  <thead>\n",
       "    <tr style=\"text-align: right;\">\n",
       "      <th></th>\n",
       "      <th>Features</th>\n",
       "      <th>MissingValues</th>\n",
       "      <th>MissingPercent</th>\n",
       "    </tr>\n",
       "  </thead>\n",
       "  <tbody>\n",
       "    <tr>\n",
       "      <th>7</th>\n",
       "      <td>col10</td>\n",
       "      <td>735</td>\n",
       "      <td>100.000000</td>\n",
       "    </tr>\n",
       "    <tr>\n",
       "      <th>3</th>\n",
       "      <td>Telefono</td>\n",
       "      <td>55</td>\n",
       "      <td>7.482993</td>\n",
       "    </tr>\n",
       "    <tr>\n",
       "      <th>1</th>\n",
       "      <td>Nombre_y_Apellido</td>\n",
       "      <td>22</td>\n",
       "      <td>2.993197</td>\n",
       "    </tr>\n",
       "    <tr>\n",
       "      <th>4</th>\n",
       "      <td>Localidad</td>\n",
       "      <td>7</td>\n",
       "      <td>0.952381</td>\n",
       "    </tr>\n",
       "    <tr>\n",
       "      <th>0</th>\n",
       "      <td>Provincia</td>\n",
       "      <td>6</td>\n",
       "      <td>0.816327</td>\n",
       "    </tr>\n",
       "    <tr>\n",
       "      <th>2</th>\n",
       "      <td>Domicilio</td>\n",
       "      <td>6</td>\n",
       "      <td>0.816327</td>\n",
       "    </tr>\n",
       "    <tr>\n",
       "      <th>5</th>\n",
       "      <td>X</td>\n",
       "      <td>6</td>\n",
       "      <td>0.816327</td>\n",
       "    </tr>\n",
       "    <tr>\n",
       "      <th>6</th>\n",
       "      <td>Y</td>\n",
       "      <td>6</td>\n",
       "      <td>0.816327</td>\n",
       "    </tr>\n",
       "  </tbody>\n",
       "</table>\n",
       "</div>"
      ],
      "text/plain": [
       "            Features  MissingValues  MissingPercent\n",
       "7              col10            735      100.000000\n",
       "3           Telefono             55        7.482993\n",
       "1  Nombre_y_Apellido             22        2.993197\n",
       "4          Localidad              7        0.952381\n",
       "0          Provincia              6        0.816327\n",
       "2          Domicilio              6        0.816327\n",
       "5                  X              6        0.816327\n",
       "6                  Y              6        0.816327"
      ]
     },
     "execution_count": 45,
     "metadata": {},
     "output_type": "execute_result"
    },
    {
     "data": {
      "image/png": "[encoded data removed]",
      "text/plain": [
       "<Figure size 720x360 with 1 Axes>"
      ]
     },
     "metadata": {},
     "output_type": "display_data"
    }
   ],
   "source": [
    "get_missings(clientes2)"
   ]
  },
  {
   "cell_type": "code",
   "execution_count": 46,
   "metadata": {},
   "outputs": [],
   "source": [
    "clientes2_sincol = clientes2.drop(columns='col10')"
   ]
  },
  {
   "cell_type": "code",
   "execution_count": 47,
   "metadata": {},
   "outputs": [
    {
     "data": {
      "text/html": [
       "<div>\n",
       "<style scoped>\n",
       "    .dataframe tbody tr th:only-of-type {\n",
       "        vertical-align: middle;\n",
       "    }\n",
       "\n",
       "    .dataframe tbody tr th {\n",
       "        vertical-align: top;\n",
       "    }\n",
       "\n",
       "    .dataframe thead th {\n",
       "        text-align: right;\n",
       "    }\n",
       "</style>\n",
       "<table border=\"1\" class=\"dataframe\">\n",
       "  <thead>\n",
       "    <tr style=\"text-align: right;\">\n",
       "      <th></th>\n",
       "      <th>Features</th>\n",
       "      <th>MissingValues</th>\n",
       "      <th>MissingPercent</th>\n",
       "    </tr>\n",
       "  </thead>\n",
       "  <tbody>\n",
       "    <tr>\n",
       "      <th>3</th>\n",
       "      <td>Telefono</td>\n",
       "      <td>55</td>\n",
       "      <td>7.482993</td>\n",
       "    </tr>\n",
       "    <tr>\n",
       "      <th>1</th>\n",
       "      <td>Nombre_y_Apellido</td>\n",
       "      <td>22</td>\n",
       "      <td>2.993197</td>\n",
       "    </tr>\n",
       "    <tr>\n",
       "      <th>4</th>\n",
       "      <td>Localidad</td>\n",
       "      <td>7</td>\n",
       "      <td>0.952381</td>\n",
       "    </tr>\n",
       "    <tr>\n",
       "      <th>0</th>\n",
       "      <td>Provincia</td>\n",
       "      <td>6</td>\n",
       "      <td>0.816327</td>\n",
       "    </tr>\n",
       "    <tr>\n",
       "      <th>2</th>\n",
       "      <td>Domicilio</td>\n",
       "      <td>6</td>\n",
       "      <td>0.816327</td>\n",
       "    </tr>\n",
       "    <tr>\n",
       "      <th>5</th>\n",
       "      <td>X</td>\n",
       "      <td>6</td>\n",
       "      <td>0.816327</td>\n",
       "    </tr>\n",
       "    <tr>\n",
       "      <th>6</th>\n",
       "      <td>Y</td>\n",
       "      <td>6</td>\n",
       "      <td>0.816327</td>\n",
       "    </tr>\n",
       "  </tbody>\n",
       "</table>\n",
       "</div>"
      ],
      "text/plain": [
       "            Features  MissingValues  MissingPercent\n",
       "3           Telefono             55        7.482993\n",
       "1  Nombre_y_Apellido             22        2.993197\n",
       "4          Localidad              7        0.952381\n",
       "0          Provincia              6        0.816327\n",
       "2          Domicilio              6        0.816327\n",
       "5                  X              6        0.816327\n",
       "6                  Y              6        0.816327"
      ]
     },
     "execution_count": 47,
     "metadata": {},
     "output_type": "execute_result"
    },
    {
     "data": {
      "image/png": "[encoded data removed]",
      "text/plain": [
       "<Figure size 720x360 with 1 Axes>"
      ]
     },
     "metadata": {},
     "output_type": "display_data"
    }
   ],
   "source": [
    "get_missings(clientes2_sincol)"
   ]
  }
 ],
 "metadata": {
  "kernelspec": {
   "display_name": "Python 3.9.5 64-bit",
   "language": "python",
   "name": "python3"
  },
  "language_info": {
   "codemirror_mode": {
    "name": "ipython",
    "version": 3
   },
   "file_extension": ".py",
   "mimetype": "text/x-python",
   "name": "python",
   "nbconvert_exporter": "python",
   "pygments_lexer": "ipython3",
   "version": "3.9.5"
  },
  "orig_nbformat": 4,
  "vscode": {
   "interpreter": {
    "hash": "ecd682a52e476ba5be570f05223aacbb805de391bd0e8b880b906a66928ac761"
   }
  }
 },
 "nbformat": 4,
 "nbformat_minor": 2
}
